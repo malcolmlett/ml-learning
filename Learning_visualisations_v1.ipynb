{
  "nbformat": 4,
  "nbformat_minor": 0,
  "metadata": {
    "colab": {
      "provenance": [],
      "authorship_tag": "ABX9TyMUSUHATn7xnvdChVw23j+2",
      "include_colab_link": true
    },
    "kernelspec": {
      "name": "python3",
      "display_name": "Python 3"
    },
    "language_info": {
      "name": "python"
    }
  },
  "cells": [
    {
      "cell_type": "markdown",
      "metadata": {
        "id": "view-in-github",
        "colab_type": "text"
      },
      "source": [
        "<a href=\"https://colab.research.google.com/github/malcolmlett/ml-learning/blob/main/Learning_visualisations_v1.ipynb\" target=\"_parent\"><img src=\"https://colab.research.google.com/assets/colab-badge.svg\" alt=\"Open In Colab\"/></a>"
      ]
    },
    {
      "cell_type": "markdown",
      "source": [],
      "metadata": {
        "id": "l_VW25xLAMXV"
      }
    },
    {
      "cell_type": "markdown",
      "source": [
        "# Learning Visualisations - v1\n",
        "In this notebook I'm going to explore options for visualising the weight changes across the network as it learns. There's a number of different interesting things that we focus on for the duration of training:\n",
        "* how fast/slow the weights are getting updates?\n",
        "* what proportion of weights are getting updated?\n",
        "* is learning moving in a consistent direction or is it oscillating?\n",
        "* what's the learning rate that ADAM is currently using?\n",
        "\n",
        "For the first experiments, I'm going to focus on the issue of whether learning is oscillationg, by examining the sign of individual weight changes."
      ],
      "metadata": {
        "id": "Vi364qffAPOm"
      }
    }
  ]
}