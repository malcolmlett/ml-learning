{
  "nbformat": 4,
  "nbformat_minor": 0,
  "metadata": {
    "colab": {
      "provenance": [],
      "authorship_tag": "ABX9TyNIZx/Ftsazs32v1HmqYJhF",
      "include_colab_link": true
    },
    "kernelspec": {
      "name": "python3",
      "display_name": "Python 3"
    },
    "language_info": {
      "name": "python"
    }
  },
  "cells": [
    {
      "cell_type": "markdown",
      "metadata": {
        "id": "view-in-github",
        "colab_type": "text"
      },
      "source": [
        "<a href=\"https://colab.research.google.com/github/malcolmlett/ml-learning/blob/feature%2F20250110-explain-near-zero-grads/Learning_visualisations_v10a_MatMulExplainer.ipynb\" target=\"_parent\"><img src=\"https://colab.research.google.com/assets/colab-badge.svg\" alt=\"Open In Colab\"/></a>"
      ]
    },
    {
      "cell_type": "markdown",
      "source": [
        "# Matrix Multiplication explainer\n",
        "A tool for explaining the output value from matrix multiplication, particularly for near-zero outputs."
      ],
      "metadata": {
        "id": "C6TUTcWzzdat"
      }
    },
    {
      "cell_type": "code",
      "source": [
        "import os\n",
        "if os.path.isdir('repo'):\n",
        "  # discard any local changes and update\n",
        "  !cd repo && git reset --hard HEAD\n",
        "  !cd repo && git fetch\n",
        "else:\n",
        "  !git clone https://github.com/malcolmlett/ml-learning.git repo\n",
        "\n",
        "# lock to revision\n",
        "#!cd repo && git checkout ea80c40\n",
        "!cd repo && git pull\n",
        "\n",
        "import sys\n",
        "sys.path.append('repo')\n",
        "\n",
        "import matmul_explainer\n",
        "from importlib import reload\n",
        "reload(matmul_explainer)"
      ],
      "metadata": {
        "id": "69nw0TbzLIaY"
      },
      "execution_count": null,
      "outputs": []
    },
    {
      "cell_type": "code",
      "source": [
        "import numpy as np"
      ],
      "metadata": {
        "id": "lwN8BK1I0wzZ"
      },
      "execution_count": 1,
      "outputs": []
    },
    {
      "cell_type": "code",
      "source": [
        "def classify_terms():\n",
        "  return ['PP', 'PZ', 'PN', 'ZP', 'ZZ', 'ZN', 'NP', 'NZ', 'NN']\n",
        "\n",
        "def matmul_classify(x1, x2, confidence: float=0.95, threshold1: float = None, threshold2: float = None):\n",
        "  \"\"\"\n",
        "  Calculates how the dot-product of x1 . x2 comes to have the range of values that it does.\n",
        "\n",
        "  For each computation of an output cell, both sets of inputs are independently grouped\n",
        "  into those that are near-zero (Z), positive at or above threshold (P), and negative at or below threshold (N).\n",
        "  The output cell value is then defined as the sum of the combinations of those groups, with 9 combinations\n",
        "  in total, in the following fixed order: PP, PZ, PN, ZP, ZZ, ZN, NP, NZ, NN.\n",
        "\n",
        "  The counts and sums of each component are returned as separate tensors.\n",
        "  The original matmul result for any given output cell is given by simply\n",
        "  summing the sums of each category:\n",
        "    sum(PP) + sum(PZ) + sum(PN) + ... sum(NN)\n",
        "  For the entire result this can be computed via:\n",
        "    output = np.sum(sums, axis=-1)\n",
        "\n",
        "  \"Near zero\" is defined as any value having an absolute value less than or equal a threshold.\n",
        "  By default, the threshold is determined by taking the (1 - zero_confidence) percentile level across each\n",
        "  of the separate inputs. Alternatively, an absolute magnitude threshold may be specified for\n",
        "  any of the inputs.\n",
        "\n",
        "  Example usage:\n",
        "  >>> a = np.tile(np.arange(0.0, 1.0, 0.1), (10,1))\n",
        "  >>> counts, sums = matmul_classify(a, a, confidence=0.75)\n",
        "  >>> for i, name in enumerate(classify_terms()):\n",
        "  >>>   if np.sum(counts[:,:,i]) > 0:\n",
        "  >>>     print(f\"Counts({name}): {counts[:,:,i]}\")\n",
        "  >>> for i, name in enumerate(classify_terms()):\n",
        "  >>>   if np.sum(counts[:,:,i]) > 0:\n",
        "  >>>     print(f\"Sums({name}): {sums[:,:,i]}\")\n",
        "  >>> print(f\"True matmul: {np.matmul(a, a)}\")\n",
        "  >>> print(f\"Derived matmul: {np.sum(sums, axis=-1)}\")\n",
        "\n",
        "  Args:\n",
        "    x1: np-array or tensor with shape (n, k)\n",
        "    x2: np-array or tensor with shape (k, m)\n",
        "    confidence: statistical confidence (0.0 to 1.0) that you wish to meet\n",
        "      that a value is accurately placed within the P, Z, or N categories.\n",
        "      Higher values lead to more strict requirements for \"near zero\".\n",
        "      1.0 only considers exactly 0.0 as \"near zero\".\n",
        "    threshold1: abs(X1) values less than or equal this are considered near-zero\n",
        "    threshold2: abs(X2) values less than or equal this are considered near-zero\n",
        "\n",
        "  Returns:\n",
        "    (counts, sums) where each is an np-array with shape (n, m, 9)\n",
        "  \"\"\"\n",
        "\n",
        "  # standardise on data format\n",
        "  x1 = np.array(x1)\n",
        "  x2 = np.array(x2)\n",
        "\n",
        "  # determine thresholds\n",
        "  # (note: on small matrices with few discrete numbers, np.percentile will find a value <= percentile_level,\n",
        "  #  so subsequently we need to use this threshold via the rule \"zero if value <= threshold\", otherwise we might\n",
        "  #  miss values on the threshold that are still < percentile_level.)\n",
        "  if threshold1 is None:\n",
        "    threshold1 = np.percentile(np.abs(x1), 100*(1-confidence))\n",
        "  if threshold2 is None:\n",
        "    threshold2 = np.percentile(np.abs(x2), 100*(1-confidence))\n",
        "  print(f\"X1 threshold: {threshold1}\")\n",
        "  print(f\"X2 threshold: {threshold2}\")\n",
        "\n",
        "  # create masks that classify each input individually\n",
        "  x1_p = x1 > threshold1\n",
        "  x1_z = np.abs(x1) <= threshold1\n",
        "  x1_n = x1 < -threshold1\n",
        "\n",
        "  x2_p = x2 > threshold2\n",
        "  x2_z = np.abs(x2) <= threshold2\n",
        "  x2_n = x2 < -threshold2\n",
        "\n",
        "  #print(f\"X1_p: {x1_p}\")\n",
        "  #print(f\"X1_z: {x1_z}\")\n",
        "  #print(f\"X1_n: {x1_n}\")\n",
        "\n",
        "  #print(f\"X2_p: {x2_p}\")\n",
        "  #print(f\"X2_z: {x2_z}\")\n",
        "  #print(f\"X2_n: {x2_n}\")\n",
        "\n",
        "  # compute counts\n",
        "  counts = np.zeros((x1.shape[0], x2.shape[1], 9), dtype=int)\n",
        "  sums = np.zeros((x1.shape[0], x2.shape[1], 9), dtype=np.result_type(x1.dtype, x2.dtype))\n",
        "\n",
        "  counts[:, :, 0] = np.matmul(x1_p.astype(int), x2_p.astype(int))\n",
        "  counts[:, :, 1] = np.matmul(x1_p.astype(int), x2_z.astype(int))\n",
        "  counts[:, :, 2] = np.matmul(x1_p.astype(int), x2_n.astype(int))\n",
        "  counts[:, :, 3] = np.matmul(x1_z.astype(int), x2_p.astype(int))\n",
        "  counts[:, :, 4] = np.matmul(x1_z.astype(int), x2_z.astype(int))\n",
        "  counts[:, :, 5] = np.matmul(x1_z.astype(int), x2_n.astype(int))\n",
        "  counts[:, :, 6] = np.matmul(x1_n.astype(int), x2_p.astype(int))\n",
        "  counts[:, :, 7] = np.matmul(x1_n.astype(int), x2_z.astype(int))\n",
        "  counts[:, :, 8] = np.matmul(x1_n.astype(int), x2_n.astype(int))\n",
        "\n",
        "  sums[:, :, 0] = np.matmul(x1 * x1_p, x2 * x2_p)\n",
        "  sums[:, :, 1] = np.matmul(x1 * x1_p, x2 * x2_z)\n",
        "  sums[:, :, 2] = np.matmul(x1 * x1_p, x2 * x2_n)\n",
        "  sums[:, :, 3] = np.matmul(x1 * x1_z, x2 * x2_p)\n",
        "  sums[:, :, 4] = np.matmul(x1 * x1_z, x2 * x2_z)\n",
        "  sums[:, :, 5] = np.matmul(x1 * x1_z, x2 * x2_n)\n",
        "  sums[:, :, 6] = np.matmul(x1 * x1_n, x2 * x2_p)\n",
        "  sums[:, :, 7] = np.matmul(x1 * x1_n, x2 * x2_z)\n",
        "  sums[:, :, 8] = np.matmul(x1 * x1_n, x2 * x2_n)\n",
        "\n",
        "  return counts, sums\n",
        "\n",
        "# test data\n",
        "a = np.arange(0.0, 1.0, 0.1)\n",
        "a = np.tile(a, (10,1))\n",
        "print(f\"a: {a}\")\n",
        "\n",
        "counts, sums = matmul_classify(a, a, confidence=0.75)\n",
        "\n",
        "for i, name in enumerate(classify_terms()):\n",
        "  if np.sum(counts[:,:,i]) > 0:\n",
        "    print(f\"Counts({name}): {counts[:,:,i]}\")\n",
        "for i, name in enumerate(classify_terms()):\n",
        "  if np.sum(counts[:,:,i]) > 0:\n",
        "    print(f\"Sums({name}): {sums[:,:,i]}\")\n",
        "\n",
        "print(f\"counts by dim: {np.sum(counts, axis=(0,1))}\")\n",
        "\n",
        "print(f\"True matmul: {np.matmul(a, a)}\")\n",
        "print(f\"Derived matmul: {np.sum(sums, axis=-1)}\")\n",
        "np.allclose(np.matmul(a, a), np.sum(sums, axis=-1))\n"
      ],
      "metadata": {
        "colab": {
          "base_uri": "https://localhost:8080/"
        },
        "id": "wgGa5oWrzw4N",
        "outputId": "5550b86e-a10b-4cd6-aec1-6c81b3f463d7"
      },
      "execution_count": 46,
      "outputs": [
        {
          "output_type": "stream",
          "name": "stdout",
          "text": [
            "a: [[0.  0.1 0.2 0.3 0.4 0.5 0.6 0.7 0.8 0.9]\n",
            " [0.  0.1 0.2 0.3 0.4 0.5 0.6 0.7 0.8 0.9]\n",
            " [0.  0.1 0.2 0.3 0.4 0.5 0.6 0.7 0.8 0.9]\n",
            " [0.  0.1 0.2 0.3 0.4 0.5 0.6 0.7 0.8 0.9]\n",
            " [0.  0.1 0.2 0.3 0.4 0.5 0.6 0.7 0.8 0.9]\n",
            " [0.  0.1 0.2 0.3 0.4 0.5 0.6 0.7 0.8 0.9]\n",
            " [0.  0.1 0.2 0.3 0.4 0.5 0.6 0.7 0.8 0.9]\n",
            " [0.  0.1 0.2 0.3 0.4 0.5 0.6 0.7 0.8 0.9]\n",
            " [0.  0.1 0.2 0.3 0.4 0.5 0.6 0.7 0.8 0.9]\n",
            " [0.  0.1 0.2 0.3 0.4 0.5 0.6 0.7 0.8 0.9]]\n",
            "X1 threshold: 0.2\n",
            "X2 threshold: 0.2\n",
            "Counts(PP): [[0 0 0 7 7 7 7 7 7 7]\n",
            " [0 0 0 7 7 7 7 7 7 7]\n",
            " [0 0 0 7 7 7 7 7 7 7]\n",
            " [0 0 0 7 7 7 7 7 7 7]\n",
            " [0 0 0 7 7 7 7 7 7 7]\n",
            " [0 0 0 7 7 7 7 7 7 7]\n",
            " [0 0 0 7 7 7 7 7 7 7]\n",
            " [0 0 0 7 7 7 7 7 7 7]\n",
            " [0 0 0 7 7 7 7 7 7 7]\n",
            " [0 0 0 7 7 7 7 7 7 7]]\n",
            "Counts(PZ): [[7 7 7 0 0 0 0 0 0 0]\n",
            " [7 7 7 0 0 0 0 0 0 0]\n",
            " [7 7 7 0 0 0 0 0 0 0]\n",
            " [7 7 7 0 0 0 0 0 0 0]\n",
            " [7 7 7 0 0 0 0 0 0 0]\n",
            " [7 7 7 0 0 0 0 0 0 0]\n",
            " [7 7 7 0 0 0 0 0 0 0]\n",
            " [7 7 7 0 0 0 0 0 0 0]\n",
            " [7 7 7 0 0 0 0 0 0 0]\n",
            " [7 7 7 0 0 0 0 0 0 0]]\n",
            "Counts(ZP): [[0 0 0 3 3 3 3 3 3 3]\n",
            " [0 0 0 3 3 3 3 3 3 3]\n",
            " [0 0 0 3 3 3 3 3 3 3]\n",
            " [0 0 0 3 3 3 3 3 3 3]\n",
            " [0 0 0 3 3 3 3 3 3 3]\n",
            " [0 0 0 3 3 3 3 3 3 3]\n",
            " [0 0 0 3 3 3 3 3 3 3]\n",
            " [0 0 0 3 3 3 3 3 3 3]\n",
            " [0 0 0 3 3 3 3 3 3 3]\n",
            " [0 0 0 3 3 3 3 3 3 3]]\n",
            "Counts(ZZ): [[3 3 3 0 0 0 0 0 0 0]\n",
            " [3 3 3 0 0 0 0 0 0 0]\n",
            " [3 3 3 0 0 0 0 0 0 0]\n",
            " [3 3 3 0 0 0 0 0 0 0]\n",
            " [3 3 3 0 0 0 0 0 0 0]\n",
            " [3 3 3 0 0 0 0 0 0 0]\n",
            " [3 3 3 0 0 0 0 0 0 0]\n",
            " [3 3 3 0 0 0 0 0 0 0]\n",
            " [3 3 3 0 0 0 0 0 0 0]\n",
            " [3 3 3 0 0 0 0 0 0 0]]\n",
            "Sums(PP): [[0.   0.   0.   1.26 1.68 2.1  2.52 2.94 3.36 3.78]\n",
            " [0.   0.   0.   1.26 1.68 2.1  2.52 2.94 3.36 3.78]\n",
            " [0.   0.   0.   1.26 1.68 2.1  2.52 2.94 3.36 3.78]\n",
            " [0.   0.   0.   1.26 1.68 2.1  2.52 2.94 3.36 3.78]\n",
            " [0.   0.   0.   1.26 1.68 2.1  2.52 2.94 3.36 3.78]\n",
            " [0.   0.   0.   1.26 1.68 2.1  2.52 2.94 3.36 3.78]\n",
            " [0.   0.   0.   1.26 1.68 2.1  2.52 2.94 3.36 3.78]\n",
            " [0.   0.   0.   1.26 1.68 2.1  2.52 2.94 3.36 3.78]\n",
            " [0.   0.   0.   1.26 1.68 2.1  2.52 2.94 3.36 3.78]\n",
            " [0.   0.   0.   1.26 1.68 2.1  2.52 2.94 3.36 3.78]]\n",
            "Sums(PZ): [[0.   0.42 0.84 0.   0.   0.   0.   0.   0.   0.  ]\n",
            " [0.   0.42 0.84 0.   0.   0.   0.   0.   0.   0.  ]\n",
            " [0.   0.42 0.84 0.   0.   0.   0.   0.   0.   0.  ]\n",
            " [0.   0.42 0.84 0.   0.   0.   0.   0.   0.   0.  ]\n",
            " [0.   0.42 0.84 0.   0.   0.   0.   0.   0.   0.  ]\n",
            " [0.   0.42 0.84 0.   0.   0.   0.   0.   0.   0.  ]\n",
            " [0.   0.42 0.84 0.   0.   0.   0.   0.   0.   0.  ]\n",
            " [0.   0.42 0.84 0.   0.   0.   0.   0.   0.   0.  ]\n",
            " [0.   0.42 0.84 0.   0.   0.   0.   0.   0.   0.  ]\n",
            " [0.   0.42 0.84 0.   0.   0.   0.   0.   0.   0.  ]]\n",
            "Sums(ZP): [[0.   0.   0.   0.09 0.12 0.15 0.18 0.21 0.24 0.27]\n",
            " [0.   0.   0.   0.09 0.12 0.15 0.18 0.21 0.24 0.27]\n",
            " [0.   0.   0.   0.09 0.12 0.15 0.18 0.21 0.24 0.27]\n",
            " [0.   0.   0.   0.09 0.12 0.15 0.18 0.21 0.24 0.27]\n",
            " [0.   0.   0.   0.09 0.12 0.15 0.18 0.21 0.24 0.27]\n",
            " [0.   0.   0.   0.09 0.12 0.15 0.18 0.21 0.24 0.27]\n",
            " [0.   0.   0.   0.09 0.12 0.15 0.18 0.21 0.24 0.27]\n",
            " [0.   0.   0.   0.09 0.12 0.15 0.18 0.21 0.24 0.27]\n",
            " [0.   0.   0.   0.09 0.12 0.15 0.18 0.21 0.24 0.27]\n",
            " [0.   0.   0.   0.09 0.12 0.15 0.18 0.21 0.24 0.27]]\n",
            "Sums(ZZ): [[0.   0.03 0.06 0.   0.   0.   0.   0.   0.   0.  ]\n",
            " [0.   0.03 0.06 0.   0.   0.   0.   0.   0.   0.  ]\n",
            " [0.   0.03 0.06 0.   0.   0.   0.   0.   0.   0.  ]\n",
            " [0.   0.03 0.06 0.   0.   0.   0.   0.   0.   0.  ]\n",
            " [0.   0.03 0.06 0.   0.   0.   0.   0.   0.   0.  ]\n",
            " [0.   0.03 0.06 0.   0.   0.   0.   0.   0.   0.  ]\n",
            " [0.   0.03 0.06 0.   0.   0.   0.   0.   0.   0.  ]\n",
            " [0.   0.03 0.06 0.   0.   0.   0.   0.   0.   0.  ]\n",
            " [0.   0.03 0.06 0.   0.   0.   0.   0.   0.   0.  ]\n",
            " [0.   0.03 0.06 0.   0.   0.   0.   0.   0.   0.  ]]\n",
            "counts by dim: [490 210   0 210  90   0   0   0   0]\n",
            "True matmul: [[0.   0.45 0.9  1.35 1.8  2.25 2.7  3.15 3.6  4.05]\n",
            " [0.   0.45 0.9  1.35 1.8  2.25 2.7  3.15 3.6  4.05]\n",
            " [0.   0.45 0.9  1.35 1.8  2.25 2.7  3.15 3.6  4.05]\n",
            " [0.   0.45 0.9  1.35 1.8  2.25 2.7  3.15 3.6  4.05]\n",
            " [0.   0.45 0.9  1.35 1.8  2.25 2.7  3.15 3.6  4.05]\n",
            " [0.   0.45 0.9  1.35 1.8  2.25 2.7  3.15 3.6  4.05]\n",
            " [0.   0.45 0.9  1.35 1.8  2.25 2.7  3.15 3.6  4.05]\n",
            " [0.   0.45 0.9  1.35 1.8  2.25 2.7  3.15 3.6  4.05]\n",
            " [0.   0.45 0.9  1.35 1.8  2.25 2.7  3.15 3.6  4.05]\n",
            " [0.   0.45 0.9  1.35 1.8  2.25 2.7  3.15 3.6  4.05]]\n",
            "Derived matmul: [[0.   0.45 0.9  1.35 1.8  2.25 2.7  3.15 3.6  4.05]\n",
            " [0.   0.45 0.9  1.35 1.8  2.25 2.7  3.15 3.6  4.05]\n",
            " [0.   0.45 0.9  1.35 1.8  2.25 2.7  3.15 3.6  4.05]\n",
            " [0.   0.45 0.9  1.35 1.8  2.25 2.7  3.15 3.6  4.05]\n",
            " [0.   0.45 0.9  1.35 1.8  2.25 2.7  3.15 3.6  4.05]\n",
            " [0.   0.45 0.9  1.35 1.8  2.25 2.7  3.15 3.6  4.05]\n",
            " [0.   0.45 0.9  1.35 1.8  2.25 2.7  3.15 3.6  4.05]\n",
            " [0.   0.45 0.9  1.35 1.8  2.25 2.7  3.15 3.6  4.05]\n",
            " [0.   0.45 0.9  1.35 1.8  2.25 2.7  3.15 3.6  4.05]\n",
            " [0.   0.45 0.9  1.35 1.8  2.25 2.7  3.15 3.6  4.05]]\n"
          ]
        },
        {
          "output_type": "execute_result",
          "data": {
            "text/plain": [
              "True"
            ]
          },
          "metadata": {},
          "execution_count": 46
        }
      ]
    },
    {
      "cell_type": "code",
      "source": [
        "a = np.array([\n",
        "    [True, True, True],\n",
        "    [True, True, False],\n",
        "    [True, False, False]\n",
        "])\n",
        "\n",
        "np.matmul(a.astype(int), a.astype(int))"
      ],
      "metadata": {
        "colab": {
          "base_uri": "https://localhost:8080/"
        },
        "id": "sq-AqqAU9n0P",
        "outputId": "36452a29-dcad-4db5-f05d-3381a0e750e3"
      },
      "execution_count": 20,
      "outputs": [
        {
          "output_type": "execute_result",
          "data": {
            "text/plain": [
              "array([[3, 2, 1],\n",
              "       [2, 2, 1],\n",
              "       [1, 1, 1]])"
            ]
          },
          "metadata": {},
          "execution_count": 20
        }
      ]
    },
    {
      "cell_type": "code",
      "source": [
        "np.sum(np.array([0.1, 0.2, 0.3, 0.4, 0.5, 0.6, 0.7, 0.8, 0.9]))"
      ],
      "metadata": {
        "colab": {
          "base_uri": "https://localhost:8080/"
        },
        "id": "bXVNUtQc0vii",
        "outputId": "b793a045-6e79-4ad1-fceb-cd51e7d45455"
      },
      "execution_count": 37,
      "outputs": [
        {
          "output_type": "execute_result",
          "data": {
            "text/plain": [
              "4.5"
            ]
          },
          "metadata": {},
          "execution_count": 37
        }
      ]
    },
    {
      "cell_type": "code",
      "source": [
        "np.sum(np.array([0.3, 0.4, 0.5, 0.6, 0.7, 0.8, 0.9]))"
      ],
      "metadata": {
        "colab": {
          "base_uri": "https://localhost:8080/"
        },
        "id": "91SIFkyHEPso",
        "outputId": "bbc75fa5-f559-48a1-a6c8-2b938b756b71"
      },
      "execution_count": 38,
      "outputs": [
        {
          "output_type": "execute_result",
          "data": {
            "text/plain": [
              "4.2"
            ]
          },
          "metadata": {},
          "execution_count": 38
        }
      ]
    },
    {
      "cell_type": "code",
      "source": [],
      "metadata": {
        "id": "ZmJEnMBjE5IE"
      },
      "execution_count": null,
      "outputs": []
    }
  ]
}