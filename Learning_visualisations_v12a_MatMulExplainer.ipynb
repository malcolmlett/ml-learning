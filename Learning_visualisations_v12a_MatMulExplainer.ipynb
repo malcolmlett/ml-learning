{
  "nbformat": 4,
  "nbformat_minor": 0,
  "metadata": {
    "colab": {
      "provenance": [],
      "authorship_tag": "ABX9TyOXQkSlf43V2dt5ZPVSCJGY",
      "include_colab_link": true
    },
    "kernelspec": {
      "name": "python3",
      "display_name": "Python 3"
    },
    "language_info": {
      "name": "python"
    }
  },
  "cells": [
    {
      "cell_type": "markdown",
      "metadata": {
        "id": "view-in-github",
        "colab_type": "text"
      },
      "source": [
        "<a href=\"https://colab.research.google.com/github/malcolmlett/ml-learning/blob/main/Learning_visualisations_v12a_MatMulExplainer.ipynb\" target=\"_parent\"><img src=\"https://colab.research.google.com/assets/colab-badge.svg\" alt=\"Open In Colab\"/></a>"
      ]
    },
    {
      "cell_type": "markdown",
      "source": [
        "# Matrix Multiplication explainer\n",
        "A tool for explaining the output value from matrix multiplication, particularly for near-zero outputs."
      ],
      "metadata": {
        "id": "C6TUTcWzzdat"
      }
    },
    {
      "cell_type": "code",
      "source": [
        "import os\n",
        "if os.path.isdir('repo'):\n",
        "  # discard any local changes and update\n",
        "  !cd repo && git reset --hard HEAD\n",
        "  !cd repo && git fetch\n",
        "else:\n",
        "  !git clone https://github.com/malcolmlett/ml-learning.git repo\n",
        "\n",
        "# lock to revision\n",
        "#!cd repo && git checkout ea80c40\n",
        "!cd repo && git pull\n",
        "\n",
        "import sys\n",
        "sys.path.append('repo')\n",
        "\n",
        "import matmul_explainer as me\n",
        "from importlib import reload\n",
        "reload(me)"
      ],
      "metadata": {
        "id": "69nw0TbzLIaY",
        "colab": {
          "base_uri": "https://localhost:8080/"
        },
        "outputId": "03668696-2884-4a4f-db94-3043b9418f15"
      },
      "execution_count": 37,
      "outputs": [
        {
          "output_type": "stream",
          "name": "stdout",
          "text": [
            "HEAD is now at db39277 Bug fixes and additional unit test scenarios\n",
            "remote: Enumerating objects: 5, done.\u001b[K\n",
            "remote: Counting objects: 100% (5/5), done.\u001b[K\n",
            "remote: Compressing objects: 100% (1/1), done.\u001b[K\n",
            "remote: Total 3 (delta 2), reused 3 (delta 2), pack-reused 0 (from 0)\u001b[K\n",
            "Unpacking objects: 100% (3/3), 287 bytes | 143.00 KiB/s, done.\n",
            "From https://github.com/malcolmlett/ml-learning\n",
            "   db39277..fdc460c  main       -> origin/main\n",
            "Updating db39277..fdc460c\n",
            "Fast-forward\n",
            " matmul_explainer.py | 2 \u001b[32m+\u001b[m\u001b[31m-\u001b[m\n",
            " 1 file changed, 1 insertion(+), 1 deletion(-)\n"
          ]
        },
        {
          "output_type": "execute_result",
          "data": {
            "text/plain": [
              "<module 'matmul_explainer' from '/content/repo/matmul_explainer.py'>"
            ]
          },
          "metadata": {},
          "execution_count": 37
        }
      ]
    },
    {
      "cell_type": "code",
      "source": [
        "import matmul_explainer_test\n",
        "reload(matmul_explainer_test)\n",
        "matmul_explainer_test.run_test_suite()"
      ],
      "metadata": {
        "id": "Xq_8cKvSL9Qr",
        "colab": {
          "base_uri": "https://localhost:8080/"
        },
        "outputId": "5abc4820-1986-43a3-d291-158400bcef11"
      },
      "execution_count": 30,
      "outputs": [
        {
          "output_type": "stream",
          "name": "stdout",
          "text": [
            "All matmul_explainer tests passed.\n"
          ]
        }
      ]
    },
    {
      "cell_type": "code",
      "source": [
        "import numpy as np\n",
        "import tensorflow as tf\n",
        "import tensorflow_probability as tfp\n",
        "import math"
      ],
      "metadata": {
        "id": "YMXtZuwVLoli"
      },
      "execution_count": 3,
      "outputs": []
    },
    {
      "cell_type": "markdown",
      "source": [
        "## Classification\n",
        "First we need to be able to classify the components that make up the matrix multiplication results.\n",
        "\n",
        "We do that with a number of functions:\n",
        "\n",
        "```\n",
        "def classify_terms():\n",
        "  return ['PP', 'PZ', 'PN', 'ZP', 'ZZ', 'ZN', 'NP', 'NZ', 'NN']\n",
        "\n",
        "def matmul_classify(x1, x2, confidence: float=0.95, threshold1: float = None, threshold2: float = None):\n",
        " ...\n",
        " return counts, sums\n",
        "```\n"
      ],
      "metadata": {
        "id": "v2uUPY0uNb3b"
      }
    },
    {
      "cell_type": "code",
      "source": [
        "# Standard ordered terms\n",
        "print(f\"Terms: {me.classify_terms()}\")"
      ],
      "metadata": {
        "colab": {
          "base_uri": "https://localhost:8080/"
        },
        "id": "7gDZtNPjN--w",
        "outputId": "5abaccfb-0c74-435b-ff2d-3fd32fe88642"
      },
      "execution_count": 4,
      "outputs": [
        {
          "output_type": "stream",
          "name": "stdout",
          "text": [
            "Terms: ['PP', 'PZ', 'PN', 'ZP', 'ZZ', 'ZN', 'NP', 'NZ', 'NN']\n"
          ]
        }
      ]
    },
    {
      "cell_type": "code",
      "source": [
        "# Check that the summarisation API works under a number of usages:\n",
        "reload(me)\n",
        "a = np.arange(0.0, 1.0, 0.1)\n",
        "a = np.tile(a, (10,1))\n",
        "counts, sums = me.matmul_classify(a, a, confidence=0.75)\n",
        "\n",
        "print(f\"Summary when passed counts and sums separately:\\n  {me.summarise(counts, sums)}\")\n",
        "print(f\"Summary when passed counts and sums directly from classification:\\n  {me.summarise(me.matmul_classify(a, a, confidence=0.75))}\")\n"
      ],
      "metadata": {
        "colab": {
          "base_uri": "https://localhost:8080/"
        },
        "id": "QLetu9VK0CM0",
        "outputId": "76c9e4a3-72c6-47fa-ae96-b82920d97edf"
      },
      "execution_count": 5,
      "outputs": [
        {
          "output_type": "stream",
          "name": "stdout",
          "text": [
            "Summary when passed counts and sums separately:\n",
            "  PP: 640 = 193.6, ZP: 160 = 4.399999999999999, PZ: 160 = 4.4, ZZ: 40 = 0.10000000000000003\n",
            "Summary when passed counts and sums directly from classification:\n",
            "  PP: 640 = 193.6, ZP: 160 = 4.399999999999999, PZ: 160 = 4.4, ZZ: 40 = 0.10000000000000003\n"
          ]
        }
      ]
    },
    {
      "cell_type": "code",
      "source": [
        "# Show how the values within tensors get classified\n",
        "def show_classification_results(x, confidence):\n",
        "  p, z, n, t = me.classification_mask(x, confidence=confidence)\n",
        "  print(f\"classification results for {x} @ {confidence}:\")\n",
        "  print(f\"  threshold: {t}\")\n",
        "  print(f\"  p: {p}\")\n",
        "  print(f\"  z: {z}\")\n",
        "  print(f\"  n: {n}\")\n",
        "\n",
        "a = np.array([0.0, 0.1, 0.2, 0.3, 0.4, 0.5, 0.6, 0.7, 0.8, 0.9])\n",
        "show_classification_results(a, confidence=0.75)\n",
        "\n",
        "a = np.array([-0.5, 0, -0.5])\n",
        "show_classification_results(a, confidence=0.75)\n",
        "\n",
        "a = np.array([-0.5, 0.25, 0, 0.25, -0.5])\n",
        "show_classification_results(a, confidence=0.95)"
      ],
      "metadata": {
        "colab": {
          "base_uri": "https://localhost:8080/"
        },
        "id": "g7S8bSis5UyZ",
        "outputId": "ceb30c66-bebe-4f7e-83f7-b62f57975b66"
      },
      "execution_count": 31,
      "outputs": [
        {
          "output_type": "stream",
          "name": "stdout",
          "text": [
            "classification results for [0.  0.1 0.2 0.3 0.4 0.5 0.6 0.7 0.8 0.9] @ 0.75:\n",
            "  threshold: 0.25\n",
            "  p: [False False False  True  True  True  True  True  True  True]\n",
            "  z: [ True  True  True False False False False False False False]\n",
            "  n: [False False False False False False False False False False]\n",
            "classification results for [-0.5  0.  -0.5] @ 0.75:\n",
            "  threshold: 0.25\n",
            "  p: [False False False]\n",
            "  z: [False  True False]\n",
            "  n: [ True False  True]\n",
            "classification results for [-0.5   0.25  0.    0.25 -0.5 ] @ 0.95:\n",
            "  threshold: 0.125\n",
            "  p: [False  True False  True False]\n",
            "  z: [False False  True False False]\n",
            "  n: [ True False False False  True]\n"
          ]
        }
      ]
    },
    {
      "cell_type": "code",
      "source": [
        "# Simple 2D matmul explanation\n",
        "reload(me)\n",
        "a = np.arange(0.0, 1.0, 0.1)\n",
        "a = np.tile(a, (10,1))\n",
        "print(f\"a = b = {a}\")\n",
        "\n",
        "counts, sums = me.matmul_classify(a, a, confidence=0.75)\n",
        "\n",
        "print()\n",
        "print(\"Details...\")\n",
        "for i, name in enumerate(me.classify_terms()):\n",
        "  if np.sum(counts[:,:,i]) > 0:\n",
        "    print(f\"Counts({name}): {counts[:,:,i]}\")\n",
        "for i, name in enumerate(me.classify_terms()):\n",
        "  if np.sum(counts[:,:,i]) > 0:\n",
        "    print(f\"Sums({name}): {sums[:,:,i]}\")\n",
        "\n",
        "print()\n",
        "print(\"Summary...\")\n",
        "print(f\"Classes: {me.classify_terms()}\")\n",
        "print(f\"Counts by class: {np.sum(counts, axis=(0,1))}\")\n",
        "print(f\"Sums by class: {np.sum(sums, axis=(0,1))}\")\n",
        "print(f\"Summary: {me.summarise(counts, sums)}\")\n",
        "\n",
        "print()\n",
        "print(\"Validation...\")\n",
        "print(f\"True matmul: {np.matmul(a, a)}\")\n",
        "print(f\"Derived matmul: {np.sum(sums, axis=-1)}\")\n"
      ],
      "metadata": {
        "colab": {
          "base_uri": "https://localhost:8080/"
        },
        "id": "wgGa5oWrzw4N",
        "outputId": "33dc6933-f6ba-412c-f7f6-fa1fb3259886"
      },
      "execution_count": 32,
      "outputs": [
        {
          "output_type": "stream",
          "name": "stdout",
          "text": [
            "a = b = [[0.  0.1 0.2 0.3 0.4 0.5 0.6 0.7 0.8 0.9]\n",
            " [0.  0.1 0.2 0.3 0.4 0.5 0.6 0.7 0.8 0.9]\n",
            " [0.  0.1 0.2 0.3 0.4 0.5 0.6 0.7 0.8 0.9]\n",
            " [0.  0.1 0.2 0.3 0.4 0.5 0.6 0.7 0.8 0.9]\n",
            " [0.  0.1 0.2 0.3 0.4 0.5 0.6 0.7 0.8 0.9]\n",
            " [0.  0.1 0.2 0.3 0.4 0.5 0.6 0.7 0.8 0.9]\n",
            " [0.  0.1 0.2 0.3 0.4 0.5 0.6 0.7 0.8 0.9]\n",
            " [0.  0.1 0.2 0.3 0.4 0.5 0.6 0.7 0.8 0.9]\n",
            " [0.  0.1 0.2 0.3 0.4 0.5 0.6 0.7 0.8 0.9]\n",
            " [0.  0.1 0.2 0.3 0.4 0.5 0.6 0.7 0.8 0.9]]\n",
            "\n",
            "Details...\n",
            "Counts(PP): [[0 0 8 8 8 8 8 8 8 8]\n",
            " [0 0 8 8 8 8 8 8 8 8]\n",
            " [0 0 8 8 8 8 8 8 8 8]\n",
            " [0 0 8 8 8 8 8 8 8 8]\n",
            " [0 0 8 8 8 8 8 8 8 8]\n",
            " [0 0 8 8 8 8 8 8 8 8]\n",
            " [0 0 8 8 8 8 8 8 8 8]\n",
            " [0 0 8 8 8 8 8 8 8 8]\n",
            " [0 0 8 8 8 8 8 8 8 8]\n",
            " [0 0 8 8 8 8 8 8 8 8]]\n",
            "Counts(PZ): [[8 8 0 0 0 0 0 0 0 0]\n",
            " [8 8 0 0 0 0 0 0 0 0]\n",
            " [8 8 0 0 0 0 0 0 0 0]\n",
            " [8 8 0 0 0 0 0 0 0 0]\n",
            " [8 8 0 0 0 0 0 0 0 0]\n",
            " [8 8 0 0 0 0 0 0 0 0]\n",
            " [8 8 0 0 0 0 0 0 0 0]\n",
            " [8 8 0 0 0 0 0 0 0 0]\n",
            " [8 8 0 0 0 0 0 0 0 0]\n",
            " [8 8 0 0 0 0 0 0 0 0]]\n",
            "Counts(ZP): [[0 0 2 2 2 2 2 2 2 2]\n",
            " [0 0 2 2 2 2 2 2 2 2]\n",
            " [0 0 2 2 2 2 2 2 2 2]\n",
            " [0 0 2 2 2 2 2 2 2 2]\n",
            " [0 0 2 2 2 2 2 2 2 2]\n",
            " [0 0 2 2 2 2 2 2 2 2]\n",
            " [0 0 2 2 2 2 2 2 2 2]\n",
            " [0 0 2 2 2 2 2 2 2 2]\n",
            " [0 0 2 2 2 2 2 2 2 2]\n",
            " [0 0 2 2 2 2 2 2 2 2]]\n",
            "Counts(ZZ): [[2 2 0 0 0 0 0 0 0 0]\n",
            " [2 2 0 0 0 0 0 0 0 0]\n",
            " [2 2 0 0 0 0 0 0 0 0]\n",
            " [2 2 0 0 0 0 0 0 0 0]\n",
            " [2 2 0 0 0 0 0 0 0 0]\n",
            " [2 2 0 0 0 0 0 0 0 0]\n",
            " [2 2 0 0 0 0 0 0 0 0]\n",
            " [2 2 0 0 0 0 0 0 0 0]\n",
            " [2 2 0 0 0 0 0 0 0 0]\n",
            " [2 2 0 0 0 0 0 0 0 0]]\n",
            "Sums(PP): [[0.   0.   0.88 1.32 1.76 2.2  2.64 3.08 3.52 3.96]\n",
            " [0.   0.   0.88 1.32 1.76 2.2  2.64 3.08 3.52 3.96]\n",
            " [0.   0.   0.88 1.32 1.76 2.2  2.64 3.08 3.52 3.96]\n",
            " [0.   0.   0.88 1.32 1.76 2.2  2.64 3.08 3.52 3.96]\n",
            " [0.   0.   0.88 1.32 1.76 2.2  2.64 3.08 3.52 3.96]\n",
            " [0.   0.   0.88 1.32 1.76 2.2  2.64 3.08 3.52 3.96]\n",
            " [0.   0.   0.88 1.32 1.76 2.2  2.64 3.08 3.52 3.96]\n",
            " [0.   0.   0.88 1.32 1.76 2.2  2.64 3.08 3.52 3.96]\n",
            " [0.   0.   0.88 1.32 1.76 2.2  2.64 3.08 3.52 3.96]\n",
            " [0.   0.   0.88 1.32 1.76 2.2  2.64 3.08 3.52 3.96]]\n",
            "Sums(PZ): [[0.   0.44 0.   0.   0.   0.   0.   0.   0.   0.  ]\n",
            " [0.   0.44 0.   0.   0.   0.   0.   0.   0.   0.  ]\n",
            " [0.   0.44 0.   0.   0.   0.   0.   0.   0.   0.  ]\n",
            " [0.   0.44 0.   0.   0.   0.   0.   0.   0.   0.  ]\n",
            " [0.   0.44 0.   0.   0.   0.   0.   0.   0.   0.  ]\n",
            " [0.   0.44 0.   0.   0.   0.   0.   0.   0.   0.  ]\n",
            " [0.   0.44 0.   0.   0.   0.   0.   0.   0.   0.  ]\n",
            " [0.   0.44 0.   0.   0.   0.   0.   0.   0.   0.  ]\n",
            " [0.   0.44 0.   0.   0.   0.   0.   0.   0.   0.  ]\n",
            " [0.   0.44 0.   0.   0.   0.   0.   0.   0.   0.  ]]\n",
            "Sums(ZP): [[0.   0.   0.02 0.03 0.04 0.05 0.06 0.07 0.08 0.09]\n",
            " [0.   0.   0.02 0.03 0.04 0.05 0.06 0.07 0.08 0.09]\n",
            " [0.   0.   0.02 0.03 0.04 0.05 0.06 0.07 0.08 0.09]\n",
            " [0.   0.   0.02 0.03 0.04 0.05 0.06 0.07 0.08 0.09]\n",
            " [0.   0.   0.02 0.03 0.04 0.05 0.06 0.07 0.08 0.09]\n",
            " [0.   0.   0.02 0.03 0.04 0.05 0.06 0.07 0.08 0.09]\n",
            " [0.   0.   0.02 0.03 0.04 0.05 0.06 0.07 0.08 0.09]\n",
            " [0.   0.   0.02 0.03 0.04 0.05 0.06 0.07 0.08 0.09]\n",
            " [0.   0.   0.02 0.03 0.04 0.05 0.06 0.07 0.08 0.09]\n",
            " [0.   0.   0.02 0.03 0.04 0.05 0.06 0.07 0.08 0.09]]\n",
            "Sums(ZZ): [[0.   0.01 0.   0.   0.   0.   0.   0.   0.   0.  ]\n",
            " [0.   0.01 0.   0.   0.   0.   0.   0.   0.   0.  ]\n",
            " [0.   0.01 0.   0.   0.   0.   0.   0.   0.   0.  ]\n",
            " [0.   0.01 0.   0.   0.   0.   0.   0.   0.   0.  ]\n",
            " [0.   0.01 0.   0.   0.   0.   0.   0.   0.   0.  ]\n",
            " [0.   0.01 0.   0.   0.   0.   0.   0.   0.   0.  ]\n",
            " [0.   0.01 0.   0.   0.   0.   0.   0.   0.   0.  ]\n",
            " [0.   0.01 0.   0.   0.   0.   0.   0.   0.   0.  ]\n",
            " [0.   0.01 0.   0.   0.   0.   0.   0.   0.   0.  ]\n",
            " [0.   0.01 0.   0.   0.   0.   0.   0.   0.   0.  ]]\n",
            "\n",
            "Summary...\n",
            "Classes: ['PP', 'PZ', 'PN', 'ZP', 'ZZ', 'ZN', 'NP', 'NZ', 'NN']\n",
            "Counts by class: [640 160   0 160  40   0   0   0   0]\n",
            "Sums by class: [1.936e+02 4.400e+00 0.000e+00 4.400e+00 1.000e-01 0.000e+00 0.000e+00\n",
            " 0.000e+00 0.000e+00]\n",
            "Summary: PP: 640 = 193.6, ZP: 160 = 4.399999999999999, PZ: 160 = 4.4, ZZ: 40 = 0.10000000000000003\n",
            "\n",
            "Validation...\n",
            "True matmul: [[0.   0.45 0.9  1.35 1.8  2.25 2.7  3.15 3.6  4.05]\n",
            " [0.   0.45 0.9  1.35 1.8  2.25 2.7  3.15 3.6  4.05]\n",
            " [0.   0.45 0.9  1.35 1.8  2.25 2.7  3.15 3.6  4.05]\n",
            " [0.   0.45 0.9  1.35 1.8  2.25 2.7  3.15 3.6  4.05]\n",
            " [0.   0.45 0.9  1.35 1.8  2.25 2.7  3.15 3.6  4.05]\n",
            " [0.   0.45 0.9  1.35 1.8  2.25 2.7  3.15 3.6  4.05]\n",
            " [0.   0.45 0.9  1.35 1.8  2.25 2.7  3.15 3.6  4.05]\n",
            " [0.   0.45 0.9  1.35 1.8  2.25 2.7  3.15 3.6  4.05]\n",
            " [0.   0.45 0.9  1.35 1.8  2.25 2.7  3.15 3.6  4.05]\n",
            " [0.   0.45 0.9  1.35 1.8  2.25 2.7  3.15 3.6  4.05]]\n",
            "Derived matmul: [[0.   0.45 0.9  1.35 1.8  2.25 2.7  3.15 3.6  4.05]\n",
            " [0.   0.45 0.9  1.35 1.8  2.25 2.7  3.15 3.6  4.05]\n",
            " [0.   0.45 0.9  1.35 1.8  2.25 2.7  3.15 3.6  4.05]\n",
            " [0.   0.45 0.9  1.35 1.8  2.25 2.7  3.15 3.6  4.05]\n",
            " [0.   0.45 0.9  1.35 1.8  2.25 2.7  3.15 3.6  4.05]\n",
            " [0.   0.45 0.9  1.35 1.8  2.25 2.7  3.15 3.6  4.05]\n",
            " [0.   0.45 0.9  1.35 1.8  2.25 2.7  3.15 3.6  4.05]\n",
            " [0.   0.45 0.9  1.35 1.8  2.25 2.7  3.15 3.6  4.05]\n",
            " [0.   0.45 0.9  1.35 1.8  2.25 2.7  3.15 3.6  4.05]\n",
            " [0.   0.45 0.9  1.35 1.8  2.25 2.7  3.15 3.6  4.05]]\n"
          ]
        }
      ]
    },
    {
      "cell_type": "code",
      "source": [
        "# 2D convolution explanation\n",
        "a = np.arange(0.0, 0.9, 0.1)\n",
        "a = np.tile(a, (9,1)).astype(np.float32)\n",
        "a = tf.reshape(a, shape=(1,9,9,1))\n",
        "print(f\"a = b: {a.shape} = {a[0,:,:,0]}\")\n",
        "\n",
        "k = np.array([\n",
        "    [-1, 0, -1],\n",
        "    [+1, +1, +1],\n",
        "    [-1, 0, -1]\n",
        "]).astype(np.float32)\n",
        "k = tf.reshape(k, shape=(3,3,1,1))\n",
        "print(f\"k = {k.shape} = {k[:,:,0,0]}\")\n",
        "\n",
        "counts, sums = me.conv_classify(a, k, confidence=0.75)\n",
        "print()\n",
        "print(\"Results...\")\n",
        "print(f\"Shapes: counts={counts.shape}, sums={sums.shape}\")\n",
        "for i, name in enumerate(me.classify_terms()):\n",
        "  if np.sum(counts[...,i]) > 0:\n",
        "    print(f\"Counts({name}): {counts[0,:,:,0,i]}\")\n",
        "for i, name in enumerate(me.classify_terms()):\n",
        "  if np.sum(counts[...,i]) > 0:\n",
        "    print(f\"Sums({name}): {sums[0,:,:,0,i]}\")\n",
        "\n",
        "print()\n",
        "print(\"Summary...\")\n",
        "print(f\"Classes: {me.classify_terms()}\")\n",
        "print(f\"Counts by class: {np.sum(counts, axis=(0,1,2,3))}\")\n",
        "print(f\"Sums by class: {np.sum(sums, axis=(0,1,2,3))}\")\n",
        "print(f\"Summary: {me.summarise(counts, sums)}\")\n",
        "\n",
        "print()\n",
        "print(\"Validation...\")\n",
        "expected_conv = tf.nn.convolution(a, k)\n",
        "derived_conv = tf.reduce_sum(sums, axis=-1)\n",
        "print(f\"True conv: {expected_conv.shape} = {expected_conv[0,:,:,0]}\")\n",
        "print(f\"Derived conv: {derived_conv.shape} = {derived_conv[0,:,:,0]}\")\n",
        "print(f\"Devired conv == true conv: {np.allclose(expected_conv, derived_conv)}\")\n"
      ],
      "metadata": {
        "id": "ZmJEnMBjE5IE",
        "colab": {
          "base_uri": "https://localhost:8080/"
        },
        "outputId": "f117a5d7-62ec-46d5-fd9a-a916f4f514a4"
      },
      "execution_count": 33,
      "outputs": [
        {
          "output_type": "stream",
          "name": "stdout",
          "text": [
            "a = b: (1, 9, 9, 1) = [[0.  0.1 0.2 0.3 0.4 0.5 0.6 0.7 0.8]\n",
            " [0.  0.1 0.2 0.3 0.4 0.5 0.6 0.7 0.8]\n",
            " [0.  0.1 0.2 0.3 0.4 0.5 0.6 0.7 0.8]\n",
            " [0.  0.1 0.2 0.3 0.4 0.5 0.6 0.7 0.8]\n",
            " [0.  0.1 0.2 0.3 0.4 0.5 0.6 0.7 0.8]\n",
            " [0.  0.1 0.2 0.3 0.4 0.5 0.6 0.7 0.8]\n",
            " [0.  0.1 0.2 0.3 0.4 0.5 0.6 0.7 0.8]\n",
            " [0.  0.1 0.2 0.3 0.4 0.5 0.6 0.7 0.8]\n",
            " [0.  0.1 0.2 0.3 0.4 0.5 0.6 0.7 0.8]]\n",
            "k = (3, 3, 1, 1) = [[-1.  0. -1.]\n",
            " [ 1.  1.  1.]\n",
            " [-1.  0. -1.]]\n",
            "\n",
            "Results...\n",
            "Shapes: counts=(1, 7, 7, 1, 9), sums=(1, 7, 7, 1, 9)\n",
            "Counts(PP): [[1. 2. 3. 3. 3. 3. 3.]\n",
            " [1. 2. 3. 3. 3. 3. 3.]\n",
            " [1. 2. 3. 3. 3. 3. 3.]\n",
            " [1. 2. 3. 3. 3. 3. 3.]\n",
            " [1. 2. 3. 3. 3. 3. 3.]\n",
            " [1. 2. 3. 3. 3. 3. 3.]\n",
            " [1. 2. 3. 3. 3. 3. 3.]]\n",
            "Counts(PZ): [[0. 2. 2. 2. 2. 2. 2.]\n",
            " [0. 2. 2. 2. 2. 2. 2.]\n",
            " [0. 2. 2. 2. 2. 2. 2.]\n",
            " [0. 2. 2. 2. 2. 2. 2.]\n",
            " [0. 2. 2. 2. 2. 2. 2.]\n",
            " [0. 2. 2. 2. 2. 2. 2.]\n",
            " [0. 2. 2. 2. 2. 2. 2.]]\n",
            "Counts(PN): [[2. 2. 4. 4. 4. 4. 4.]\n",
            " [2. 2. 4. 4. 4. 4. 4.]\n",
            " [2. 2. 4. 4. 4. 4. 4.]\n",
            " [2. 2. 4. 4. 4. 4. 4.]\n",
            " [2. 2. 4. 4. 4. 4. 4.]\n",
            " [2. 2. 4. 4. 4. 4. 4.]\n",
            " [2. 2. 4. 4. 4. 4. 4.]]\n",
            "Counts(ZP): [[2. 1. 0. 0. 0. 0. 0.]\n",
            " [2. 1. 0. 0. 0. 0. 0.]\n",
            " [2. 1. 0. 0. 0. 0. 0.]\n",
            " [2. 1. 0. 0. 0. 0. 0.]\n",
            " [2. 1. 0. 0. 0. 0. 0.]\n",
            " [2. 1. 0. 0. 0. 0. 0.]\n",
            " [2. 1. 0. 0. 0. 0. 0.]]\n",
            "Counts(ZZ): [[2. 0. 0. 0. 0. 0. 0.]\n",
            " [2. 0. 0. 0. 0. 0. 0.]\n",
            " [2. 0. 0. 0. 0. 0. 0.]\n",
            " [2. 0. 0. 0. 0. 0. 0.]\n",
            " [2. 0. 0. 0. 0. 0. 0.]\n",
            " [2. 0. 0. 0. 0. 0. 0.]\n",
            " [2. 0. 0. 0. 0. 0. 0.]]\n",
            "Counts(ZN): [[2. 2. 0. 0. 0. 0. 0.]\n",
            " [2. 2. 0. 0. 0. 0. 0.]\n",
            " [2. 2. 0. 0. 0. 0. 0.]\n",
            " [2. 2. 0. 0. 0. 0. 0.]\n",
            " [2. 2. 0. 0. 0. 0. 0.]\n",
            " [2. 2. 0. 0. 0. 0. 0.]\n",
            " [2. 2. 0. 0. 0. 0. 0.]]\n",
            "Sums(PP): [[0.2        0.5        0.90000004 1.2        1.5        1.8\n",
            "  2.1       ]\n",
            " [0.2        0.5        0.90000004 1.2        1.5        1.8\n",
            "  2.1       ]\n",
            " [0.2        0.5        0.90000004 1.2        1.5        1.8\n",
            "  2.1       ]\n",
            " [0.2        0.5        0.90000004 1.2        1.5        1.8\n",
            "  2.1       ]\n",
            " [0.2        0.5        0.90000004 1.2        1.5        1.8\n",
            "  2.1       ]\n",
            " [0.2        0.5        0.90000004 1.2        1.5        1.8\n",
            "  2.1       ]\n",
            " [0.2        0.5        0.90000004 1.2        1.5        1.8\n",
            "  2.1       ]]\n",
            "Sums(PZ): [[0. 0. 0. 0. 0. 0. 0.]\n",
            " [0. 0. 0. 0. 0. 0. 0.]\n",
            " [0. 0. 0. 0. 0. 0. 0.]\n",
            " [0. 0. 0. 0. 0. 0. 0.]\n",
            " [0. 0. 0. 0. 0. 0. 0.]\n",
            " [0. 0. 0. 0. 0. 0. 0.]\n",
            " [0. 0. 0. 0. 0. 0. 0.]]\n",
            "Sums(PN): [[-0.4 -0.6 -1.2 -1.6 -2.  -2.4 -2.8]\n",
            " [-0.4 -0.6 -1.2 -1.6 -2.  -2.4 -2.8]\n",
            " [-0.4 -0.6 -1.2 -1.6 -2.  -2.4 -2.8]\n",
            " [-0.4 -0.6 -1.2 -1.6 -2.  -2.4 -2.8]\n",
            " [-0.4 -0.6 -1.2 -1.6 -2.  -2.4 -2.8]\n",
            " [-0.4 -0.6 -1.2 -1.6 -2.  -2.4 -2.8]\n",
            " [-0.4 -0.6 -1.2 -1.6 -2.  -2.4 -2.8]]\n",
            "Sums(ZP): [[0.1 0.1 0.  0.  0.  0.  0. ]\n",
            " [0.1 0.1 0.  0.  0.  0.  0. ]\n",
            " [0.1 0.1 0.  0.  0.  0.  0. ]\n",
            " [0.1 0.1 0.  0.  0.  0.  0. ]\n",
            " [0.1 0.1 0.  0.  0.  0.  0. ]\n",
            " [0.1 0.1 0.  0.  0.  0.  0. ]\n",
            " [0.1 0.1 0.  0.  0.  0.  0. ]]\n",
            "Sums(ZZ): [[0. 0. 0. 0. 0. 0. 0.]\n",
            " [0. 0. 0. 0. 0. 0. 0.]\n",
            " [0. 0. 0. 0. 0. 0. 0.]\n",
            " [0. 0. 0. 0. 0. 0. 0.]\n",
            " [0. 0. 0. 0. 0. 0. 0.]\n",
            " [0. 0. 0. 0. 0. 0. 0.]\n",
            " [0. 0. 0. 0. 0. 0. 0.]]\n",
            "Sums(ZN): [[ 0.  -0.2  0.   0.   0.   0.   0. ]\n",
            " [ 0.  -0.2  0.   0.   0.   0.   0. ]\n",
            " [ 0.  -0.2  0.   0.   0.   0.   0. ]\n",
            " [ 0.  -0.2  0.   0.   0.   0.   0. ]\n",
            " [ 0.  -0.2  0.   0.   0.   0.   0. ]\n",
            " [ 0.  -0.2  0.   0.   0.   0.   0. ]\n",
            " [ 0.  -0.2  0.   0.   0.   0.   0. ]]\n",
            "\n",
            "Summary...\n",
            "Classes: ['PP', 'PZ', 'PN', 'ZP', 'ZZ', 'ZN', 'NP', 'NZ', 'NN']\n",
            "Counts by class: [126.  84. 168.  21.  14.  28.   0.   0.   0.]\n",
            "Sums by class: [ 57.4         0.        -77.          1.4000002   0.         -1.4000001\n",
            "   0.          0.          0.       ]\n",
            "Summary: PN: 168.0 = -77.0, PP: 126.0 = 57.400001525878906, PZ: 84.0 = 0.0, ZN: 28.0 = -1.4000000953674316, ZP: 21.0 = 1.4000002145767212, ZZ: 14.0 = 0.0\n",
            "\n",
            "Validation...\n",
            "True conv: (1, 7, 7, 1) = [[-0.09999999 -0.20000002 -0.29999995 -0.40000004 -0.5        -0.6\n",
            "  -0.70000005]\n",
            " [-0.09999999 -0.20000002 -0.29999995 -0.40000004 -0.5        -0.6\n",
            "  -0.70000005]\n",
            " [-0.09999999 -0.20000002 -0.29999995 -0.40000004 -0.5        -0.6\n",
            "  -0.70000005]\n",
            " [-0.09999999 -0.20000002 -0.29999995 -0.40000004 -0.5        -0.6\n",
            "  -0.70000005]\n",
            " [-0.09999999 -0.20000002 -0.29999995 -0.40000004 -0.5        -0.6\n",
            "  -0.70000005]\n",
            " [-0.09999999 -0.20000002 -0.29999995 -0.40000004 -0.5        -0.6\n",
            "  -0.70000005]\n",
            " [-0.09999999 -0.20000002 -0.29999995 -0.40000004 -0.5        -0.6\n",
            "  -0.70000005]]\n",
            "Derived conv: (1, 7, 7, 1) = [[-0.1        -0.20000002 -0.3        -0.39999998 -0.5        -0.60000014\n",
            "  -0.70000005]\n",
            " [-0.1        -0.20000002 -0.3        -0.39999998 -0.5        -0.60000014\n",
            "  -0.70000005]\n",
            " [-0.1        -0.20000002 -0.3        -0.39999998 -0.5        -0.60000014\n",
            "  -0.70000005]\n",
            " [-0.1        -0.20000002 -0.3        -0.39999998 -0.5        -0.60000014\n",
            "  -0.70000005]\n",
            " [-0.1        -0.20000002 -0.3        -0.39999998 -0.5        -0.60000014\n",
            "  -0.70000005]\n",
            " [-0.1        -0.20000002 -0.3        -0.39999998 -0.5        -0.60000014\n",
            "  -0.70000005]\n",
            " [-0.1        -0.20000002 -0.3        -0.39999998 -0.5        -0.60000014\n",
            "  -0.70000005]]\n",
            "Devired conv == true conv: True\n"
          ]
        }
      ]
    },
    {
      "cell_type": "code",
      "source": [
        "# 1D convolution explanation\n",
        "reload(me)\n",
        "a = np.arange(0.0, 0.9, 0.1).astype(np.float32)\n",
        "a = tf.reshape(a, shape=(1,9,1))\n",
        "print(f\"a = b: {a.shape} = {a[0,:,0]}\")\n",
        "\n",
        "k = np.array([-1, 0, -1]).astype(np.float32)\n",
        "k = tf.reshape(k, shape=(3,1,1))\n",
        "print(f\"k = {k.shape} = {k[:,0,0]}\")\n",
        "\n",
        "counts, sums, thresholds = me.conv_classify(a, k, confidence=0.90, return_thresholds=True)\n",
        "print()\n",
        "print(\"Results...\")\n",
        "print(f\"Shapes: counts={counts.shape}, sums={sums.shape}, thresholds={thresholds}\")\n",
        "for i, name in enumerate(me.classify_terms()):\n",
        "  if np.sum(counts[...,i]) > 0:\n",
        "    print(f\"Counts({name}): {counts[0,:,0,i]}\")\n",
        "for i, name in enumerate(me.classify_terms()):\n",
        "  if np.sum(counts[...,i]) > 0:\n",
        "    print(f\"Sums({name}): {sums[0,:,0,i]}\")\n",
        "\n",
        "print()\n",
        "print(\"Summary...\")\n",
        "print(f\"Classes: {me.classify_terms()}\")\n",
        "print(f\"Counts by class: {np.sum(counts, axis=(0,1,2))}\")\n",
        "print(f\"Sums by class: {np.sum(sums, axis=(0,1,2))}\")\n",
        "print(f\"Summary: {me.summarise(counts, sums)}\")\n",
        "\n",
        "print()\n",
        "print(\"Validation...\")\n",
        "expected_conv = tf.nn.convolution(a, k)\n",
        "derived_conv = tf.reduce_sum(sums, axis=-1)\n",
        "print(f\"True conv: {expected_conv.shape} = {expected_conv[0,:,0]}\")\n",
        "print(f\"Derived conv: {derived_conv.shape} = {derived_conv[0,:,0]}\")\n",
        "print(f\"Devired conv == true conv: {np.allclose(expected_conv, derived_conv)}\")"
      ],
      "metadata": {
        "colab": {
          "base_uri": "https://localhost:8080/"
        },
        "id": "3f7mURXZrmqy",
        "outputId": "d9890ade-db85-4664-cc43-2d4586e6f098"
      },
      "execution_count": 34,
      "outputs": [
        {
          "output_type": "stream",
          "name": "stdout",
          "text": [
            "a = b: (1, 9, 1) = [0.  0.1 0.2 0.3 0.4 0.5 0.6 0.7 0.8]\n",
            "k = (3, 1, 1) = [-1.  0. -1.]\n",
            "\n",
            "Results...\n",
            "Shapes: counts=(1, 7, 1, 9), sums=(1, 7, 1, 9), thresholds=[0.05, 0.5]\n",
            "Counts(PZ): [1. 1. 1. 1. 1. 1. 1.]\n",
            "Counts(PN): [1. 2. 2. 2. 2. 2. 2.]\n",
            "Counts(ZN): [1. 0. 0. 0. 0. 0. 0.]\n",
            "Sums(PZ): [0. 0. 0. 0. 0. 0. 0.]\n",
            "Sums(PN): [-0.2       -0.4       -0.6       -0.8       -1.        -1.2\n",
            " -1.4000001]\n",
            "Sums(ZN): [0. 0. 0. 0. 0. 0. 0.]\n",
            "\n",
            "Summary...\n",
            "Classes: ['PP', 'PZ', 'PN', 'ZP', 'ZZ', 'ZN', 'NP', 'NZ', 'NN']\n",
            "Counts by class: [ 0.  7. 13.  0.  0.  1.  0.  0.  0.]\n",
            "Sums by class: [ 0.   0.  -5.6  0.   0.   0.   0.   0.   0. ]\n",
            "Summary: PN: 13.0 = -5.599999904632568, PZ: 7.0 = 0.0, ZN: 1.0 = 0.0\n",
            "\n",
            "Validation...\n",
            "True conv: (1, 7, 1) = [-0.2       -0.4       -0.6       -0.8       -1.        -1.2\n",
            " -1.4000001]\n",
            "Derived conv: (1, 7, 1) = [-0.2       -0.4       -0.6       -0.8       -1.        -1.2\n",
            " -1.4000001]\n",
            "Devired conv == true conv: True\n"
          ]
        }
      ]
    },
    {
      "cell_type": "code",
      "source": [
        "# Simple single tensor explanation\n",
        "a = np.arange(0.0, 0.9, 0.1).astype(np.float32)\n",
        "a = tf.reshape(a, shape=(1,9,1))\n",
        "\n",
        "counts, sums, thresholds = me.tensor_classify(a, confidence=0.90, return_threshold=True)\n",
        "print(f\"Shapes: counts={counts.shape}, sums={sums.shape}, thresholds={thresholds}\")\n",
        "print(f\"Classes: {me.classify_terms(counts)}\")\n",
        "print(f\"Counts by class: {np.sum(counts, axis=(0,1,2))}\")\n",
        "print(f\"Sums by class: {np.sum(sums, axis=(0,1,2))}\")\n",
        "print(f\"Summary: {me.summarise(counts, sums)}\")\n",
        "\n"
      ],
      "metadata": {
        "colab": {
          "base_uri": "https://localhost:8080/"
        },
        "id": "vLqx35VCAHE_",
        "outputId": "9ad77eb9-c31f-4518-8a23-642aae358157"
      },
      "execution_count": 38,
      "outputs": [
        {
          "output_type": "stream",
          "name": "stdout",
          "text": [
            "Shapes: counts=(1, 9, 1, 3), sums=(1, 9, 1, 3), thresholds=0.05000000074505806\n",
            "Classes: ['P', 'Z', 'N']\n",
            "Counts by class: [8. 1. 0.]\n",
            "Sums by class: [3.6 0.  0. ]\n",
            "Summary: P: 8.0 = 3.5999999046325684, Z: 1.0 = 0.0\n"
          ]
        }
      ]
    },
    {
      "cell_type": "code",
      "source": [],
      "metadata": {
        "id": "QZSHiWer3iJ5"
      },
      "execution_count": null,
      "outputs": []
    }
  ]
}