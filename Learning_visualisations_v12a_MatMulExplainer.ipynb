{
  "nbformat": 4,
  "nbformat_minor": 0,
  "metadata": {
    "colab": {
      "provenance": [],
      "authorship_tag": "ABX9TyMoUqmVoBIcTzKtdN6X6qRY",
      "include_colab_link": true
    },
    "kernelspec": {
      "name": "python3",
      "display_name": "Python 3"
    },
    "language_info": {
      "name": "python"
    }
  },
  "cells": [
    {
      "cell_type": "markdown",
      "metadata": {
        "id": "view-in-github",
        "colab_type": "text"
      },
      "source": [
        "<a href=\"https://colab.research.google.com/github/malcolmlett/ml-learning/blob/main/Learning_visualisations_v12a_MatMulExplainer.ipynb\" target=\"_parent\"><img src=\"https://colab.research.google.com/assets/colab-badge.svg\" alt=\"Open In Colab\"/></a>"
      ]
    },
    {
      "cell_type": "markdown",
      "source": [
        "# Matrix Multiplication explainer\n",
        "A tool for explaining the output value from matrix multiplication, particularly for near-zero outputs."
      ],
      "metadata": {
        "id": "C6TUTcWzzdat"
      }
    },
    {
      "cell_type": "code",
      "source": [
        "import os\n",
        "if os.path.isdir('repo'):\n",
        "  # discard any local changes and update\n",
        "  !cd repo && git reset --hard HEAD\n",
        "  !cd repo && git fetch\n",
        "else:\n",
        "  !git clone https://github.com/malcolmlett/ml-learning.git repo\n",
        "\n",
        "# lock to revision\n",
        "#!cd repo && git checkout ea80c40\n",
        "!cd repo && git pull\n",
        "\n",
        "import sys\n",
        "sys.path.append('repo')\n",
        "\n",
        "import matmul_explainer as me\n",
        "from importlib import reload\n",
        "reload(me)"
      ],
      "metadata": {
        "id": "69nw0TbzLIaY",
        "colab": {
          "base_uri": "https://localhost:8080/"
        },
        "outputId": "8d38b4d4-8d99-4f07-f950-b5d295fd712f"
      },
      "execution_count": 39,
      "outputs": [
        {
          "output_type": "stream",
          "name": "stdout",
          "text": [
            "HEAD is now at 8a7946f WIP developing filter_classifications()\n",
            "Already up to date.\n"
          ]
        },
        {
          "output_type": "execute_result",
          "data": {
            "text/plain": [
              "<module 'matmul_explainer' from '/content/repo/matmul_explainer.py'>"
            ]
          },
          "metadata": {},
          "execution_count": 39
        }
      ]
    },
    {
      "cell_type": "code",
      "source": [
        "import matmul_explainer_test\n",
        "reload(matmul_explainer_test)\n",
        "matmul_explainer_test.run_test_suite()"
      ],
      "metadata": {
        "id": "Xq_8cKvSL9Qr",
        "colab": {
          "base_uri": "https://localhost:8080/"
        },
        "outputId": "da6eb838-ee48-42bd-9b8b-6cb79b494e02"
      },
      "execution_count": 40,
      "outputs": [
        {
          "output_type": "stream",
          "name": "stdout",
          "text": [
            "All matmul_explainer tests passed.\n"
          ]
        }
      ]
    },
    {
      "cell_type": "code",
      "source": [
        "import numpy as np\n",
        "import tensorflow as tf\n",
        "import tensorflow_probability as tfp\n",
        "import matplotlib.pyplot as plt\n",
        "import math"
      ],
      "metadata": {
        "id": "YMXtZuwVLoli"
      },
      "execution_count": 41,
      "outputs": []
    },
    {
      "cell_type": "markdown",
      "source": [
        "## Classification\n",
        "First we need to be able to classify the components that make up the matrix multiplication results.\n",
        "\n",
        "We do that with a number of functions:\n",
        "\n",
        "```\n",
        "def classify_terms():\n",
        "  return ['PP', 'PZ', 'PN', 'ZP', 'ZZ', 'ZN', 'NP', 'NZ', 'NN']\n",
        "\n",
        "def matmul_classify(x1, x2, confidence: float=0.95, threshold1: float = None, threshold2: float = None):\n",
        " ...\n",
        " return counts, sums\n",
        "```\n"
      ],
      "metadata": {
        "id": "v2uUPY0uNb3b"
      }
    },
    {
      "cell_type": "code",
      "source": [
        "# Standard ordered terms\n",
        "print(f\"Terms: {me.classify_terms()}\")"
      ],
      "metadata": {
        "colab": {
          "base_uri": "https://localhost:8080/"
        },
        "id": "7gDZtNPjN--w",
        "outputId": "5abaccfb-0c74-435b-ff2d-3fd32fe88642"
      },
      "execution_count": null,
      "outputs": [
        {
          "output_type": "stream",
          "name": "stdout",
          "text": [
            "Terms: ['PP', 'PZ', 'PN', 'ZP', 'ZZ', 'ZN', 'NP', 'NZ', 'NN']\n"
          ]
        }
      ]
    },
    {
      "cell_type": "code",
      "source": [
        "# Check that the summarisation API works under a number of usages:\n",
        "reload(me)\n",
        "a = np.arange(0.0, 1.0, 0.1)\n",
        "a = np.tile(a, (10,1))\n",
        "counts, sums = me.matmul_classify(a, a, confidence=0.75)\n",
        "\n",
        "print(f\"Summary when passed counts and sums separately:\\n  {me.summarise(counts, sums)}\")\n",
        "print(f\"Summary when passed counts and sums directly from classification:\\n  {me.summarise(me.matmul_classify(a, a, confidence=0.75))}\")\n"
      ],
      "metadata": {
        "colab": {
          "base_uri": "https://localhost:8080/"
        },
        "id": "QLetu9VK0CM0",
        "outputId": "76c9e4a3-72c6-47fa-ae96-b82920d97edf"
      },
      "execution_count": null,
      "outputs": [
        {
          "output_type": "stream",
          "name": "stdout",
          "text": [
            "Summary when passed counts and sums separately:\n",
            "  PP: 640 = 193.6, ZP: 160 = 4.399999999999999, PZ: 160 = 4.4, ZZ: 40 = 0.10000000000000003\n",
            "Summary when passed counts and sums directly from classification:\n",
            "  PP: 640 = 193.6, ZP: 160 = 4.399999999999999, PZ: 160 = 4.4, ZZ: 40 = 0.10000000000000003\n"
          ]
        }
      ]
    },
    {
      "cell_type": "code",
      "source": [
        "# Show how the values within tensors get classified\n",
        "def show_classification_results(x, confidence):\n",
        "  p, z, n, t = me.classification_mask(x, confidence=confidence)\n",
        "  print(f\"classification results for {x} @ {confidence}:\")\n",
        "  print(f\"  threshold: {t}\")\n",
        "  print(f\"  p: {p}\")\n",
        "  print(f\"  z: {z}\")\n",
        "  print(f\"  n: {n}\")\n",
        "\n",
        "a = np.array([0.0, 0.1, 0.2, 0.3, 0.4, 0.5, 0.6, 0.7, 0.8, 0.9])\n",
        "show_classification_results(a, confidence=0.75)\n",
        "\n",
        "a = np.array([-0.5, 0, -0.5])\n",
        "show_classification_results(a, confidence=0.75)\n",
        "\n",
        "a = np.array([-0.5, 0.25, 0, 0.25, -0.5])\n",
        "show_classification_results(a, confidence=0.95)"
      ],
      "metadata": {
        "colab": {
          "base_uri": "https://localhost:8080/"
        },
        "id": "g7S8bSis5UyZ",
        "outputId": "ceb30c66-bebe-4f7e-83f7-b62f57975b66"
      },
      "execution_count": null,
      "outputs": [
        {
          "output_type": "stream",
          "name": "stdout",
          "text": [
            "classification results for [0.  0.1 0.2 0.3 0.4 0.5 0.6 0.7 0.8 0.9] @ 0.75:\n",
            "  threshold: 0.25\n",
            "  p: [False False False  True  True  True  True  True  True  True]\n",
            "  z: [ True  True  True False False False False False False False]\n",
            "  n: [False False False False False False False False False False]\n",
            "classification results for [-0.5  0.  -0.5] @ 0.75:\n",
            "  threshold: 0.25\n",
            "  p: [False False False]\n",
            "  z: [False  True False]\n",
            "  n: [ True False  True]\n",
            "classification results for [-0.5   0.25  0.    0.25 -0.5 ] @ 0.95:\n",
            "  threshold: 0.125\n",
            "  p: [False  True False  True False]\n",
            "  z: [False False  True False False]\n",
            "  n: [ True False False False  True]\n"
          ]
        }
      ]
    },
    {
      "cell_type": "code",
      "source": [
        "# Simple 2D matmul explanation\n",
        "reload(me)\n",
        "a = np.arange(0.0, 1.0, 0.1)\n",
        "a = np.tile(a, (10,1))\n",
        "print(f\"a = b = {a}\")\n",
        "\n",
        "counts, sums = me.matmul_classify(a, a, confidence=0.75)\n",
        "\n",
        "print()\n",
        "print(\"Details...\")\n",
        "for i, name in enumerate(me.classify_terms()):\n",
        "  if np.sum(counts[:,:,i]) > 0:\n",
        "    print(f\"Counts({name}): {counts[:,:,i]}\")\n",
        "for i, name in enumerate(me.classify_terms()):\n",
        "  if np.sum(counts[:,:,i]) > 0:\n",
        "    print(f\"Sums({name}): {sums[:,:,i]}\")\n",
        "\n",
        "print()\n",
        "print(\"Summary...\")\n",
        "print(f\"Classes: {me.classify_terms()}\")\n",
        "print(f\"Counts by class: {np.sum(counts, axis=(0,1))}\")\n",
        "print(f\"Sums by class: {np.sum(sums, axis=(0,1))}\")\n",
        "print(f\"Summary: {me.summarise(counts, sums)}\")\n",
        "\n",
        "print()\n",
        "print(\"Validation...\")\n",
        "print(f\"True matmul: {np.matmul(a, a)}\")\n",
        "print(f\"Derived matmul: {np.sum(sums, axis=-1)}\")\n"
      ],
      "metadata": {
        "colab": {
          "base_uri": "https://localhost:8080/"
        },
        "id": "wgGa5oWrzw4N",
        "outputId": "33dc6933-f6ba-412c-f7f6-fa1fb3259886"
      },
      "execution_count": null,
      "outputs": [
        {
          "output_type": "stream",
          "name": "stdout",
          "text": [
            "a = b = [[0.  0.1 0.2 0.3 0.4 0.5 0.6 0.7 0.8 0.9]\n",
            " [0.  0.1 0.2 0.3 0.4 0.5 0.6 0.7 0.8 0.9]\n",
            " [0.  0.1 0.2 0.3 0.4 0.5 0.6 0.7 0.8 0.9]\n",
            " [0.  0.1 0.2 0.3 0.4 0.5 0.6 0.7 0.8 0.9]\n",
            " [0.  0.1 0.2 0.3 0.4 0.5 0.6 0.7 0.8 0.9]\n",
            " [0.  0.1 0.2 0.3 0.4 0.5 0.6 0.7 0.8 0.9]\n",
            " [0.  0.1 0.2 0.3 0.4 0.5 0.6 0.7 0.8 0.9]\n",
            " [0.  0.1 0.2 0.3 0.4 0.5 0.6 0.7 0.8 0.9]\n",
            " [0.  0.1 0.2 0.3 0.4 0.5 0.6 0.7 0.8 0.9]\n",
            " [0.  0.1 0.2 0.3 0.4 0.5 0.6 0.7 0.8 0.9]]\n",
            "\n",
            "Details...\n",
            "Counts(PP): [[0 0 8 8 8 8 8 8 8 8]\n",
            " [0 0 8 8 8 8 8 8 8 8]\n",
            " [0 0 8 8 8 8 8 8 8 8]\n",
            " [0 0 8 8 8 8 8 8 8 8]\n",
            " [0 0 8 8 8 8 8 8 8 8]\n",
            " [0 0 8 8 8 8 8 8 8 8]\n",
            " [0 0 8 8 8 8 8 8 8 8]\n",
            " [0 0 8 8 8 8 8 8 8 8]\n",
            " [0 0 8 8 8 8 8 8 8 8]\n",
            " [0 0 8 8 8 8 8 8 8 8]]\n",
            "Counts(PZ): [[8 8 0 0 0 0 0 0 0 0]\n",
            " [8 8 0 0 0 0 0 0 0 0]\n",
            " [8 8 0 0 0 0 0 0 0 0]\n",
            " [8 8 0 0 0 0 0 0 0 0]\n",
            " [8 8 0 0 0 0 0 0 0 0]\n",
            " [8 8 0 0 0 0 0 0 0 0]\n",
            " [8 8 0 0 0 0 0 0 0 0]\n",
            " [8 8 0 0 0 0 0 0 0 0]\n",
            " [8 8 0 0 0 0 0 0 0 0]\n",
            " [8 8 0 0 0 0 0 0 0 0]]\n",
            "Counts(ZP): [[0 0 2 2 2 2 2 2 2 2]\n",
            " [0 0 2 2 2 2 2 2 2 2]\n",
            " [0 0 2 2 2 2 2 2 2 2]\n",
            " [0 0 2 2 2 2 2 2 2 2]\n",
            " [0 0 2 2 2 2 2 2 2 2]\n",
            " [0 0 2 2 2 2 2 2 2 2]\n",
            " [0 0 2 2 2 2 2 2 2 2]\n",
            " [0 0 2 2 2 2 2 2 2 2]\n",
            " [0 0 2 2 2 2 2 2 2 2]\n",
            " [0 0 2 2 2 2 2 2 2 2]]\n",
            "Counts(ZZ): [[2 2 0 0 0 0 0 0 0 0]\n",
            " [2 2 0 0 0 0 0 0 0 0]\n",
            " [2 2 0 0 0 0 0 0 0 0]\n",
            " [2 2 0 0 0 0 0 0 0 0]\n",
            " [2 2 0 0 0 0 0 0 0 0]\n",
            " [2 2 0 0 0 0 0 0 0 0]\n",
            " [2 2 0 0 0 0 0 0 0 0]\n",
            " [2 2 0 0 0 0 0 0 0 0]\n",
            " [2 2 0 0 0 0 0 0 0 0]\n",
            " [2 2 0 0 0 0 0 0 0 0]]\n",
            "Sums(PP): [[0.   0.   0.88 1.32 1.76 2.2  2.64 3.08 3.52 3.96]\n",
            " [0.   0.   0.88 1.32 1.76 2.2  2.64 3.08 3.52 3.96]\n",
            " [0.   0.   0.88 1.32 1.76 2.2  2.64 3.08 3.52 3.96]\n",
            " [0.   0.   0.88 1.32 1.76 2.2  2.64 3.08 3.52 3.96]\n",
            " [0.   0.   0.88 1.32 1.76 2.2  2.64 3.08 3.52 3.96]\n",
            " [0.   0.   0.88 1.32 1.76 2.2  2.64 3.08 3.52 3.96]\n",
            " [0.   0.   0.88 1.32 1.76 2.2  2.64 3.08 3.52 3.96]\n",
            " [0.   0.   0.88 1.32 1.76 2.2  2.64 3.08 3.52 3.96]\n",
            " [0.   0.   0.88 1.32 1.76 2.2  2.64 3.08 3.52 3.96]\n",
            " [0.   0.   0.88 1.32 1.76 2.2  2.64 3.08 3.52 3.96]]\n",
            "Sums(PZ): [[0.   0.44 0.   0.   0.   0.   0.   0.   0.   0.  ]\n",
            " [0.   0.44 0.   0.   0.   0.   0.   0.   0.   0.  ]\n",
            " [0.   0.44 0.   0.   0.   0.   0.   0.   0.   0.  ]\n",
            " [0.   0.44 0.   0.   0.   0.   0.   0.   0.   0.  ]\n",
            " [0.   0.44 0.   0.   0.   0.   0.   0.   0.   0.  ]\n",
            " [0.   0.44 0.   0.   0.   0.   0.   0.   0.   0.  ]\n",
            " [0.   0.44 0.   0.   0.   0.   0.   0.   0.   0.  ]\n",
            " [0.   0.44 0.   0.   0.   0.   0.   0.   0.   0.  ]\n",
            " [0.   0.44 0.   0.   0.   0.   0.   0.   0.   0.  ]\n",
            " [0.   0.44 0.   0.   0.   0.   0.   0.   0.   0.  ]]\n",
            "Sums(ZP): [[0.   0.   0.02 0.03 0.04 0.05 0.06 0.07 0.08 0.09]\n",
            " [0.   0.   0.02 0.03 0.04 0.05 0.06 0.07 0.08 0.09]\n",
            " [0.   0.   0.02 0.03 0.04 0.05 0.06 0.07 0.08 0.09]\n",
            " [0.   0.   0.02 0.03 0.04 0.05 0.06 0.07 0.08 0.09]\n",
            " [0.   0.   0.02 0.03 0.04 0.05 0.06 0.07 0.08 0.09]\n",
            " [0.   0.   0.02 0.03 0.04 0.05 0.06 0.07 0.08 0.09]\n",
            " [0.   0.   0.02 0.03 0.04 0.05 0.06 0.07 0.08 0.09]\n",
            " [0.   0.   0.02 0.03 0.04 0.05 0.06 0.07 0.08 0.09]\n",
            " [0.   0.   0.02 0.03 0.04 0.05 0.06 0.07 0.08 0.09]\n",
            " [0.   0.   0.02 0.03 0.04 0.05 0.06 0.07 0.08 0.09]]\n",
            "Sums(ZZ): [[0.   0.01 0.   0.   0.   0.   0.   0.   0.   0.  ]\n",
            " [0.   0.01 0.   0.   0.   0.   0.   0.   0.   0.  ]\n",
            " [0.   0.01 0.   0.   0.   0.   0.   0.   0.   0.  ]\n",
            " [0.   0.01 0.   0.   0.   0.   0.   0.   0.   0.  ]\n",
            " [0.   0.01 0.   0.   0.   0.   0.   0.   0.   0.  ]\n",
            " [0.   0.01 0.   0.   0.   0.   0.   0.   0.   0.  ]\n",
            " [0.   0.01 0.   0.   0.   0.   0.   0.   0.   0.  ]\n",
            " [0.   0.01 0.   0.   0.   0.   0.   0.   0.   0.  ]\n",
            " [0.   0.01 0.   0.   0.   0.   0.   0.   0.   0.  ]\n",
            " [0.   0.01 0.   0.   0.   0.   0.   0.   0.   0.  ]]\n",
            "\n",
            "Summary...\n",
            "Classes: ['PP', 'PZ', 'PN', 'ZP', 'ZZ', 'ZN', 'NP', 'NZ', 'NN']\n",
            "Counts by class: [640 160   0 160  40   0   0   0   0]\n",
            "Sums by class: [1.936e+02 4.400e+00 0.000e+00 4.400e+00 1.000e-01 0.000e+00 0.000e+00\n",
            " 0.000e+00 0.000e+00]\n",
            "Summary: PP: 640 = 193.6, ZP: 160 = 4.399999999999999, PZ: 160 = 4.4, ZZ: 40 = 0.10000000000000003\n",
            "\n",
            "Validation...\n",
            "True matmul: [[0.   0.45 0.9  1.35 1.8  2.25 2.7  3.15 3.6  4.05]\n",
            " [0.   0.45 0.9  1.35 1.8  2.25 2.7  3.15 3.6  4.05]\n",
            " [0.   0.45 0.9  1.35 1.8  2.25 2.7  3.15 3.6  4.05]\n",
            " [0.   0.45 0.9  1.35 1.8  2.25 2.7  3.15 3.6  4.05]\n",
            " [0.   0.45 0.9  1.35 1.8  2.25 2.7  3.15 3.6  4.05]\n",
            " [0.   0.45 0.9  1.35 1.8  2.25 2.7  3.15 3.6  4.05]\n",
            " [0.   0.45 0.9  1.35 1.8  2.25 2.7  3.15 3.6  4.05]\n",
            " [0.   0.45 0.9  1.35 1.8  2.25 2.7  3.15 3.6  4.05]\n",
            " [0.   0.45 0.9  1.35 1.8  2.25 2.7  3.15 3.6  4.05]\n",
            " [0.   0.45 0.9  1.35 1.8  2.25 2.7  3.15 3.6  4.05]]\n",
            "Derived matmul: [[0.   0.45 0.9  1.35 1.8  2.25 2.7  3.15 3.6  4.05]\n",
            " [0.   0.45 0.9  1.35 1.8  2.25 2.7  3.15 3.6  4.05]\n",
            " [0.   0.45 0.9  1.35 1.8  2.25 2.7  3.15 3.6  4.05]\n",
            " [0.   0.45 0.9  1.35 1.8  2.25 2.7  3.15 3.6  4.05]\n",
            " [0.   0.45 0.9  1.35 1.8  2.25 2.7  3.15 3.6  4.05]\n",
            " [0.   0.45 0.9  1.35 1.8  2.25 2.7  3.15 3.6  4.05]\n",
            " [0.   0.45 0.9  1.35 1.8  2.25 2.7  3.15 3.6  4.05]\n",
            " [0.   0.45 0.9  1.35 1.8  2.25 2.7  3.15 3.6  4.05]\n",
            " [0.   0.45 0.9  1.35 1.8  2.25 2.7  3.15 3.6  4.05]\n",
            " [0.   0.45 0.9  1.35 1.8  2.25 2.7  3.15 3.6  4.05]]\n"
          ]
        }
      ]
    },
    {
      "cell_type": "code",
      "source": [
        "# 2D convolution explanation\n",
        "a = np.arange(0.0, 0.9, 0.1)\n",
        "a = np.tile(a, (9,1)).astype(np.float32)\n",
        "a = tf.reshape(a, shape=(1,9,9,1))\n",
        "print(f\"a = b: {a.shape} = {a[0,:,:,0]}\")\n",
        "\n",
        "k = np.array([\n",
        "    [-1, 0, -1],\n",
        "    [+1, +1, +1],\n",
        "    [-1, 0, -1]\n",
        "]).astype(np.float32)\n",
        "k = tf.reshape(k, shape=(3,3,1,1))\n",
        "print(f\"k = {k.shape} = {k[:,:,0,0]}\")\n",
        "\n",
        "counts, sums = me.conv_classify(a, k, confidence=0.75)\n",
        "print()\n",
        "print(\"Results...\")\n",
        "print(f\"Shapes: counts={counts.shape}, sums={sums.shape}\")\n",
        "for i, name in enumerate(me.classify_terms()):\n",
        "  if np.sum(counts[...,i]) > 0:\n",
        "    print(f\"Counts({name}): {counts[0,:,:,0,i]}\")\n",
        "for i, name in enumerate(me.classify_terms()):\n",
        "  if np.sum(counts[...,i]) > 0:\n",
        "    print(f\"Sums({name}): {sums[0,:,:,0,i]}\")\n",
        "\n",
        "print()\n",
        "print(\"Summary...\")\n",
        "print(f\"Classes: {me.classify_terms()}\")\n",
        "print(f\"Counts by class: {np.sum(counts, axis=(0,1,2,3))}\")\n",
        "print(f\"Sums by class: {np.sum(sums, axis=(0,1,2,3))}\")\n",
        "print(f\"Summary: {me.summarise(counts, sums)}\")\n",
        "\n",
        "print()\n",
        "print(\"Validation...\")\n",
        "expected_conv = tf.nn.convolution(a, k)\n",
        "derived_conv = tf.reduce_sum(sums, axis=-1)\n",
        "print(f\"True conv: {expected_conv.shape} = {expected_conv[0,:,:,0]}\")\n",
        "print(f\"Derived conv: {derived_conv.shape} = {derived_conv[0,:,:,0]}\")\n",
        "print(f\"Devired conv == true conv: {np.allclose(expected_conv, derived_conv)}\")\n"
      ],
      "metadata": {
        "id": "ZmJEnMBjE5IE",
        "colab": {
          "base_uri": "https://localhost:8080/"
        },
        "outputId": "f117a5d7-62ec-46d5-fd9a-a916f4f514a4"
      },
      "execution_count": null,
      "outputs": [
        {
          "output_type": "stream",
          "name": "stdout",
          "text": [
            "a = b: (1, 9, 9, 1) = [[0.  0.1 0.2 0.3 0.4 0.5 0.6 0.7 0.8]\n",
            " [0.  0.1 0.2 0.3 0.4 0.5 0.6 0.7 0.8]\n",
            " [0.  0.1 0.2 0.3 0.4 0.5 0.6 0.7 0.8]\n",
            " [0.  0.1 0.2 0.3 0.4 0.5 0.6 0.7 0.8]\n",
            " [0.  0.1 0.2 0.3 0.4 0.5 0.6 0.7 0.8]\n",
            " [0.  0.1 0.2 0.3 0.4 0.5 0.6 0.7 0.8]\n",
            " [0.  0.1 0.2 0.3 0.4 0.5 0.6 0.7 0.8]\n",
            " [0.  0.1 0.2 0.3 0.4 0.5 0.6 0.7 0.8]\n",
            " [0.  0.1 0.2 0.3 0.4 0.5 0.6 0.7 0.8]]\n",
            "k = (3, 3, 1, 1) = [[-1.  0. -1.]\n",
            " [ 1.  1.  1.]\n",
            " [-1.  0. -1.]]\n",
            "\n",
            "Results...\n",
            "Shapes: counts=(1, 7, 7, 1, 9), sums=(1, 7, 7, 1, 9)\n",
            "Counts(PP): [[1. 2. 3. 3. 3. 3. 3.]\n",
            " [1. 2. 3. 3. 3. 3. 3.]\n",
            " [1. 2. 3. 3. 3. 3. 3.]\n",
            " [1. 2. 3. 3. 3. 3. 3.]\n",
            " [1. 2. 3. 3. 3. 3. 3.]\n",
            " [1. 2. 3. 3. 3. 3. 3.]\n",
            " [1. 2. 3. 3. 3. 3. 3.]]\n",
            "Counts(PZ): [[0. 2. 2. 2. 2. 2. 2.]\n",
            " [0. 2. 2. 2. 2. 2. 2.]\n",
            " [0. 2. 2. 2. 2. 2. 2.]\n",
            " [0. 2. 2. 2. 2. 2. 2.]\n",
            " [0. 2. 2. 2. 2. 2. 2.]\n",
            " [0. 2. 2. 2. 2. 2. 2.]\n",
            " [0. 2. 2. 2. 2. 2. 2.]]\n",
            "Counts(PN): [[2. 2. 4. 4. 4. 4. 4.]\n",
            " [2. 2. 4. 4. 4. 4. 4.]\n",
            " [2. 2. 4. 4. 4. 4. 4.]\n",
            " [2. 2. 4. 4. 4. 4. 4.]\n",
            " [2. 2. 4. 4. 4. 4. 4.]\n",
            " [2. 2. 4. 4. 4. 4. 4.]\n",
            " [2. 2. 4. 4. 4. 4. 4.]]\n",
            "Counts(ZP): [[2. 1. 0. 0. 0. 0. 0.]\n",
            " [2. 1. 0. 0. 0. 0. 0.]\n",
            " [2. 1. 0. 0. 0. 0. 0.]\n",
            " [2. 1. 0. 0. 0. 0. 0.]\n",
            " [2. 1. 0. 0. 0. 0. 0.]\n",
            " [2. 1. 0. 0. 0. 0. 0.]\n",
            " [2. 1. 0. 0. 0. 0. 0.]]\n",
            "Counts(ZZ): [[2. 0. 0. 0. 0. 0. 0.]\n",
            " [2. 0. 0. 0. 0. 0. 0.]\n",
            " [2. 0. 0. 0. 0. 0. 0.]\n",
            " [2. 0. 0. 0. 0. 0. 0.]\n",
            " [2. 0. 0. 0. 0. 0. 0.]\n",
            " [2. 0. 0. 0. 0. 0. 0.]\n",
            " [2. 0. 0. 0. 0. 0. 0.]]\n",
            "Counts(ZN): [[2. 2. 0. 0. 0. 0. 0.]\n",
            " [2. 2. 0. 0. 0. 0. 0.]\n",
            " [2. 2. 0. 0. 0. 0. 0.]\n",
            " [2. 2. 0. 0. 0. 0. 0.]\n",
            " [2. 2. 0. 0. 0. 0. 0.]\n",
            " [2. 2. 0. 0. 0. 0. 0.]\n",
            " [2. 2. 0. 0. 0. 0. 0.]]\n",
            "Sums(PP): [[0.2        0.5        0.90000004 1.2        1.5        1.8\n",
            "  2.1       ]\n",
            " [0.2        0.5        0.90000004 1.2        1.5        1.8\n",
            "  2.1       ]\n",
            " [0.2        0.5        0.90000004 1.2        1.5        1.8\n",
            "  2.1       ]\n",
            " [0.2        0.5        0.90000004 1.2        1.5        1.8\n",
            "  2.1       ]\n",
            " [0.2        0.5        0.90000004 1.2        1.5        1.8\n",
            "  2.1       ]\n",
            " [0.2        0.5        0.90000004 1.2        1.5        1.8\n",
            "  2.1       ]\n",
            " [0.2        0.5        0.90000004 1.2        1.5        1.8\n",
            "  2.1       ]]\n",
            "Sums(PZ): [[0. 0. 0. 0. 0. 0. 0.]\n",
            " [0. 0. 0. 0. 0. 0. 0.]\n",
            " [0. 0. 0. 0. 0. 0. 0.]\n",
            " [0. 0. 0. 0. 0. 0. 0.]\n",
            " [0. 0. 0. 0. 0. 0. 0.]\n",
            " [0. 0. 0. 0. 0. 0. 0.]\n",
            " [0. 0. 0. 0. 0. 0. 0.]]\n",
            "Sums(PN): [[-0.4 -0.6 -1.2 -1.6 -2.  -2.4 -2.8]\n",
            " [-0.4 -0.6 -1.2 -1.6 -2.  -2.4 -2.8]\n",
            " [-0.4 -0.6 -1.2 -1.6 -2.  -2.4 -2.8]\n",
            " [-0.4 -0.6 -1.2 -1.6 -2.  -2.4 -2.8]\n",
            " [-0.4 -0.6 -1.2 -1.6 -2.  -2.4 -2.8]\n",
            " [-0.4 -0.6 -1.2 -1.6 -2.  -2.4 -2.8]\n",
            " [-0.4 -0.6 -1.2 -1.6 -2.  -2.4 -2.8]]\n",
            "Sums(ZP): [[0.1 0.1 0.  0.  0.  0.  0. ]\n",
            " [0.1 0.1 0.  0.  0.  0.  0. ]\n",
            " [0.1 0.1 0.  0.  0.  0.  0. ]\n",
            " [0.1 0.1 0.  0.  0.  0.  0. ]\n",
            " [0.1 0.1 0.  0.  0.  0.  0. ]\n",
            " [0.1 0.1 0.  0.  0.  0.  0. ]\n",
            " [0.1 0.1 0.  0.  0.  0.  0. ]]\n",
            "Sums(ZZ): [[0. 0. 0. 0. 0. 0. 0.]\n",
            " [0. 0. 0. 0. 0. 0. 0.]\n",
            " [0. 0. 0. 0. 0. 0. 0.]\n",
            " [0. 0. 0. 0. 0. 0. 0.]\n",
            " [0. 0. 0. 0. 0. 0. 0.]\n",
            " [0. 0. 0. 0. 0. 0. 0.]\n",
            " [0. 0. 0. 0. 0. 0. 0.]]\n",
            "Sums(ZN): [[ 0.  -0.2  0.   0.   0.   0.   0. ]\n",
            " [ 0.  -0.2  0.   0.   0.   0.   0. ]\n",
            " [ 0.  -0.2  0.   0.   0.   0.   0. ]\n",
            " [ 0.  -0.2  0.   0.   0.   0.   0. ]\n",
            " [ 0.  -0.2  0.   0.   0.   0.   0. ]\n",
            " [ 0.  -0.2  0.   0.   0.   0.   0. ]\n",
            " [ 0.  -0.2  0.   0.   0.   0.   0. ]]\n",
            "\n",
            "Summary...\n",
            "Classes: ['PP', 'PZ', 'PN', 'ZP', 'ZZ', 'ZN', 'NP', 'NZ', 'NN']\n",
            "Counts by class: [126.  84. 168.  21.  14.  28.   0.   0.   0.]\n",
            "Sums by class: [ 57.4         0.        -77.          1.4000002   0.         -1.4000001\n",
            "   0.          0.          0.       ]\n",
            "Summary: PN: 168.0 = -77.0, PP: 126.0 = 57.400001525878906, PZ: 84.0 = 0.0, ZN: 28.0 = -1.4000000953674316, ZP: 21.0 = 1.4000002145767212, ZZ: 14.0 = 0.0\n",
            "\n",
            "Validation...\n",
            "True conv: (1, 7, 7, 1) = [[-0.09999999 -0.20000002 -0.29999995 -0.40000004 -0.5        -0.6\n",
            "  -0.70000005]\n",
            " [-0.09999999 -0.20000002 -0.29999995 -0.40000004 -0.5        -0.6\n",
            "  -0.70000005]\n",
            " [-0.09999999 -0.20000002 -0.29999995 -0.40000004 -0.5        -0.6\n",
            "  -0.70000005]\n",
            " [-0.09999999 -0.20000002 -0.29999995 -0.40000004 -0.5        -0.6\n",
            "  -0.70000005]\n",
            " [-0.09999999 -0.20000002 -0.29999995 -0.40000004 -0.5        -0.6\n",
            "  -0.70000005]\n",
            " [-0.09999999 -0.20000002 -0.29999995 -0.40000004 -0.5        -0.6\n",
            "  -0.70000005]\n",
            " [-0.09999999 -0.20000002 -0.29999995 -0.40000004 -0.5        -0.6\n",
            "  -0.70000005]]\n",
            "Derived conv: (1, 7, 7, 1) = [[-0.1        -0.20000002 -0.3        -0.39999998 -0.5        -0.60000014\n",
            "  -0.70000005]\n",
            " [-0.1        -0.20000002 -0.3        -0.39999998 -0.5        -0.60000014\n",
            "  -0.70000005]\n",
            " [-0.1        -0.20000002 -0.3        -0.39999998 -0.5        -0.60000014\n",
            "  -0.70000005]\n",
            " [-0.1        -0.20000002 -0.3        -0.39999998 -0.5        -0.60000014\n",
            "  -0.70000005]\n",
            " [-0.1        -0.20000002 -0.3        -0.39999998 -0.5        -0.60000014\n",
            "  -0.70000005]\n",
            " [-0.1        -0.20000002 -0.3        -0.39999998 -0.5        -0.60000014\n",
            "  -0.70000005]\n",
            " [-0.1        -0.20000002 -0.3        -0.39999998 -0.5        -0.60000014\n",
            "  -0.70000005]]\n",
            "Devired conv == true conv: True\n"
          ]
        }
      ]
    },
    {
      "cell_type": "code",
      "source": [
        "# 1D convolution explanation\n",
        "reload(me)\n",
        "a = np.arange(0.0, 0.9, 0.1).astype(np.float32)\n",
        "a = tf.reshape(a, shape=(1,9,1))\n",
        "print(f\"a = b: {a.shape} = {a[0,:,0]}\")\n",
        "\n",
        "k = np.array([-1, 0, -1]).astype(np.float32)\n",
        "k = tf.reshape(k, shape=(3,1,1))\n",
        "print(f\"k = {k.shape} = {k[:,0,0]}\")\n",
        "\n",
        "counts, sums, thresholds = me.conv_classify(a, k, confidence=0.90, return_thresholds=True)\n",
        "print()\n",
        "print(\"Results...\")\n",
        "print(f\"Shapes: counts={counts.shape}, sums={sums.shape}, thresholds={thresholds}\")\n",
        "for i, name in enumerate(me.classify_terms()):\n",
        "  if np.sum(counts[...,i]) > 0:\n",
        "    print(f\"Counts({name}): {counts[0,:,0,i]}\")\n",
        "for i, name in enumerate(me.classify_terms()):\n",
        "  if np.sum(counts[...,i]) > 0:\n",
        "    print(f\"Sums({name}): {sums[0,:,0,i]}\")\n",
        "\n",
        "print()\n",
        "print(\"Summary...\")\n",
        "print(f\"Classes: {me.classify_terms()}\")\n",
        "print(f\"Counts by class: {np.sum(counts, axis=(0,1,2))}\")\n",
        "print(f\"Sums by class: {np.sum(sums, axis=(0,1,2))}\")\n",
        "print(f\"Summary: {me.summarise(counts, sums)}\")\n",
        "\n",
        "print()\n",
        "print(\"Validation...\")\n",
        "expected_conv = tf.nn.convolution(a, k)\n",
        "derived_conv = tf.reduce_sum(sums, axis=-1)\n",
        "print(f\"True conv: {expected_conv.shape} = {expected_conv[0,:,0]}\")\n",
        "print(f\"Derived conv: {derived_conv.shape} = {derived_conv[0,:,0]}\")\n",
        "print(f\"Devired conv == true conv: {np.allclose(expected_conv, derived_conv)}\")"
      ],
      "metadata": {
        "colab": {
          "base_uri": "https://localhost:8080/"
        },
        "id": "3f7mURXZrmqy",
        "outputId": "d9890ade-db85-4664-cc43-2d4586e6f098"
      },
      "execution_count": null,
      "outputs": [
        {
          "output_type": "stream",
          "name": "stdout",
          "text": [
            "a = b: (1, 9, 1) = [0.  0.1 0.2 0.3 0.4 0.5 0.6 0.7 0.8]\n",
            "k = (3, 1, 1) = [-1.  0. -1.]\n",
            "\n",
            "Results...\n",
            "Shapes: counts=(1, 7, 1, 9), sums=(1, 7, 1, 9), thresholds=[0.05, 0.5]\n",
            "Counts(PZ): [1. 1. 1. 1. 1. 1. 1.]\n",
            "Counts(PN): [1. 2. 2. 2. 2. 2. 2.]\n",
            "Counts(ZN): [1. 0. 0. 0. 0. 0. 0.]\n",
            "Sums(PZ): [0. 0. 0. 0. 0. 0. 0.]\n",
            "Sums(PN): [-0.2       -0.4       -0.6       -0.8       -1.        -1.2\n",
            " -1.4000001]\n",
            "Sums(ZN): [0. 0. 0. 0. 0. 0. 0.]\n",
            "\n",
            "Summary...\n",
            "Classes: ['PP', 'PZ', 'PN', 'ZP', 'ZZ', 'ZN', 'NP', 'NZ', 'NN']\n",
            "Counts by class: [ 0.  7. 13.  0.  0.  1.  0.  0.  0.]\n",
            "Sums by class: [ 0.   0.  -5.6  0.   0.   0.   0.   0.   0. ]\n",
            "Summary: PN: 13.0 = -5.599999904632568, PZ: 7.0 = 0.0, ZN: 1.0 = 0.0\n",
            "\n",
            "Validation...\n",
            "True conv: (1, 7, 1) = [-0.2       -0.4       -0.6       -0.8       -1.        -1.2\n",
            " -1.4000001]\n",
            "Derived conv: (1, 7, 1) = [-0.2       -0.4       -0.6       -0.8       -1.        -1.2\n",
            " -1.4000001]\n",
            "Devired conv == true conv: True\n"
          ]
        }
      ]
    },
    {
      "cell_type": "code",
      "source": [
        "# Simple single tensor explanation\n",
        "a = np.arange(0.0, 0.9, 0.1).astype(np.float32)\n",
        "a = tf.reshape(a, shape=(1,9,1))\n",
        "\n",
        "counts, sums, thresholds = me.tensor_classify(a, confidence=0.90, return_threshold=True)\n",
        "print(f\"Shapes: counts={counts.shape}, sums={sums.shape}, thresholds={thresholds}\")\n",
        "print(f\"Classes: {me.classify_terms(counts)}\")\n",
        "print(f\"Counts by class: {np.sum(counts, axis=(0,1,2))}\")\n",
        "print(f\"Sums by class: {np.sum(sums, axis=(0,1,2))}\")\n",
        "print(f\"Summary: {me.summarise(counts, sums)}\")\n",
        "\n"
      ],
      "metadata": {
        "colab": {
          "base_uri": "https://localhost:8080/"
        },
        "id": "vLqx35VCAHE_",
        "outputId": "9ad77eb9-c31f-4518-8a23-642aae358157"
      },
      "execution_count": null,
      "outputs": [
        {
          "output_type": "stream",
          "name": "stdout",
          "text": [
            "Shapes: counts=(1, 9, 1, 3), sums=(1, 9, 1, 3), thresholds=0.05000000074505806\n",
            "Classes: ['P', 'Z', 'N']\n",
            "Counts by class: [8. 1. 0.]\n",
            "Sums by class: [3.6 0.  0. ]\n",
            "Summary: P: 8.0 = 3.5999999046325684, Z: 1.0 = 0.0\n"
          ]
        }
      ]
    },
    {
      "cell_type": "code",
      "source": [],
      "metadata": {
        "id": "QZSHiWer3iJ5"
      },
      "execution_count": null,
      "outputs": []
    },
    {
      "cell_type": "markdown",
      "source": [
        "## Detailed Summary\n",
        "Now for a more detailed summarisation that works with masking to identify the range of causes for problems with specific output tensor positions."
      ],
      "metadata": {
        "id": "5n8vyj-8L4M1"
      }
    },
    {
      "cell_type": "code",
      "source": [
        "a = np.random.uniform(-5, +5, (100,100)).astype(int).astype(float)\n",
        "b = np.random.uniform(-5, +5, (100,100)).astype(int).astype(float)\n",
        "res = np.matmul(a, b)\n",
        "plt.imshow(res != 0)\n",
        "plt.colorbar()"
      ],
      "metadata": {
        "colab": {
          "base_uri": "https://localhost:8080/",
          "height": 452
        },
        "id": "XQBI4rSwMDKG",
        "outputId": "6964c2ab-ceba-4c02-ce8e-492195a2fdab"
      },
      "execution_count": 43,
      "outputs": [
        {
          "output_type": "execute_result",
          "data": {
            "text/plain": [
              "<matplotlib.colorbar.Colorbar at 0x7c8325c59f50>"
            ]
          },
          "metadata": {},
          "execution_count": 43
        },
        {
          "output_type": "display_data",
          "data": {
            "text/plain": [
              "<Figure size 640x480 with 2 Axes>"
            ],
            "image/png": "[encoded data removed]"
          },
          "metadata": {}
        }
      ]
    },
    {
      "cell_type": "code",
      "source": [
        "print(f\"Basic summary: {me.summarise(me.matmul_classify(a,b))}\")"
      ],
      "metadata": {
        "colab": {
          "base_uri": "https://localhost:8080/"
        },
        "id": "kju5hIBeMUBl",
        "outputId": "69005e25-7fcf-4145-d5e1-bd87c9a56093"
      },
      "execution_count": null,
      "outputs": [
        {
          "output_type": "stream",
          "name": "stdout",
          "text": [
            "Basic summary: NP: 161134 = -988454.0, PP: 159795 = 986502.0, NN: 159729 = 986466.0, PN: 157828 = -978566.0, ZP: 80971 = 0.0, ZN: 80543 = 0.0, PZ: 79677 = 0.0, NZ: 79437 = 0.0, ZZ: 40886 = 0.0\n"
          ]
        }
      ]
    },
    {
      "cell_type": "code",
      "source": [
        "res = np.matmul(a, b)\n",
        "mask = res == 0\n",
        "counts, sums = me.matmul_classify(a,b)\n",
        "#print(f\"Basic summary: {me.summarise(counts, sums)}\")\n",
        "print(f\"counts: {counts.shape}\")\n",
        "counts = counts * mask[..., np.newaxis]\n",
        "print(f\"counts: {counts.shape}\")\n",
        "plt.imshow(np.sum(counts, axis=-1))\n",
        "plt.colorbar()\n"
      ],
      "metadata": {
        "colab": {
          "base_uri": "https://localhost:8080/",
          "height": 487
        },
        "id": "74pGjccPXPad",
        "outputId": "e9b481a5-ac82-489d-a8fc-8888317de4df"
      },
      "execution_count": null,
      "outputs": [
        {
          "output_type": "stream",
          "name": "stdout",
          "text": [
            "counts: (100, 100, 9)\n",
            "counts: (100, 100, 9)\n"
          ]
        },
        {
          "output_type": "execute_result",
          "data": {
            "text/plain": [
              "<matplotlib.colorbar.Colorbar at 0x7c833cf180d0>"
            ]
          },
          "metadata": {},
          "execution_count": 6
        },
        {
          "output_type": "display_data",
          "data": {
            "text/plain": [
              "<Figure size 640x480 with 2 Axes>"
            ],
            "image/png": "[encoded data removed]"
          },
          "metadata": {}
        }
      ]
    },
    {
      "cell_type": "code",
      "source": [
        "counts, sums = me.matmul_classify(a,b)\n",
        "print(f\"counts: {counts.shape}\")"
      ],
      "metadata": {
        "colab": {
          "base_uri": "https://localhost:8080/"
        },
        "id": "GZT4EngZMUyi",
        "outputId": "ce761c65-7ea2-4840-9a75-281d1d30fd81"
      },
      "execution_count": null,
      "outputs": [
        {
          "output_type": "stream",
          "name": "stdout",
          "text": [
            "counts: (100, 100, 9)\n"
          ]
        }
      ]
    },
    {
      "cell_type": "code",
      "source": [
        "res = np.matmul(a, b)\n",
        "mask = res == 0\n",
        "counts, sums = me.matmul_classify(a,b)\n",
        "\n",
        "plt.figure(figsize=(10,3))\n",
        "\n",
        "plt.subplot(1,2,1)\n",
        "argsrt = np.argsort(counts, axis=-1)\n",
        "print(f\"sorted counts: {argsrt.shape}\")\n",
        "plt.imshow(argsrt[:,:,0])\n",
        "plt.colorbar()\n",
        "\n",
        "plt.subplot(1,2,2)\n",
        "mask = res == 0\n",
        "counts = counts * mask[..., np.newaxis]\n",
        "argsrt = np.argsort(counts, axis=-1)\n",
        "print(f\"sorted counts: {argsrt.shape}\")\n",
        "plt.imshow(argsrt[:,:,0])\n",
        "plt.colorbar()\n",
        "\n",
        "plt.show()"
      ],
      "metadata": {
        "colab": {
          "base_uri": "https://localhost:8080/",
          "height": 332
        },
        "id": "RhtxCoLJU-cS",
        "outputId": "6229e382-00e1-468f-8b8c-c86bf959b9f2"
      },
      "execution_count": null,
      "outputs": [
        {
          "output_type": "stream",
          "name": "stdout",
          "text": [
            "sorted counts: (100, 100, 9)\n",
            "sorted counts: (100, 100, 9)\n"
          ]
        },
        {
          "output_type": "display_data",
          "data": {
            "text/plain": [
              "<Figure size 1000x300 with 4 Axes>"
            ],
            "image/png": "[encoded data removed]"
          },
          "metadata": {}
        }
      ]
    },
    {
      "cell_type": "code",
      "source": [
        "res = np.matmul(a, b)\n",
        "mask = res == 0\n",
        "counts, sums = me.matmul_classify(a,b)\n",
        "\n",
        "for i, indices in enumerate(zip(*np.where(mask))):\n",
        "  if i > 10:\n",
        "    break\n",
        "  print(f\"index: {indices} - counts: {counts[indices]} - sums: {sums[indices]}\")\n",
        "  pos_range = sums[indices][sums[indices] > 0]\n",
        "  print(f\"pos_range: {pos_range}\")"
      ],
      "metadata": {
        "colab": {
          "base_uri": "https://localhost:8080/"
        },
        "id": "sHBsqIo4qp2b",
        "outputId": "ca7427ec-dbd3-4c54-cdf2-2939a867bb4b"
      },
      "execution_count": null,
      "outputs": [
        {
          "output_type": "stream",
          "name": "stdout",
          "text": [
            "index: (1, 90) - counts: [12  8 11  5  6 13 22  6 17] - sums: [  96.    0.  -49.    0.    0.    0. -146.    0.   99.]\n",
            "pos_range: [96. 99.]\n",
            "index: (2, 71) - counts: [15 11 14  2  6  6 21  3 22] - sums: [ 105.    0.  -90.    0.    0.    0. -152.    0.  137.]\n",
            "pos_range: [105. 137.]\n",
            "index: (3, 78) - counts: [22  8 16  5  2 10 17  8 12] - sums: [ 133.    0. -114.    0.    0.    0.  -76.    0.   57.]\n",
            "pos_range: [133.  57.]\n",
            "index: (5, 37) - counts: [18  8 20 13  4  5 14  7 11] - sums: [119.   0. -98.   0.   0.   0. -90.   0.  69.]\n",
            "pos_range: [119.  69.]\n",
            "index: (8, 62) - counts: [17  6 16  9  2  5 16 10 19] - sums: [ 110.    0. -121.    0.    0.    0. -117.    0.  128.]\n",
            "pos_range: [110. 128.]\n",
            "index: (10, 15) - counts: [14 11 20 10  3  4 18  9 11] - sums: [ 107.    0.  -85.    0.    0.    0. -123.    0.  101.]\n",
            "pos_range: [107. 101.]\n",
            "index: (10, 69) - counts: [16  6 23  5  4  8 16  9 13] - sums: [  83.    0.  -93.    0.    0.    0. -100.    0.  110.]\n",
            "pos_range: [ 83. 110.]\n",
            "index: (10, 93) - counts: [16  7 22  6  2  9 14  7 17] - sums: [  78.    0.  -96.    0.    0.    0. -101.    0.  119.]\n",
            "pos_range: [ 78. 119.]\n",
            "index: (12, 87) - counts: [15  7 23  9  3 10  8  6 19] - sums: [  88.    0. -166.    0.    0.    0.  -39.    0.  117.]\n",
            "pos_range: [ 88. 117.]\n",
            "index: (14, 86) - counts: [15  9 13  9  6 11 15  6 16] - sums: [  86.    0. -115.    0.    0.    0.  -64.    0.   93.]\n",
            "pos_range: [86. 93.]\n",
            "index: (15, 21) - counts: [19  6 14 10  5 10 14  3 19] - sums: [ 105.    0.  -77.    0.    0.    0. -122.    0.   94.]\n",
            "pos_range: [105.  94.]\n"
          ]
        }
      ]
    },
    {
      "cell_type": "code",
      "source": [
        "def _classify_terms(example=None, retain_shape=True):\n",
        "    \"\"\"\n",
        "    Identifies the appropriate terms list based on the example given, or otherwise\n",
        "    assumes the terms for a full mat-mul like operation.\n",
        "\n",
        "    Args:\n",
        "        example: a count or sum result from a call to matmul_classify() or similar,\n",
        "            or the tensor containing both the count and sum.\n",
        "        retain_shape: whether to tile the terms out and to return an array\n",
        "            in the same shape as the provided example. Only allowed if an example is included.\n",
        "\n",
        "    Returns:\n",
        "        list of strings, containing the names of the terms in the default order\n",
        "        OR\n",
        "        np-array in same shape as example with identified term for each value\n",
        "    \"\"\"\n",
        "    shape = None\n",
        "    if example is None:\n",
        "        tensor_count = 2   # default\n",
        "    else:\n",
        "        if isinstance(example, tuple):\n",
        "            example, _ = example\n",
        "        shape = np.shape(example)\n",
        "        channels = shape[-1]\n",
        "        if channels == 3:\n",
        "            tensor_count = 1\n",
        "        elif channels == 9:\n",
        "            tensor_count = 2\n",
        "        else:\n",
        "            raise ValueError(\"Unrecognised example with {channels} in last dim: {shape}\")\n",
        "\n",
        "    if tensor_count == 1:\n",
        "        term_list = ['P', 'Z', 'N']\n",
        "    else:\n",
        "        term_list = ['PP', 'PZ', 'PN', 'ZP', 'ZZ', 'ZN', 'NP', 'NZ', 'NN']\n",
        "\n",
        "    if retain_shape:\n",
        "        if shape is None:\n",
        "            raise ValueError(\"Cannot retain shape without example\")\n",
        "        value_shape = shape[:-1]\n",
        "        term_count = len(term_list)\n",
        "        term_array = np.array(term_list)\n",
        "        terms = np.reshape(term_array, (1,) * len(value_shape) + (term_count,))\n",
        "        terms = np.tile(terms, reps=value_shape + (1,))\n",
        "        return terms\n",
        "    else:\n",
        "        return term_list\n",
        "\n",
        "print(f\"scalar x 9 terms:\")\n",
        "counts = np.array([[0, 1, 2, 3, 4, 5, 6, 7, 8]])\n",
        "terms = _classify_terms(counts, retain_shape=True)\n",
        "print(f\"shapes: counts={counts.shape}, terms={terms.shape}\")\n",
        "print(f\"terms: {terms}\")\n",
        "\n",
        "print(f\"2d x 9 terms:\")\n",
        "counts = np.array([\n",
        "    [[0, 1, 2, 3, 4, 5, 6, 7, 8], [8, 7, 6, 5, 4, 3, 2, 1, 0]]\n",
        "])\n",
        "terms = _classify_terms(counts, retain_shape=True)\n",
        "print(f\"shapes: counts={counts.shape}, terms={terms.shape}\")\n",
        "print(f\"terms: {terms}\")\n",
        "\n",
        "print(f\"2d x 3 terms:\")\n",
        "counts = np.array([\n",
        "    [[0, 1, 2], [8, 7, 6]]\n",
        "])\n",
        "terms = _classify_terms(counts, retain_shape=True)\n",
        "print(f\"shapes: counts={counts.shape}, terms={terms.shape}\")\n",
        "print(f\"terms: {terms}\")"
      ],
      "metadata": {
        "colab": {
          "base_uri": "https://localhost:8080/"
        },
        "id": "6p7u4BcBhuFL",
        "outputId": "bf3145be-ba7b-4b9e-adb7-9bb3c5621526"
      },
      "execution_count": 74,
      "outputs": [
        {
          "output_type": "stream",
          "name": "stdout",
          "text": [
            "scalar x 9 terms:\n",
            "shapes: counts=(1, 9), terms=(1, 9)\n",
            "terms: [['PP' 'PZ' 'PN' 'ZP' 'ZZ' 'ZN' 'NP' 'NZ' 'NN']]\n",
            "2d x 9 terms:\n",
            "shapes: counts=(1, 2, 9), terms=(1, 2, 9)\n",
            "terms: [[['PP' 'PZ' 'PN' 'ZP' 'ZZ' 'ZN' 'NP' 'NZ' 'NN']\n",
            "  ['PP' 'PZ' 'PN' 'ZP' 'ZZ' 'ZN' 'NP' 'NZ' 'NN']]]\n",
            "2d x 3 terms:\n",
            "shapes: counts=(1, 2, 3), terms=(1, 2, 3)\n",
            "terms: [[['P' 'Z' 'N']\n",
            "  ['P' 'Z' 'N']]]\n"
          ]
        }
      ]
    },
    {
      "cell_type": "code",
      "source": [
        "def _partial_filter_by_sum(counts, sums, terms, masks, completeness):\n",
        "  # determine thresholds against sums\n",
        "  pos_range = np.sum((sums * (sums > 0)), axis=-1)\n",
        "  neg_range = np.abs(np.sum((sums * (sums < 0)), axis=-1))\n",
        "  abs_range = np.maximum(pos_range, neg_range)\n",
        "  threshold = abs_range * (1 - completeness)  # shape: value_shape\n",
        "\n",
        "  # sort everything according to sum magnitudes, smallest first for cumsum\n",
        "  sort_order = np.argsort(np.abs(sums), axis=-1)\n",
        "  counts = np.take_along_axis(counts, sort_order, axis=-1)\n",
        "  sums = np.take_along_axis(sums, sort_order, axis=-1)\n",
        "  terms = np.take_along_axis(terms, sort_order, axis=-1)\n",
        "  masks = np.take_along_axis(masks, sort_order, axis=-1)  # shape: value_shape + (terms,)\n",
        "\n",
        "  # update masks\n",
        "  # - starting from front, sums up positive and negative \"marginal\" sums separately\n",
        "  # - the threshold point is the point where the max of the absolute margins >= threshold\n",
        "  pos_margin_sums = np.cumsum(sums * (sums > 0), axis=-1)\n",
        "  neg_margin_sums = np.cumsum(sums * (sums < 0), axis=-1)\n",
        "  mag_margin_sums = np.maximum(pos_margin_sums, np.abs(neg_margin_sums))  # shape: value_shape + (terms,)\n",
        "  threshold_mask = mag_margin_sums >= threshold[..., np.newaxis]  # shape: value_shape + (terms,)\n",
        "  masks = np.logical_or(threshold_mask, masks)\n",
        "\n",
        "  # flip final results for largest-to-smallest order\n",
        "  counts = np.flip(counts, axis=-1)\n",
        "  sums = np.flip(sums, axis=-1)\n",
        "  terms = np.flip(terms, axis=-1)\n",
        "  masks = np.flip(masks, axis=-1)\n",
        "  return counts, sums, terms, masks\n",
        "\n",
        "def _partial_filter_by_sum_test():\n",
        "  counts = np.array([\n",
        "      [0, 1, 2, 3, 4, 5, 6, 7, 8],\n",
        "      [0, 1, 2, 3, 4, 5, 6, 7, 8],\n",
        "      [8, 7, 6, 5, 4, 3, 2, 1, 0],\n",
        "  ])\n",
        "  sums = np.array([\n",
        "      [ 0,  1,  3,  6, 10, 15, 21, 28, 36],\n",
        "      [ 0, 36, 1, 28, 3, 21, 6, 15, 10],\n",
        "      [8, 15, 21, 26, 30, 33, 35, 36, 0],\n",
        "  ])\n",
        "  expected_counts = np.array([\n",
        "      [8, 7, 6, 5, 4, 3, 2, 1, 0],\n",
        "      [1, 3, 5, 7, 8, 6, 4, 2, 0],\n",
        "      [1, 2, 3, 4, 5, 6, 7, 8, 0],\n",
        "  ])\n",
        "  expected_sums = np.array([\n",
        "      [36, 28, 21, 15, 10, 6, 3, 1, 0],\n",
        "      [36, 28, 21, 15, 10, 6, 3, 1, 0],\n",
        "      [36, 35, 33, 30, 26, 21, 15, 8, 0],\n",
        "  ])\n",
        "  expected_terms = np.array([\n",
        "      ['NN', 'NZ', 'NP', 'ZN', 'ZZ', 'ZP', 'PN', 'PZ', 'PP'],\n",
        "      ['PZ', 'ZP', 'ZN', 'NZ', 'NN', 'NP', 'ZZ', 'PN', 'PP'],\n",
        "      ['NZ', 'NP', 'ZN', 'ZZ', 'ZP', 'PN', 'PZ', 'PP', 'NN'],\n",
        "  ])\n",
        "  expected_masks = np.array([\n",
        "      [True, True, True, True, False, False, False, False, False],\n",
        "      [True, True, True, True, False, False, False, False, False],\n",
        "      [True, True, True, True, True, False, False, False, False],\n",
        "  ])\n",
        "\n",
        "  terms = _classify_terms(counts, retain_shape=True)\n",
        "  masks = np.zeros_like(counts, dtype=bool)\n",
        "  counts, sums, terms, masks = _partial_filter_by_sum(counts, sums, terms, masks, completeness=0.75)\n",
        "  assert np.all(counts == expected_counts), f\"Expected counts {expected_counts}, got: {counts}\"\n",
        "  assert np.all(sums == expected_sums), f\"Expected sums {expected_sums}, got: {sums}\"\n",
        "  assert np.all(terms == expected_terms), f\"Expected terms {expected_terms}, got: {terms}\"\n",
        "  assert np.all(masks == expected_masks), f\"Expected masks {expected_masks}, got: {masks}\"\n",
        "\n",
        "_partial_filter_by_sum_test()\n",
        "\n",
        "counts = np.array([\n",
        "    [0, 1, 2, 3, 4, 5, 6, 7, 8],\n",
        "    [0, 1, 2, 3, 4, 5, 6, 7, 8],\n",
        "    [8, 7, 6, 5, 4, 3, 2, 1, 0],\n",
        "])\n",
        "sums = np.array([\n",
        "    [ 0,  1,  3,  6, 10, 15, 21, 28, 36],\n",
        "    [ 0, 36, 1, 28, 3, 21, 6, 15, 10],\n",
        "    [8, 15, 21, 26, 30, 33, 35, 36, 0],\n",
        "])\n",
        "terms = _classify_terms(counts, retain_shape=True)\n",
        "masks = np.zeros_like(counts, dtype=bool)\n",
        "counts, sums, terms, masks = _partial_filter_by_sum(counts, sums, terms, masks, completeness=0.75)\n",
        "print(f\"counts: {counts}\")\n",
        "print(f\"sums: {sums}\")\n",
        "print(f\"terms: {terms}\")\n",
        "print(f\"masks: {masks}\")\n",
        "\n"
      ],
      "metadata": {
        "colab": {
          "base_uri": "https://localhost:8080/"
        },
        "id": "mNR87Yi0fZ41",
        "outputId": "d2f18b91-9e24-4710-ca1a-208dfc4365d0"
      },
      "execution_count": 102,
      "outputs": [
        {
          "output_type": "stream",
          "name": "stdout",
          "text": [
            "counts: [[8 7 6 5 4 3 2 1 0]\n",
            " [1 3 5 7 8 6 4 2 0]\n",
            " [1 2 3 4 5 6 7 8 0]]\n",
            "sums: [[36 28 21 15 10  6  3  1  0]\n",
            " [36 28 21 15 10  6  3  1  0]\n",
            " [36 35 33 30 26 21 15  8  0]]\n",
            "terms: [['NN' 'NZ' 'NP' 'ZN' 'ZZ' 'ZP' 'PN' 'PZ' 'PP']\n",
            " ['PZ' 'ZP' 'ZN' 'NZ' 'NN' 'NP' 'ZZ' 'PN' 'PP']\n",
            " ['NZ' 'NP' 'ZN' 'ZZ' 'ZP' 'PN' 'PZ' 'PP' 'NN']]\n",
            "masks: [[ True  True  True  True False False False False False]\n",
            " [ True  True  True  True False False False False False]\n",
            " [ True  True  True  True  True False False False False]]\n"
          ]
        }
      ]
    },
    {
      "cell_type": "code",
      "source": [
        "def _partial_filter_by_count(counts, sums, terms, masks, completeness):\n",
        "  # determine thresholds against counts\n",
        "  threshold = np.sum(counts, axis=-1) * (1 - completeness)\n",
        "  print(f\"threshold (counts): {threshold.shape} in range {np.min(threshold)} .. {np.max(threshold)}\")\n",
        "\n",
        "  # sort everything according to counts, smallest first for cumsum\n",
        "  sort_order = np.argsort(counts, axis=-1)\n",
        "  counts = np.take_along_axis(counts, sort_order, axis=-1)\n",
        "  sums = np.take_along_axis(sums, sort_order, axis=-1)\n",
        "  terms = np.take_along_axis(terms, sort_order, axis=-1)\n",
        "  masks = np.take_along_axis(masks, sort_order, axis=-1)  # shape: value_shape + (terms,)\n",
        "\n",
        "  # update masks\n",
        "  # - starting from front, sums up \"marginal\" counts\n",
        "  # - the threshold point is the point where the margins >= threshold\n",
        "  margin_counts = np.cumsum(counts, axis=-1)  # shape: value_shape + (terms,)\n",
        "  threshold_mask = margin_counts >= threshold[..., np.newaxis]  # shape: value_shape + (terms,)\n",
        "  masks = np.logical_or(threshold_mask, masks)\n",
        "\n",
        "  # flip final results for largest-to-smallest order\n",
        "  counts = np.flip(counts, axis=-1)\n",
        "  sums = np.flip(sums, axis=-1)\n",
        "  terms = np.flip(terms, axis=-1)\n",
        "  masks = np.flip(masks, axis=-1)\n",
        "  return counts, sums, terms, masks\n",
        "\n",
        "def _partial_filter_by_count_test():\n",
        "  counts = np.array([\n",
        "      [0, 1, 2, 3, 4, 5, 6, 7, 8],\n",
        "      [0, 1, 2, 3, 4, 5, 6, 7, 8],\n",
        "      [8, 7, 6, 5, 4, 3, 2, 1, 0],\n",
        "  ])\n",
        "  sums = np.array([\n",
        "      [ 0,  1,  3,  6, 10, 15, 21, 28, 36],\n",
        "      [ 0, 36, 1, 28, 3, 21, 6, 15, 10],\n",
        "      [8, 15, 21, 26, 30, 33, 35, 36, 0],\n",
        "  ])\n",
        "  expected_counts = np.array([\n",
        "      [8, 7, 6, 5, 4, 3, 2, 1, 0],\n",
        "      [8, 7, 6, 5, 4, 3, 2, 1, 0],\n",
        "      [8, 7, 6, 5, 4, 3, 2, 1, 0],\n",
        "  ])\n",
        "  expected_sums = np.array([\n",
        "      [36, 28, 21, 15, 10, 6, 3, 1, 0],\n",
        "      [10, 15, 6, 21, 3, 28, 1, 36, 0],\n",
        "      [8, 15, 21, 26, 30, 33, 35, 36, 0],\n",
        "  ])\n",
        "  expected_terms = np.array([\n",
        "      ['NN', 'NZ', 'NP', 'ZN', 'ZZ', 'ZP', 'PN', 'PZ', 'PP'],\n",
        "      ['NN', 'NZ', 'NP', 'ZN', 'ZZ', 'ZP', 'PN', 'PZ', 'PP'],\n",
        "      ['PP', 'PZ', 'PN', 'ZP', 'ZZ', 'ZN', 'NP', 'NZ', 'NN'],\n",
        "  ])\n",
        "  expected_masks = np.array([\n",
        "      [True, True, True, True, True, False, False, False, False],\n",
        "      [True, True, True, True, True, False, False, False, False],\n",
        "      [True, True, True, True, True, False, False, False, False],\n",
        "  ])\n",
        "\n",
        "  terms = _classify_terms(counts, retain_shape=True)\n",
        "  masks = np.zeros_like(counts, dtype=bool)\n",
        "  counts, sums, terms, masks = _partial_filter_by_count(counts, sums, terms, masks, completeness=0.75)\n",
        "  assert np.all(counts == expected_counts), f\"Expected counts {expected_counts}, got: {counts}\"\n",
        "  assert np.all(sums == expected_sums), f\"Expected sums {expected_sums}, got: {sums}\"\n",
        "  assert np.all(terms == expected_terms), f\"Expected terms {expected_terms}, got: {terms}\"\n",
        "  assert np.all(masks == expected_masks), f\"Expected masks {expected_masks}, got: {masks}\"\n",
        "\n",
        "_partial_filter_by_count_test()\n",
        "\n",
        "counts = np.array([\n",
        "    [0, 1, 2, 3, 4, 5, 6, 7, 8],\n",
        "    [0, 1, 2, 3, 4, 5, 6, 7, 8],\n",
        "    [8, 7, 6, 5, 4, 3, 2, 1, 0],\n",
        "])\n",
        "sums = np.array([\n",
        "    [ 0,  1,  3,  6, 10, 15, 21, 28, 36],\n",
        "    [ 0, 36, 1, 28, 3, 21, 6, 15, 10],\n",
        "    [8, 15, 21, 26, 30, 33, 35, 36, 0],\n",
        "])\n",
        "terms = _classify_terms(counts, retain_shape=True)\n",
        "masks = np.zeros_like(counts, dtype=bool)\n",
        "counts, sums, terms, masks = _partial_filter_by_count(counts, sums, terms, masks, completeness=0.75)\n",
        "print(f\"counts: {counts}\")\n",
        "print(f\"sums: {sums}\")\n",
        "print(f\"terms: {terms}\")\n",
        "print(f\"masks: {masks}\")\n"
      ],
      "metadata": {
        "colab": {
          "base_uri": "https://localhost:8080/"
        },
        "id": "glXlPu5ysWvJ",
        "outputId": "4842b361-23cb-44b0-c564-99de68e7c9f3"
      },
      "execution_count": 103,
      "outputs": [
        {
          "output_type": "stream",
          "name": "stdout",
          "text": [
            "threshold (counts): (3,) in range 9.0 .. 9.0\n",
            "threshold (counts): (3,) in range 9.0 .. 9.0\n",
            "counts: [[8 7 6 5 4 3 2 1 0]\n",
            " [8 7 6 5 4 3 2 1 0]\n",
            " [8 7 6 5 4 3 2 1 0]]\n",
            "sums: [[36 28 21 15 10  6  3  1  0]\n",
            " [10 15  6 21  3 28  1 36  0]\n",
            " [ 8 15 21 26 30 33 35 36  0]]\n",
            "terms: [['NN' 'NZ' 'NP' 'ZN' 'ZZ' 'ZP' 'PN' 'PZ' 'PP']\n",
            " ['NN' 'NZ' 'NP' 'ZN' 'ZZ' 'ZP' 'PN' 'PZ' 'PP']\n",
            " ['PP' 'PZ' 'PN' 'ZP' 'ZZ' 'ZN' 'NP' 'NZ' 'NN']]\n",
            "masks: [[ True  True  True  True  True False False False False]\n",
            " [ True  True  True  True  True False False False False]\n",
            " [ True  True  True  True  True False False False False]]\n"
          ]
        }
      ]
    },
    {
      "cell_type": "code",
      "source": [
        "def filter_classifications(counts, sums, completeness=0.75):\n",
        "  \"\"\"\n",
        "  Filters classification data in order to retain a certain\n",
        "  \"completeness of explanatory coverage\". This eliminates less important noise,\n",
        "  making it easier to understand any summaries produced from it.\n",
        "  It is also useful for grouping similar classification results that have\n",
        "  the same major structure, while ignoring less important noise.\n",
        "\n",
        "  The final returned counts, sums, and terms are sorted for descending\n",
        "  counts.\n",
        "\n",
        "  Everything is determined independently for each each position\n",
        "  within the original value tensor, including for final sort. Thus the result\n",
        "  also includes a terms tensor, with the same shape as counts and sums,\n",
        "  in order to identify the final terms order for each position.\n",
        "\n",
        "  Returns:\n",
        "    (counts, sums, terms) - sorted and filtered\n",
        "  \"\"\"\n",
        "  # steps:\n",
        "  # - initialise a full tuple of (counts, sums, terms, masks) that will always be sorted\n",
        "  #   together simultaneously\n",
        "  # - do a sort and filter by sums first\n",
        "  #   - while the final output is primarily by count, sometimes there are a small number\n",
        "  #     of unusually large values and we want to see those too\n",
        "  # - then do a sort and filter by counts\n",
        "  # - combine final result masks\n",
        "  # - set all rejected values to zeros\n",
        "  # - final result is sorted according to counts, largest first\n",
        "  terms = _classify_terms(counts, retain_shape=True)\n",
        "  masks = np.zeros_like(counts, dtype=bool)\n",
        "  counts, sums, terms, masks = _partial_filter_by_sum(counts, sums, terms, masks, completeness)\n",
        "  counts, sums, terms, masks = _partial_filter_by_count(counts, sums, terms, masks, completeness)\n",
        "\n",
        "  # apply masks\n",
        "  counts = counts * masks\n",
        "  sums = sums * masks\n",
        "  terms = np.where(masks, terms, '--')\n",
        "\n",
        "  # apply final sorting - by descending count after masking\n",
        "  # - although _partial_filter_by_count() will have returned things in the right sort order,\n",
        "  #   now that we've applied the mask, some of the counts have changed to zero and the order\n",
        "  #   isn't now quite accurate.\n",
        "  # - for example, if there's a low-count high-sum, it'll be at the end somewhere\n",
        "  #   and now needs to come further forward.\n",
        "  sort_order = np.argsort(-counts, axis=-1)  # negate for descending order\n",
        "  counts = np.take_along_axis(counts, sort_order, axis=-1)\n",
        "  sums = np.take_along_axis(sums, sort_order, axis=-1)\n",
        "  terms = np.take_along_axis(terms, sort_order, axis=-1)\n",
        "  return counts, sums, terms\n",
        "\n",
        "def filter_classifications_test():\n",
        "  counts = np.array([\n",
        "      [0, 1, 2, 3, 4, 5, 6, 7, 8],\n",
        "      [0, 1, 2, 3, 4, 5, 6, 7, 8],\n",
        "      [8, 7, 6, 5, 4, 3, 2, 1, 0],\n",
        "  ])\n",
        "  sums = np.array([\n",
        "      [ 0,  1,  3,  6, 10, 15, 21, 28, 36],\n",
        "      [ 0, 36, 1, 28, 3, 21, 6, 15, 10],\n",
        "      [8, 15, 21, 26, 30, 33, 35, 36, 0],\n",
        "  ])\n",
        "  expected_counts = np.array([\n",
        "      [8, 7, 6, 5, 4, 0, 0, 0, 0],\n",
        "      [8, 7, 6, 5, 4, 3, 1, 0, 0],\n",
        "      [8, 7, 6, 5, 4, 3, 2, 1, 0],\n",
        "  ])\n",
        "  expected_sums = np.array([\n",
        "      [36, 28, 21, 15, 10, 0, 0, 0, 0],\n",
        "      [10, 15, 6, 21, 3, 28, 36, 0, 0],\n",
        "      [8, 15, 21, 26, 30, 33, 35, 36, 0],\n",
        "  ])\n",
        "  expected_terms = np.array([\n",
        "      ['NN', 'NZ', 'NP', 'ZN', 'ZZ', '--', '--', '--', '--'],\n",
        "      ['NN', 'NZ', 'NP', 'ZN', 'ZZ', 'ZP', 'PZ', '--', '--'],\n",
        "      ['PP', 'PZ', 'PN', 'ZP', 'ZZ', 'ZN', 'NP', 'NZ', '--'],\n",
        "  ])\n",
        "\n",
        "  counts, sums, terms = filter_classifications(counts, sums, completeness=0.75)\n",
        "  assert np.all(counts == expected_counts), f\"Expected counts {expected_counts}, got: {counts}\"\n",
        "  assert np.all(sums == expected_sums), f\"Expected sums {expected_sums}, got: {sums}\"\n",
        "  assert np.all(terms == expected_terms), f\"Expected terms {expected_terms}, got: {terms}\"\n",
        "\n",
        "filter_classifications_test()\n",
        "\n",
        "counts = np.array([\n",
        "    [0, 1, 2, 3, 4, 5, 6, 7, 8],\n",
        "    [0, 1, 2, 3, 4, 5, 6, 7, 8],\n",
        "    [8, 7, 6, 5, 4, 3, 2, 1, 0],\n",
        "])\n",
        "sums = np.array([\n",
        "    [ 0,  1,  3,  6, 10, 15, 21, 28, 36],\n",
        "    [ 0, 36, 1, 28, 3, 21, 6, 15, 10],\n",
        "    [8, 15, 21, 26, 30, 33, 35, 36, 0],\n",
        "])\n",
        "counts, sums, terms = filter_classifications(counts, sums, completeness=0.75)\n",
        "print(f\"counts: {counts}\")\n",
        "print(f\"sums: {sums}\")\n",
        "print(f\"terms: {terms}\")"
      ],
      "metadata": {
        "colab": {
          "base_uri": "https://localhost:8080/"
        },
        "id": "iexs55IddoPB",
        "outputId": "003e6256-2bb8-4d4e-c023-a175f9f937bd"
      },
      "execution_count": 105,
      "outputs": [
        {
          "output_type": "stream",
          "name": "stdout",
          "text": [
            "threshold (counts): (3,) in range 9.0 .. 9.0\n",
            "threshold (counts): (3,) in range 9.0 .. 9.0\n",
            "counts: [[8 7 6 5 4 0 0 0 0]\n",
            " [8 7 6 5 4 3 1 0 0]\n",
            " [8 7 6 5 4 3 2 1 0]]\n",
            "sums: [[36 28 21 15 10  0  0  0  0]\n",
            " [10 15  6 21  3 28 36  0  0]\n",
            " [ 8 15 21 26 30 33 35 36  0]]\n",
            "terms: [['NN' 'NZ' 'NP' 'ZN' 'ZZ' '--' '--' '--' '--']\n",
            " ['NN' 'NZ' 'NP' 'ZN' 'ZZ' 'ZP' 'PZ' '--' '--']\n",
            " ['PP' 'PZ' 'PN' 'ZP' 'ZZ' 'ZN' 'NP' 'NZ' '--']]\n"
          ]
        }
      ]
    },
    {
      "cell_type": "code",
      "source": [
        "res = np.matmul(a, b)\n",
        "mask = res == 0\n",
        "counts, sums = me.matmul_classify(a,b)\n",
        "\n",
        "filtered_counts, filtered_sums, filtered_terms = filter_classifications(counts, sums)\n",
        "\n",
        "for i, indices in enumerate(zip(*np.where(mask))):\n",
        "  if i > 10:\n",
        "    break\n",
        "\n",
        "  print(f\"index: {indices} - counts: {counts[indices]} - sums: {sums[indices]}\")\n",
        "  print(f\"filtered_counts: {filtered_counts[indices]} - filtered_sums: {filtered_sums[indices]} - filtered_terms: {filtered_terms[indices]}\")"
      ],
      "metadata": {
        "colab": {
          "base_uri": "https://localhost:8080/"
        },
        "id": "IXu1SMlbqncA",
        "outputId": "dcfaf1c9-084f-4cb4-9ed8-f9ac6353f690"
      },
      "execution_count": null,
      "outputs": [
        {
          "output_type": "stream",
          "name": "stdout",
          "text": [
            "threshold: (100, 100) in range 33.0 .. 96.75\n",
            "index: (1, 90) - counts: [12  8 11  5  6 13 22  6 17] - sums: [  96.    0.  -49.    0.    0.    0. -146.    0.   99.]\n",
            "filtered_counts: [22 17 12 11  0  0  0  0  0] - filtered_sums: [-146.   99.   96.  -49.    0.    0.    0.    0.    0.] - filtered_terms: ['NP' 'NN' 'PP' 'PN' '--' '--' '--' '--' '--']\n",
            "index: (2, 71) - counts: [15 11 14  2  6  6 21  3 22] - sums: [ 105.    0.  -90.    0.    0.    0. -152.    0.  137.]\n",
            "filtered_counts: [21 22 15 14  0  0  0  0  0] - filtered_sums: [-152.  137.  105.  -90.    0.    0.    0.    0.    0.] - filtered_terms: ['NP' 'NN' 'PP' 'PN' '--' '--' '--' '--' '--']\n",
            "index: (3, 78) - counts: [22  8 16  5  2 10 17  8 12] - sums: [ 133.    0. -114.    0.    0.    0.  -76.    0.   57.]\n",
            "filtered_counts: [22 16 17 12  0  0  0  0  0] - filtered_sums: [ 133. -114.  -76.   57.    0.    0.    0.    0.    0.] - filtered_terms: ['PP' 'PN' 'NP' 'NN' '--' '--' '--' '--' '--']\n",
            "index: (5, 37) - counts: [18  8 20 13  4  5 14  7 11] - sums: [119.   0. -98.   0.   0.   0. -90.   0.  69.]\n",
            "filtered_counts: [18 20 14 11  0  0  0  0  0] - filtered_sums: [119. -98. -90.  69.   0.   0.   0.   0.   0.] - filtered_terms: ['PP' 'PN' 'NP' 'NN' '--' '--' '--' '--' '--']\n",
            "index: (8, 62) - counts: [17  6 16  9  2  5 16 10 19] - sums: [ 110.    0. -121.    0.    0.    0. -117.    0.  128.]\n",
            "filtered_counts: [19 16 16 17  0  0  0  0  0] - filtered_sums: [ 128. -121. -117.  110.    0.    0.    0.    0.    0.] - filtered_terms: ['NN' 'PN' 'NP' 'PP' '--' '--' '--' '--' '--']\n",
            "index: (10, 15) - counts: [14 11 20 10  3  4 18  9 11] - sums: [ 107.    0.  -85.    0.    0.    0. -123.    0.  101.]\n",
            "filtered_counts: [18 14 11 20  0  0  0  0  0] - filtered_sums: [-123.  107.  101.  -85.    0.    0.    0.    0.    0.] - filtered_terms: ['NP' 'PP' 'NN' 'PN' '--' '--' '--' '--' '--']\n",
            "index: (10, 69) - counts: [16  6 23  5  4  8 16  9 13] - sums: [  83.    0.  -93.    0.    0.    0. -100.    0.  110.]\n",
            "filtered_counts: [13 16 23 16  0  0  0  0  0] - filtered_sums: [ 110. -100.  -93.   83.    0.    0.    0.    0.    0.] - filtered_terms: ['NN' 'NP' 'PN' 'PP' '--' '--' '--' '--' '--']\n",
            "index: (10, 93) - counts: [16  7 22  6  2  9 14  7 17] - sums: [  78.    0.  -96.    0.    0.    0. -101.    0.  119.]\n",
            "filtered_counts: [17 14 22 16  0  0  0  0  0] - filtered_sums: [ 119. -101.  -96.   78.    0.    0.    0.    0.    0.] - filtered_terms: ['NN' 'NP' 'PN' 'PP' '--' '--' '--' '--' '--']\n",
            "index: (12, 87) - counts: [15  7 23  9  3 10  8  6 19] - sums: [  88.    0. -166.    0.    0.    0.  -39.    0.  117.]\n",
            "filtered_counts: [23 19 15  0  0  0  0  0  0] - filtered_sums: [-166.  117.   88.    0.    0.    0.    0.    0.    0.] - filtered_terms: ['PN' 'NN' 'PP' '--' '--' '--' '--' '--' '--']\n",
            "index: (14, 86) - counts: [15  9 13  9  6 11 15  6 16] - sums: [  86.    0. -115.    0.    0.    0.  -64.    0.   93.]\n",
            "filtered_counts: [13 16 15 15  0  0  0  0  0] - filtered_sums: [-115.   93.   86.  -64.    0.    0.    0.    0.    0.] - filtered_terms: ['PN' 'NN' 'PP' 'NP' '--' '--' '--' '--' '--']\n",
            "index: (15, 21) - counts: [19  6 14 10  5 10 14  3 19] - sums: [ 105.    0.  -77.    0.    0.    0. -122.    0.   94.]\n",
            "filtered_counts: [14 19 19 14  0  0  0  0  0] - filtered_sums: [-122.  105.   94.  -77.    0.    0.    0.    0.    0.] - filtered_terms: ['NP' 'PP' 'NN' 'PN' '--' '--' '--' '--' '--']\n"
          ]
        }
      ]
    },
    {
      "cell_type": "code",
      "source": [
        "del range"
      ],
      "metadata": {
        "id": "UnMWIy20qNlZ"
      },
      "execution_count": null,
      "outputs": []
    },
    {
      "cell_type": "code",
      "source": [
        "67mask = sums > 0\n",
        "\n",
        "sums[mask].shape"
      ],
      "metadata": {
        "colab": {
          "base_uri": "https://localhost:8080/"
        },
        "id": "EuFK1-2cnEve",
        "outputId": "b56d92ce-c229-4fc8-cd28-4b3c82a6f798"
      },
      "execution_count": null,
      "outputs": [
        {
          "output_type": "execute_result",
          "data": {
            "text/plain": [
              "(20000,)"
            ]
          },
          "metadata": {},
          "execution_count": 100
        }
      ]
    },
    {
      "cell_type": "code",
      "source": [
        "np.nonzero(mask)"
      ],
      "metadata": {
        "colab": {
          "base_uri": "https://localhost:8080/"
        },
        "id": "REWRtZK1nOd3",
        "outputId": "7a9d8df7-d5a8-426e-83af-924a392642eb"
      },
      "execution_count": null,
      "outputs": [
        {
          "output_type": "execute_result",
          "data": {
            "text/plain": [
              "3"
            ]
          },
          "metadata": {},
          "execution_count": 104
        }
      ]
    },
    {
      "cell_type": "code",
      "source": [
        "mask = sums[..., 1] > 0\n",
        "#sums[np.nonzero(mask) + (1,)]\n",
        "indices = np.nonzero(mask)\n",
        "indices + (1,)"
      ],
      "metadata": {
        "colab": {
          "base_uri": "https://localhost:8080/"
        },
        "id": "lMWnckAwmmlc",
        "outputId": "49d8d93c-7e1a-4a4e-9e90-691dc729a286"
      },
      "execution_count": null,
      "outputs": [
        {
          "output_type": "execute_result",
          "data": {
            "text/plain": [
              "(array([], dtype=int64), array([], dtype=int64), 1)"
            ]
          },
          "metadata": {},
          "execution_count": 107
        }
      ]
    },
    {
      "cell_type": "code",
      "source": [
        "terms = np.array(me.classify_terms())\n",
        "#sh =\n",
        "terms = np.reshape(t, (1,) * (len(counts.shape) - 1) + (counts.shape[-1],))\n",
        "np.tile(terms, reps=counts.shape[:-1] + (1,)).shape"
      ],
      "metadata": {
        "colab": {
          "base_uri": "https://localhost:8080/"
        },
        "id": "RTlH3DpXgNtg",
        "outputId": "c80895e9-956b-4ae6-85f9-ff68dd2d161b"
      },
      "execution_count": null,
      "outputs": [
        {
          "output_type": "execute_result",
          "data": {
            "text/plain": [
              "(100, 100, 9)"
            ]
          },
          "metadata": {},
          "execution_count": 88
        }
      ]
    },
    {
      "cell_type": "code",
      "source": [
        "counts.shape[:-1]"
      ],
      "metadata": {
        "colab": {
          "base_uri": "https://localhost:8080/"
        },
        "id": "bqV7J92oh9SY",
        "outputId": "cbe74268-01ed-4ea3-e583-e3e2518e5881"
      },
      "execution_count": null,
      "outputs": [
        {
          "output_type": "execute_result",
          "data": {
            "text/plain": [
              "(100, 100)"
            ]
          },
          "metadata": {},
          "execution_count": 86
        }
      ]
    },
    {
      "cell_type": "code",
      "source": [
        "pos_range = np.sum((sums * (sums > 0)), axis=-1)\n",
        "neg_range = np.abs(np.sum((sums * (sums < 0)), axis=-1))\n",
        "range = np.maximum(pos_range, neg_range)\n",
        "range\n",
        "plt.imshow(range)"
      ],
      "metadata": {
        "colab": {
          "base_uri": "https://localhost:8080/",
          "height": 450
        },
        "id": "zjph6eUIcssO",
        "outputId": "833c2d4b-1b41-455c-f77b-34eaf47bb14c"
      },
      "execution_count": null,
      "outputs": [
        {
          "output_type": "execute_result",
          "data": {
            "text/plain": [
              "<matplotlib.image.AxesImage at 0x7eb30341d010>"
            ]
          },
          "metadata": {},
          "execution_count": 66
        },
        {
          "output_type": "display_data",
          "data": {
            "text/plain": [
              "<Figure size 640x480 with 1 Axes>"
            ],
            "image/png": "[encoded data removed]"
          },
          "metadata": {}
        }
      ]
    },
    {
      "cell_type": "code",
      "source": [],
      "metadata": {
        "id": "JM6uDUbcZ8WA"
      },
      "execution_count": null,
      "outputs": []
    }
  ]
}