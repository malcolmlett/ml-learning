{
  "nbformat": 4,
  "nbformat_minor": 0,
  "metadata": {
    "colab": {
      "provenance": [],
      "authorship_tag": "ABX9TyNu/Uj+oucewAw6L/k20b0/",
      "include_colab_link": true
    },
    "kernelspec": {
      "name": "python3",
      "display_name": "Python 3"
    },
    "language_info": {
      "name": "python"
    }
  },
  "cells": [
    {
      "cell_type": "markdown",
      "metadata": {
        "id": "view-in-github",
        "colab_type": "text"
      },
      "source": [
        "<a href=\"https://colab.research.google.com/github/malcolmlett/ml-learning/blob/main/Learning_visualisations_v7.ipynb\" target=\"_parent\"><img src=\"https://colab.research.google.com/assets/colab-badge.svg\" alt=\"Open In Colab\"/></a>"
      ]
    },
    {
      "cell_type": "code",
      "execution_count": null,
      "metadata": {
        "id": "17E8_gahtOi5"
      },
      "outputs": [],
      "source": []
    },
    {
      "cell_type": "markdown",
      "source": [
        "# Learning Visualisations v7: Productionising Gradient capturing and visualisation\n",
        "This notebook carries on from v4 with work to productionise the capture and display of gradient information.\n",
        "\n",
        "However it takes a more cautious small-step approach:\n",
        "* Uses a custom-training loop instead of trying to wrap an optimizer (later experience has shown that the optimizer wrapping needs some more work to be compatible with the later versions of Keras)\n",
        "* Doesn't try to work out gradient sign changes, just the raw gradients.\n",
        "* Supports some more variations of model architecture.\n",
        "* Tries to be as close to plug'n'play as possible."
      ],
      "metadata": {
        "id": "CjHhoHWntSHr"
      }
    },
    {
      "cell_type": "code",
      "source": [
        "# Clone repo and load its modules\n",
        "\n",
        "import os\n",
        "if os.path.isdir('repo'):\n",
        "  # discard any local changes and update\n",
        "  !cd repo && git reset --hard HEAD\n",
        "  !cd repo && git fetch\n",
        "else:\n",
        "  !git clone https://github.com/malcolmlett/ml-learning.git repo\n",
        "\n",
        "# lock to revision\n",
        "!cd repo && git pull\n",
        "\n",
        "import sys\n",
        "sys.path.append('repo')\n",
        "\n",
        "import toolkit\n",
        "from importlib import reload\n",
        "reload(toolkit)"
      ],
      "metadata": {
        "colab": {
          "base_uri": "https://localhost:8080/"
        },
        "id": "SKGCWrlbMpjd",
        "outputId": "17d93fba-4c2a-4ee6-8524-1119a3c897bf"
      },
      "execution_count": 88,
      "outputs": [
        {
          "output_type": "stream",
          "name": "stdout",
          "text": [
            "HEAD is now at fb05939 Merge remote-tracking branch 'refs/remotes/origin/main'\n",
            "remote: Enumerating objects: 10, done.\u001b[K\n",
            "remote: Counting objects: 100% (10/10), done.\u001b[K\n",
            "remote: Compressing objects: 100% (5/5), done.\u001b[K\n",
            "remote: Total 8 (delta 4), reused 5 (delta 3), pack-reused 0 (from 0)\u001b[K\n",
            "Unpacking objects: 100% (8/8), 105.70 KiB | 7.55 MiB/s, done.\n",
            "From https://github.com/malcolmlett/ml-learning\n",
            "   fb05939..9e4324f  main       -> origin/main\n",
            "Updating fb05939..9e4324f\n",
            "Fast-forward\n",
            " Learning_visualisations_v7.ipynb | 725 \u001b[32m+++++++++++++++++++++++++++++++++++++++++++++++++++++++++++\u001b[m\n",
            " toolkit.py                       |   4 \u001b[32m+\u001b[m\u001b[31m-\u001b[m\n",
            " 2 files changed, 727 insertions(+), 2 deletions(-)\n",
            " create mode 100644 Learning_visualisations_v7.ipynb\n"
          ]
        },
        {
          "output_type": "execute_result",
          "data": {
            "text/plain": [
              "<module 'toolkit' from '/content/repo/toolkit.py'>"
            ]
          },
          "metadata": {},
          "execution_count": 88
        }
      ]
    },
    {
      "cell_type": "code",
      "source": [
        "import tensorflow as tf\n",
        "from tensorflow.keras import layers, models, datasets, optimizers, metrics\n",
        "import numpy as np\n",
        "import matplotlib.pyplot as plt\n",
        "import math\n",
        "import sklearn\n",
        "import sklearn.datasets\n",
        "import time\n",
        "import timeit"
      ],
      "metadata": {
        "id": "nVmk3i3IvC1L"
      },
      "execution_count": 1,
      "outputs": []
    },
    {
      "cell_type": "code",
      "source": [
        "def plot_fit(history = None):\n",
        "  pnum = 1\n",
        "\n",
        "  plt.figure(layout='constrained')\n",
        "  if history != None:\n",
        "    plt.subplot(1,pnum,1)\n",
        "    plt.plot(history.history['loss'])\n",
        "    plt.title('Loss')\n",
        "    plt.xlabel('Epoch')\n",
        "    plt.yscale('log')\n",
        "  plt.show()"
      ],
      "metadata": {
        "id": "TdWcLb8QuAAV"
      },
      "execution_count": 66,
      "outputs": []
    },
    {
      "cell_type": "markdown",
      "source": [
        "## Baseline"
      ],
      "metadata": {
        "id": "yKPHAkzY9mpB"
      }
    },
    {
      "cell_type": "code",
      "source": [
        "def binary_classification_model(init_scheme):\n",
        "  \"\"\"\n",
        "  init_scheme: one of \"zeros\", \"large_normal\", \"he_normal\"\n",
        "  \"\"\"\n",
        "  if init_scheme == \"zeros\":\n",
        "    kernel_initializer='zeros'\n",
        "  elif init_scheme == \"large_normal\":\n",
        "    kernel_initializer=tf.keras.initializers.RandomNormal(stddev=10.)\n",
        "  elif init_scheme == \"he_normal\":\n",
        "    kernel_initializer='he_normal'\n",
        "  else:\n",
        "    raise ValueError(\"Unknown init_scheme\")\n",
        "\n",
        "  model = tf.keras.Sequential([\n",
        "    tf.keras.layers.Input(shape=(2,)),\n",
        "    tf.keras.layers.Dense(100, activation='relu', kernel_initializer=kernel_initializer),\n",
        "    tf.keras.layers.Dense(100, activation='relu', kernel_initializer=kernel_initializer),\n",
        "    tf.keras.layers.Dense(100, activation='relu', kernel_initializer=kernel_initializer),\n",
        "    tf.keras.layers.Dense(100, activation='relu', kernel_initializer=kernel_initializer),\n",
        "    tf.keras.layers.Dense(5, activation='relu', kernel_initializer=kernel_initializer),\n",
        "    tf.keras.layers.Dense(1, activation='sigmoid', kernel_initializer=kernel_initializer)\n",
        "  ])\n",
        "\n",
        "  return model"
      ],
      "metadata": {
        "id": "MKn2Br259f1M"
      },
      "execution_count": 4,
      "outputs": []
    },
    {
      "cell_type": "code",
      "source": [
        "def binary_classification_dataset():\n",
        "  np.random.seed(1)\n",
        "  train_X, train_Y = sklearn.datasets.make_circles(n_samples=300, noise=.05)\n",
        "  np.random.seed(2)\n",
        "  test_X, test_Y = sklearn.datasets.make_circles(n_samples=100, noise=.05)\n",
        "  train_X = train_X\n",
        "  train_Y = train_Y.reshape((-1, 1))\n",
        "  test_X = test_X\n",
        "  test_Y = test_Y.reshape((-1, 1))\n",
        "  return train_X, train_Y, test_X, test_Y\n",
        "\n",
        "train_X, train_Y, test_X, test_Y = binary_classification_dataset()\n",
        "print(f\"train_X: {train_X.shape}, train_Y: {train_Y.shape}, test_X: {test_X.shape}, test_Y: {test_Y.shape}\")\n",
        "\n",
        "plt.scatter(train_X[:, 0], train_X[:, 1], c=train_Y, s=40, cmap=plt.cm.Spectral);\n",
        "plt.show()"
      ],
      "metadata": {
        "colab": {
          "base_uri": "https://localhost:8080/",
          "height": 447
        },
        "id": "UdBFWdgp9qOl",
        "outputId": "d64c5ea5-a868-4672-fad9-5ad814afa8fe"
      },
      "execution_count": 5,
      "outputs": [
        {
          "output_type": "stream",
          "name": "stdout",
          "text": [
            "train_X: (300, 2), train_Y: (300, 1), test_X: (100, 2), test_Y: (100, 1)\n"
          ]
        },
        {
          "output_type": "display_data",
          "data": {
            "text/plain": [
              "<Figure size 640x480 with 1 Axes>"
            ],
            "image/png": "[encoded data removed]"
          },
          "metadata": {}
        }
      ]
    },
    {
      "cell_type": "code",
      "source": [
        "tf.config.run_functions_eagerly(False)\n",
        "start = tf.timestamp()\n",
        "model = binary_classification_model('he_normal')\n",
        "model.compile(optimizer='adam', loss='binary_crossentropy')\n",
        "history = model.fit(train_X, train_Y, epochs=500, batch_size=train_X.shape[0], verbose=0, callbacks=[toolkit.LessVerboseProgressLogger()])\n",
        "duration = tf.timestamp() - start\n",
        "print(f\"Total training time: {duration.numpy():.2f} secs\")\n",
        "plot_fit(history)"
      ],
      "metadata": {
        "colab": {
          "base_uri": "https://localhost:8080/",
          "height": 699
        },
        "id": "LNgNUQXEwhk0",
        "outputId": "6b3e8f28-e404-4f3f-e582-08a790cd3b74"
      },
      "execution_count": 76,
      "outputs": [
        {
          "output_type": "stream",
          "name": "stdout",
          "text": [
            "Epoch    50 - 86.52ms/epoch: loss: 0.6558  \n",
            "Epoch   100 - 42.18ms/epoch: loss: 0.2255  \n",
            "Epoch   150 - 28.63ms/epoch: loss: 0.0388  \n",
            "Epoch   200 - 28.30ms/epoch: loss: 0.0148  \n",
            "Epoch   250 - 29.56ms/epoch: loss: 0.0075  \n",
            "Epoch   300 - 26.70ms/epoch: loss: 0.0043  \n",
            "Epoch   350 - 26.54ms/epoch: loss: 0.0027  \n",
            "Epoch   400 - 27.72ms/epoch: loss: 0.0017  \n",
            "Epoch   450 - 37.96ms/epoch: loss: 0.0012  \n",
            "Epoch   500 - 44.62ms/epoch: loss: 0.0008  \n",
            "Total training time: 18.93 secs\n"
          ]
        },
        {
          "output_type": "display_data",
          "data": {
            "text/plain": [
              "<Figure size 640x480 with 1 Axes>"
            ],
            "image/png": "[encoded data removed]"
          },
          "metadata": {}
        }
      ]
    },
    {
      "cell_type": "code",
      "source": [
        "model.loss"
      ],
      "metadata": {
        "colab": {
          "base_uri": "https://localhost:8080/",
          "height": 35
        },
        "id": "bR8MPFGvy2Do",
        "outputId": "dd5171c4-c98c-4a18-c798-c21d2931fd46"
      },
      "execution_count": 18,
      "outputs": [
        {
          "output_type": "execute_result",
          "data": {
            "text/plain": [
              "'binary_crossentropy'"
            ],
            "application/vnd.google.colaboratory.intrinsic+json": {
              "type": "string"
            }
          },
          "metadata": {},
          "execution_count": 18
        }
      ]
    },
    {
      "cell_type": "code",
      "source": [
        "model.metrics"
      ],
      "metadata": {
        "colab": {
          "base_uri": "https://localhost:8080/"
        },
        "id": "-ONTWcpezBKo",
        "outputId": "d63b3c70-e14b-42a3-e7ad-65b3870901db"
      },
      "execution_count": 19,
      "outputs": [
        {
          "output_type": "execute_result",
          "data": {
            "text/plain": [
              "[<Mean name=loss>]"
            ]
          },
          "metadata": {},
          "execution_count": 19
        }
      ]
    },
    {
      "cell_type": "markdown",
      "source": [
        "## Custom training loop\n",
        "First, we'll just check that we can run a custom training loop without any extra processing and confirm that it runs at about the same pace.\n",
        "\n",
        "Surprisingly, it turns out that my custom training loop runs in about 25% of the time per epoch. The reference implementation contains lots of extra logic, so this must just be python at work when the overheads are multiplied by so many tiny epochs."
      ],
      "metadata": {
        "id": "8YqXLmFAwzOT"
      }
    },
    {
      "cell_type": "code",
      "source": [
        "tf.config.run_functions_eagerly(False)\n",
        "start = tf.timestamp()\n",
        "model = binary_classification_model('he_normal')\n",
        "model.compile(optimizer='adam', loss='binary_crossentropy', metrics=['mse'])\n",
        "dataset = tf.data.Dataset.from_tensor_slices((train_X, train_Y)).batch(train_X.shape[0])\n",
        "history = toolkit.fit(model, dataset, epochs=500, verbose=0, callbacks=[toolkit.LessVerboseProgressLogger()])\n",
        "duration = tf.timestamp() - start\n",
        "print(f\"Total training time: {duration.numpy():.2f} secs\")\n",
        "plot_fit(history)"
      ],
      "metadata": {
        "colab": {
          "base_uri": "https://localhost:8080/",
          "height": 716
        },
        "id": "vO0loo9cwysj",
        "outputId": "16c976bb-fa98-42d6-f75b-6e7aad4406a6"
      },
      "execution_count": 73,
      "outputs": [
        {
          "output_type": "stream",
          "name": "stdout",
          "text": [
            "Execution mode: autograph\n",
            "Epoch    50 - 40.69ms/epoch: loss: 0.5842  mse: 0.1970  \n",
            "Epoch   100 - 8.07ms/epoch: loss: 0.1716  mse: 0.0362  \n",
            "Epoch   150 - 7.47ms/epoch: loss: 0.0482  mse: 0.0074  \n",
            "Epoch   200 - 7.74ms/epoch: loss: 0.0221  mse: 0.0027  \n",
            "Epoch   250 - 7.51ms/epoch: loss: 0.0119  mse: 0.0012  \n",
            "Epoch   300 - 7.45ms/epoch: loss: 0.0071  mse: 0.0006  \n",
            "Epoch   350 - 6.95ms/epoch: loss: 0.0046  mse: 0.0003  \n",
            "Epoch   400 - 7.58ms/epoch: loss: 0.0032  mse: 0.0002  \n",
            "Epoch   450 - 7.37ms/epoch: loss: 0.0017  mse: 0.0001  \n",
            "Epoch   500 - 7.36ms/epoch: loss: 0.0010  mse: 0.0000  \n",
            "Total training time: 5.43 secs\n"
          ]
        },
        {
          "output_type": "display_data",
          "data": {
            "text/plain": [
              "<Figure size 640x480 with 1 Axes>"
            ],
            "image/png": "[encoded data removed]"
          },
          "metadata": {}
        }
      ]
    },
    {
      "cell_type": "markdown",
      "source": [
        "## Capturing gradients\n",
        "Now we build out the functionality to capture the gradients"
      ],
      "metadata": {
        "id": "Rqkgg1bOFduU"
      }
    },
    {
      "cell_type": "code",
      "source": [
        "model.trainable_variables"
      ],
      "metadata": {
        "colab": {
          "base_uri": "https://localhost:8080/"
        },
        "id": "WUVHqoPioCRm",
        "outputId": "f5f82200-a761-4c1e-eb29-b8063408946b"
      },
      "execution_count": 119,
      "outputs": [
        {
          "output_type": "execute_result",
          "data": {
            "text/plain": [
              "[<KerasVariable shape=(2, 100), dtype=float32, path=sequential_84/dense_504/kernel>,\n",
              " <KerasVariable shape=(100,), dtype=float32, path=sequential_84/dense_504/bias>,\n",
              " <KerasVariable shape=(100, 100), dtype=float32, path=sequential_84/dense_505/kernel>,\n",
              " <KerasVariable shape=(100,), dtype=float32, path=sequential_84/dense_505/bias>,\n",
              " <KerasVariable shape=(100, 100), dtype=float32, path=sequential_84/dense_506/kernel>,\n",
              " <KerasVariable shape=(100,), dtype=float32, path=sequential_84/dense_506/bias>,\n",
              " <KerasVariable shape=(100, 100), dtype=float32, path=sequential_84/dense_507/kernel>,\n",
              " <KerasVariable shape=(100,), dtype=float32, path=sequential_84/dense_507/bias>,\n",
              " <KerasVariable shape=(100, 5), dtype=float32, path=sequential_84/dense_508/kernel>,\n",
              " <KerasVariable shape=(5,), dtype=float32, path=sequential_84/dense_508/bias>,\n",
              " <KerasVariable shape=(5, 1), dtype=float32, path=sequential_84/dense_509/kernel>,\n",
              " <KerasVariable shape=(1,), dtype=float32, path=sequential_84/dense_509/bias>]"
            ]
          },
          "metadata": {},
          "execution_count": 119
        }
      ]
    },
    {
      "cell_type": "code",
      "source": [
        "model.layers"
      ],
      "metadata": {
        "colab": {
          "base_uri": "https://localhost:8080/"
        },
        "id": "AxaqvbdgoGDN",
        "outputId": "1e7a2601-8400-42b8-8a1e-551dc6c7dd9c"
      },
      "execution_count": 123,
      "outputs": [
        {
          "output_type": "execute_result",
          "data": {
            "text/plain": [
              "[<Dense name=dense_504, built=True>,\n",
              " <Dense name=dense_505, built=True>,\n",
              " <Dense name=dense_506, built=True>,\n",
              " <Dense name=dense_507, built=True>,\n",
              " <Dense name=dense_508, built=True>,\n",
              " <Dense name=dense_509, built=True>]"
            ]
          },
          "metadata": {},
          "execution_count": 123
        }
      ]
    },
    {
      "cell_type": "code",
      "source": [
        "model.layers[0].trainable_variables"
      ],
      "metadata": {
        "colab": {
          "base_uri": "https://localhost:8080/"
        },
        "id": "zq_v1d4vognU",
        "outputId": "3663765b-c9ca-4a04-a4a1-280ac493806c"
      },
      "execution_count": 124,
      "outputs": [
        {
          "output_type": "execute_result",
          "data": {
            "text/plain": [
              "[<KerasVariable shape=(2, 100), dtype=float32, path=sequential_84/dense_504/kernel>,\n",
              " <KerasVariable shape=(100,), dtype=float32, path=sequential_84/dense_504/bias>]"
            ]
          },
          "metadata": {},
          "execution_count": 124
        }
      ]
    },
    {
      "cell_type": "code",
      "source": [
        "model.layers[0].trainable_variables[0] in model.trainable_variables"
      ],
      "metadata": {
        "colab": {
          "base_uri": "https://localhost:8080/"
        },
        "id": "zw8d1HHHokGN",
        "outputId": "c36858ce-e20c-401d-af1b-34ceab2652aa"
      },
      "execution_count": 125,
      "outputs": [
        {
          "output_type": "execute_result",
          "data": {
            "text/plain": [
              "True"
            ]
          },
          "metadata": {},
          "execution_count": 125
        }
      ]
    },
    {
      "cell_type": "code",
      "source": [
        "model.layers[3].trainable_variables[0]"
      ],
      "metadata": {
        "colab": {
          "base_uri": "https://localhost:8080/"
        },
        "id": "oMarH-OMsC6C",
        "outputId": "b6605b0d-f581-435b-969e-c79919d3fbd7"
      },
      "execution_count": 129,
      "outputs": [
        {
          "output_type": "execute_result",
          "data": {
            "text/plain": [
              "<KerasVariable shape=(100, 100), dtype=float32, path=sequential_85/dense_513/kernel>"
            ]
          },
          "metadata": {},
          "execution_count": 129
        }
      ]
    },
    {
      "cell_type": "code",
      "source": [
        "def index_by_identity(lst, target):\n",
        "  return next((i for i, v in enumerate(lst) if id(v) == id(target)), -1)\n",
        "#model.trainable_variables.index(model.layers[3].trainable_variables[0])\n",
        "index_by_identity(model.trainable_variables, model.layers[3].trainable_variables[0])"
      ],
      "metadata": {
        "colab": {
          "base_uri": "https://localhost:8080/"
        },
        "id": "nVHsUk6nr0QD",
        "outputId": "c5da1e76-0f3c-42d8-8961-753fe30f9c9b"
      },
      "execution_count": 131,
      "outputs": [
        {
          "output_type": "execute_result",
          "data": {
            "text/plain": [
              "6"
            ]
          },
          "metadata": {},
          "execution_count": 131
        }
      ]
    },
    {
      "cell_type": "code",
      "source": [
        "class MyGradientCallback(toolkit.BaseGradientCallback):\n",
        "    def __init__(self, verbose=1):\n",
        "      \"\"\"\n",
        "      Verbosity levels (to be refactored later):\n",
        "        1: collects stats on gradients at each step or epoch, but does\n",
        "           not keep raw gradients.\n",
        "        2: keeps a sampling of raw gradients\n",
        "        3: keeps all raw gradients\n",
        "      \"\"\"\n",
        "      super(MyGradientCallback, self).__init__()\n",
        "      self.verbose = verbose\n",
        "      self.epochs = []\n",
        "      self.steps = []  # maybe rename as 'iterations'\n",
        "      self.model_stats = {}  # dict (by stat) of lists (by iteration)\n",
        "      self.layer_stats = []  # list (by layer) of dicts (by stat) of lists (by iteration)\n",
        "      if verbose > 1:\n",
        "        self.gradients_list = None\n",
        "\n",
        "      # internal tracking\n",
        "      self._epoch = 0\n",
        "\n",
        "    def on_train_begin(self):\n",
        "      total_steps = self.params['steps'] * self.params['epochs']\n",
        "\n",
        "      # init stats\n",
        "      self.model_stats = {key: tf.Variable(tf.zeros((total_steps,)), dtype = tf.float32) for key in self._stat_keys()}\n",
        "      for layer in self.model.layers:\n",
        "        if layer.trainable_variables:\n",
        "          d = {key: tf.Variable(tf.zeros((total_steps,)), dtype = tf.float32) for key in self._stat_keys()}\n",
        "          self.layer_stats.append(d)\n",
        "        else:\n",
        "          self.layer_stats.append(None)\n",
        "\n",
        "      if self.verbose > 1:\n",
        "        self.gradients_list = []\n",
        "\n",
        "    def on_train_end(self):\n",
        "      # convert TF values to numpy for easier consumption\n",
        "      for key in self.model_stats.keys():\n",
        "        self.model_stats[key] = [v.numpy() for v in self.model_stats[key]]\n",
        "      for l in range(len(self.layer_stats)):\n",
        "        if self.layer_stats[l] is not None:\n",
        "          for key in self.layer_stats[l].keys():\n",
        "            self.layer_stats[l][key] = [v.numpy() for v in self.layer_stats[l][key]]\n",
        "\n",
        "    def on_epoch_begin(self, epoch, logs=None):\n",
        "      self._epoch = epoch\n",
        "      self.epochs.append(self._epoch)\n",
        "\n",
        "    def on_train_batch_end(self, batch, loss, gradients, trainable_variables, activations=None):\n",
        "      step = self.params['steps'] * self._epoch + batch\n",
        "      self.steps.append(step)\n",
        "\n",
        "      # collect raw gradients\n",
        "      if self.verbose > 1:\n",
        "        self.gradients_list.append(gradients)\n",
        "\n",
        "      # collect stats\n",
        "      self._compute_and_set_stats(self.model_stats, step, gradients)\n",
        "      #self._set_into_dict_list(self.model_stats, step, self._compute_stats(gradients))\n",
        "      for l, layer in enumerate(self.model.layers):\n",
        "        # select just applicable gradients (TODO pre-compute indice lookups)\n",
        "        indices = [self._index_by_identity(trainable_variables, var) for var in layer.trainable_variables]\n",
        "        layer_grads = [gradients[i] for i in indices]\n",
        "        #self._set_into_dict_list(self.layer_stats[l], step, self._compute_stats(layer_grads))\n",
        "        self._compute_and_set_stats(self.layer_stats[l], step, layer_grads)\n",
        "\n",
        "    def _index_by_identity(self, lst, target):\n",
        "      return next((i for i, v in enumerate(lst) if id(v) == id(target)), -1)\n",
        "\n",
        "    def _set_into_dict_list(self, dict_list, index, addendum_dict):\n",
        "      for key in self._stat_keys():\n",
        "        dict_list[key][index].assign(addendum_dict[key])\n",
        "\n",
        "    #@tf.function\n",
        "    def _compute_and_set_stats(self, dict_list, index, gradients):\n",
        "      stats = self._compute_stats(gradients)\n",
        "      for key in self._stat_keys():\n",
        "        dict_list[key][index].assign(stats[key])\n",
        "\n",
        "    def _stat_keys(self):\n",
        "      return ['mean', 'min', 'max', 'std']\n",
        "\n",
        "    @tf.function\n",
        "    def _compute_stats(self, gradients):\n",
        "      n = tf.constant(0.0, dtype=tf.float32)\n",
        "      mean = tf.constant(0.0, dtype=tf.float32)\n",
        "      M2 = tf.constant(0.0, dtype=tf.float32)  # Sum of squared differencse from the mean\n",
        "      min = tf.constant(float(\"inf\"), dtype=tf.float32)\n",
        "      max = tf.constant(float(\"-inf\"), dtype=tf.float32)\n",
        "\n",
        "      for g in gradients:\n",
        "        g_mags = tf.abs(g)\n",
        "        g_size = tf.size(g, out_type=tf.float32)\n",
        "        g_min = tf.reduce_min(g_mags)\n",
        "        g_max = tf.reduce_max(g_mags)\n",
        "        g_sum = tf.reduce_sum(g_mags)\n",
        "        g_mean = g_sum / g_size\n",
        "        g_var = tf.reduce_sum((g_mags - g_mean)**2)\n",
        "\n",
        "        min = tf.minimum(min, g_min)\n",
        "        max = tf.maximum(max, g_max)\n",
        "\n",
        "        # Welford's algorithm for computing running statistics\n",
        "        delta = g_mean - mean\n",
        "        n += g_size\n",
        "        mean += delta * (g_size / n)\n",
        "        M2 += g_var + delta**2 * (g_size * (n - g_size) / n)\n",
        "\n",
        "      return {\n",
        "          'mean': mean,\n",
        "          'min': min,\n",
        "          'max': max,\n",
        "          'std': tf.sqrt(M2 / n)  # population std.dev\n",
        "      }\n",
        "\n",
        "def list_gradients(gradients_list):\n",
        "  print(f\"Gradients_list:\")\n",
        "  print(f\"  list shape: {len(gradients_list)} x {len(gradients_list[0])} of {type(gradients_list[0][0])}\")\n",
        "  for l in range(len(gradients_list[0]) // 2):\n",
        "    print(f\"  layer {l:2}:  weights: {gradients_list[0][l*2].shape} of {gradients_list[0][l*2].dtype}, bias: {gradients_list[0][l*2+1].shape} of {gradients_list[0][l*2+1].dtype}\")\n",
        "\n",
        "  for e in range(len(gradients_list)):\n",
        "    print(f\"Step {e}:\")\n",
        "    for l in range(len(gradients_list[0]) // 2):\n",
        "      w_mean = tf.reduce_mean(tf.abs(gradients_list[e][l*2]))\n",
        "      w_min = tf.reduce_min(tf.abs(gradients_list[e][l*2]))\n",
        "      w_max = tf.reduce_max(tf.abs(gradients_list[e][l*2]))\n",
        "      w_std = tf.math.reduce_std(tf.abs(gradients_list[e][l*2]))\n",
        "      b_mean = tf.reduce_mean(tf.abs(gradients_list[e][l*2+1]))\n",
        "      b_min = tf.reduce_min(tf.abs(gradients_list[e][l*2+1]))\n",
        "      b_max = tf.reduce_max(tf.abs(gradients_list[e][l*2+1]))\n",
        "      b_std = tf.math.reduce_std(tf.abs(gradients_list[e][l*2+1]))\n",
        "      print(f\"  layer {l:2}:  weights: mean: {w_mean:.5f}, min: {w_min:.5f}, max: {w_max:.5f}, std: {w_std:.5f},  bias: mean: {b_mean:.5f}, min: {b_min:.5f}, max: {b_max:.5f}, std: {b_std:.5f}\")\n",
        "      #print(f\"  layer {l:2}:  weights: mean: {mean:.5f}, min: {min:.5f}, max: {max:.5f}, std: {std:.5f}\")\n",
        "\n",
        "def list_stats(gradients_cb):\n",
        "  print(f\"Gradients callback summary:\")\n",
        "  print(f\"  Epochs: {len(gradients_cb.epochs)} ({gradients_cb.epochs[0]} .. {gradients_cb.epochs[-1]}), \"\n",
        "      f\"steps: {len(gradients_cb.steps)} ({gradients_cb.steps[0]} .. {gradients_cb.steps[-1]})\")\n",
        "  print(f\"Model:\")\n",
        "  for key in gradients_cb.model_stats.keys():\n",
        "    stats = gradients_cb.model_stats[key]\n",
        "    print(f\"  {key:4} ({len(stats)}): {stats[0:3]} .. {stats[-3:]}\")\n",
        "  for l in range(len(gradients_cb.layer_stats)):\n",
        "    if gradients_cb.layer_stats[l] is not None:\n",
        "      print(f\"Layer {l}:\")\n",
        "      for key in gradients_cb.layer_stats[l].keys():\n",
        "        stats = gradients_cb.layer_stats[l][key]\n",
        "        print(f\"  {key:4} ({len(stats)}): {stats[0:3]} .. {stats[-3:]}\")\n",
        "\n",
        "\n",
        "\n",
        "\n",
        "reload(toolkit)\n",
        "tf.config.run_functions_eagerly(False)\n",
        "start = tf.timestamp()\n",
        "model = binary_classification_model('he_normal')\n",
        "model.compile(optimizer='adam', loss='binary_crossentropy', metrics=['mse'])\n",
        "dataset = tf.data.Dataset.from_tensor_slices((train_X, train_Y)).batch(train_X.shape[0])\n",
        "gradients = MyGradientCallback()\n",
        "history = toolkit.fit(model, dataset, epochs=100, verbose=0, callbacks=[toolkit.LessVerboseProgressLogger()], gradient_callback=gradients)\n",
        "duration = tf.timestamp() - start\n",
        "print(f\"Total training time: {duration.numpy():.2f} secs\")\n",
        "\n",
        "#list_gradients(gradients.gradients_list)\n",
        "list_stats(gradients)\n"
      ],
      "metadata": {
        "colab": {
          "base_uri": "https://localhost:8080/"
        },
        "id": "iOpLJm7-yj7U",
        "outputId": "3f4c12c6-d00c-4c68-d261-796089c4bc17"
      },
      "execution_count": 164,
      "outputs": [
        {
          "output_type": "stream",
          "name": "stdout",
          "text": [
            "Execution mode: autograph\n"
          ]
        },
        {
          "output_type": "stream",
          "name": "stderr",
          "text": [
            "WARNING:tensorflow:5 out of the last 7 calls to <function MyGradientCallback._compute_stats at 0x78cca42511b0> triggered tf.function retracing. Tracing is expensive and the excessive number of tracings could be due to (1) creating @tf.function repeatedly in a loop, (2) passing tensors with different shapes, (3) passing Python objects instead of tensors. For (1), please define your @tf.function outside of the loop. For (2), @tf.function has reduce_retracing=True option that can avoid unnecessary retracing. For (3), please refer to https://www.tensorflow.org/guide/function#controlling_retracing and https://www.tensorflow.org/api_docs/python/tf/function for  more details.\n"
          ]
        },
        {
          "output_type": "stream",
          "name": "stdout",
          "text": [
            "Epoch    10 - 372.16ms/epoch: loss: 0.6860  mse: 0.2467  \n",
            "Epoch    20 - 60.66ms/epoch: loss: 0.6722  mse: 0.2398  \n",
            "Epoch    30 - 69.57ms/epoch: loss: 0.6598  mse: 0.2336  \n",
            "Epoch    40 - 57.55ms/epoch: loss: 0.6439  mse: 0.2257  \n",
            "Epoch    50 - 55.23ms/epoch: loss: 0.6210  mse: 0.2148  \n",
            "Epoch    60 - 60.24ms/epoch: loss: 0.5859  mse: 0.1980  \n",
            "Epoch    70 - 50.33ms/epoch: loss: 0.5389  mse: 0.1775  \n",
            "Epoch    80 - 62.39ms/epoch: loss: 0.4440  mse: 0.1320  \n",
            "Epoch    90 - 56.02ms/epoch: loss: 0.3134  mse: 0.0790  \n",
            "Epoch   100 - 29.82ms/epoch: loss: 0.2113  mse: 0.0467  \n",
            "Total training time: 9.57 secs\n",
            "Gradients callback summary:\n",
            "  Epochs: 100 (0 .. 99), steps: 100 (0 .. 99)\n",
            "Model:\n",
            "  mean (100): [0.0023583677, 0.002543192, 0.0014584014] .. [0.0077799116, 0.0067255697, 0.0031957445]\n",
            "  min  (100): [0.0, 0.0, 0.0] .. [0.0, 0.0, 0.0]\n",
            "  max  (100): [0.13670179, 0.22209787, 0.13223179] .. [0.24790816, 0.40525225, 0.17370118]\n",
            "  std  (100): [0.0051826155, 0.005803111, 0.003367917] .. [0.013567795, 0.012063959, 0.006526358]\n",
            "Layer 0:\n",
            "  mean (100): [0.0026033649, 0.0045626797, 0.0028660242] .. [0.022278294, 0.025266543, 0.010689874]\n",
            "  min  (100): [2.2493681e-05, 3.522847e-05, 9.42091e-07] .. [1.1640193e-05, 9.856373e-05, 1.0500837e-05]\n",
            "  max  (100): [0.014289543, 0.034758706, 0.020174854] .. [0.18759274, 0.40525225, 0.093894556]\n",
            "  std  (100): [0.0024123432, 0.0052256957, 0.0033034233] .. [0.021232007, 0.033516843, 0.010864118]\n",
            "Layer 1:\n",
            "  mean (100): [0.00209107, 0.002452845, 0.0014004522] .. [0.012321381, 0.010442788, 0.0052928333]\n",
            "  min  (100): [0.0, 0.0, 0.0] .. [0.0, 0.0, 0.0]\n",
            "  max  (100): [0.042620223, 0.04039821, 0.024017153] .. [0.13722774, 0.124178134, 0.086249374]\n",
            "  std  (100): [0.003294138, 0.0037129768, 0.002032832] .. [0.016251806, 0.013988863, 0.008608969]\n",
            "Layer 2:\n",
            "  mean (100): [0.0021233468, 0.002322875, 0.0013164999] .. [0.006438873, 0.0054953294, 0.0024851307]\n",
            "  min  (100): [0.0, 0.0, 0.0] .. [0.0, 0.0, 0.0]\n",
            "  max  (100): [0.056408443, 0.048300907, 0.029601902] .. [0.11490683, 0.0981078, 0.045944907]\n",
            "  std  (100): [0.004043519, 0.004563445, 0.0024949384] .. [0.011692554, 0.01019686, 0.004947906]\n",
            "Layer 3:\n",
            "  mean (100): [0.0022752224, 0.002326418, 0.0013573898] .. [0.0036561002, 0.003231363, 0.0013738703]\n",
            "  min  (100): [0.0, 0.0, 0.0] .. [0.0, 0.0, 0.0]\n",
            "  max  (100): [0.07148817, 0.07416984, 0.039388273] .. [0.07355018, 0.0652374, 0.03894799]\n",
            "  std  (100): [0.004788829, 0.005395525, 0.0030845448] .. [0.007093644, 0.0061902315, 0.002839517]\n",
            "Layer 4:\n",
            "  mean (100): [0.01341237, 0.011428241, 0.0063169934] .. [0.016756928, 0.0149593195, 0.00706591]\n",
            "  min  (100): [0.0, 0.0, 0.0] .. [0.0, 0.0, 0.0]\n",
            "  max  (100): [0.13670179, 0.22209787, 0.13223179] .. [0.21269822, 0.17717105, 0.081090644]\n",
            "  std  (100): [0.022066396, 0.025696218, 0.015788568] .. [0.029866744, 0.024060968, 0.01221371]\n",
            "Layer 5:\n",
            "  mean (100): [0.04526087, 0.04159814, 0.02859757] .. [0.08165264, 0.0821719, 0.035672374]\n",
            "  min  (100): [0.0011920659, 0.000116280506, 0.0] .. [0.0, 0.0, 0.0]\n",
            "  max  (100): [0.11193247, 0.10634257, 0.08492863] .. [0.24790816, 0.22239773, 0.17370118]\n",
            "  std  (100): [0.03537655, 0.04313658, 0.030958792] .. [0.09123365, 0.07657509, 0.062371068]\n"
          ]
        }
      ]
    },
    {
      "cell_type": "code",
      "source": [
        "v = tf.Variable(tf.zeros((10,)), dtype=tf.float32)\n",
        "v[2].assign(3.0)\n",
        "v"
      ],
      "metadata": {
        "colab": {
          "base_uri": "https://localhost:8080/"
        },
        "id": "WpTjixVYy_AU",
        "outputId": "c5711aaf-2920-4938-bbd5-361c935722ca"
      },
      "execution_count": 152,
      "outputs": [
        {
          "output_type": "execute_result",
          "data": {
            "text/plain": [
              "<tf.Variable 'Variable:0' shape=(10,) dtype=float32, numpy=array([0., 0., 3., 0., 0., 0., 0., 0., 0., 0.], dtype=float32)>"
            ]
          },
          "metadata": {},
          "execution_count": 152
        }
      ]
    },
    {
      "cell_type": "code",
      "source": [
        "model.losses"
      ],
      "metadata": {
        "colab": {
          "base_uri": "https://localhost:8080/"
        },
        "id": "g90UwH66wuMq",
        "outputId": "1884a6a0-f0f4-4488-b72d-d649b7fd3fc3"
      },
      "execution_count": 80,
      "outputs": [
        {
          "output_type": "execute_result",
          "data": {
            "text/plain": [
              "[]"
            ]
          },
          "metadata": {},
          "execution_count": 80
        }
      ]
    },
    {
      "cell_type": "code",
      "source": [],
      "metadata": {
        "id": "zVHJMq86yuQo"
      },
      "execution_count": null,
      "outputs": []
    },
    {
      "cell_type": "markdown",
      "source": [
        "## Appendix: Prove out maths behind implementation of Welford's algorithm"
      ],
      "metadata": {
        "id": "arV1f2Cwn041"
      }
    },
    {
      "cell_type": "code",
      "source": [
        "def _compute_stats_numpy(gradients):\n",
        "  mags = [tf.abs(g).numpy() for g in gradients]\n",
        "  mags = np.stack(mags)\n",
        "  print(f\"numpy, mags: {mags.shape}\")\n",
        "  return {\n",
        "      'mean': np.mean(mags),\n",
        "      'min': np.min(mags),\n",
        "      'max': np.max(mags),\n",
        "      'std': np.std(mags)\n",
        "  }\n",
        "\n",
        "def _compute_stats_brute(gradients):\n",
        "  mags = [tf.abs(g) for g in gradients]\n",
        "  mags = tf.stack(mags)\n",
        "  return {\n",
        "      'mean': tf.reduce_mean(mags).numpy(),\n",
        "      'min': tf.reduce_min(mags).numpy(),\n",
        "      'max': tf.reduce_max(mags).numpy(),\n",
        "      'std': tf.math.reduce_std(mags).numpy()\n",
        "  }\n",
        "\n",
        "def _compute_stats(gradients):\n",
        "  n = tf.constant(0.0, dtype=tf.float32)\n",
        "  mean = tf.constant(0.0, dtype=tf.float32)\n",
        "  M2 = tf.constant(0.0, dtype=tf.float32)  # Sum of squared differencse from the mean\n",
        "  min = None\n",
        "  max = None\n",
        "\n",
        "  # TODO: sanity check this against brute-force approach\n",
        "  for g in gradients:\n",
        "    g_mags = tf.abs(g)\n",
        "    g_size = tf.size(g, out_type=tf.float32)\n",
        "    g_min = tf.reduce_min(g_mags)\n",
        "    g_max = tf.reduce_max(g_mags)\n",
        "    g_sum = tf.reduce_sum(g_mags)\n",
        "    g_mean = g_sum / g_size\n",
        "    g_var = tf.reduce_sum((g_mags - g_mean)**2)\n",
        "\n",
        "    if min == None or g_min < min:\n",
        "      min = g_min\n",
        "    if max == None or g_max > max:\n",
        "      max = g_max\n",
        "\n",
        "    # Welford's algorithm for computing running statistics\n",
        "    delta = g_mean - mean\n",
        "    n += g_size\n",
        "    mean += delta * (g_size / n)\n",
        "    M2 += g_var + delta**2 * (g_size * (n - g_size) / n)\n",
        "\n",
        "  if n > 1:\n",
        "    return {\n",
        "        'mean': mean.numpy(),\n",
        "        'min': min.numpy(),\n",
        "        'max': max.numpy(),\n",
        "        'std': tf.sqrt(M2 / n).numpy()\n",
        "    }\n",
        "  else:\n",
        "    return {\n",
        "        'mean': 0.0,\n",
        "        'min': 0.0,\n",
        "        'max': 0.0,\n",
        "        'std': 0.0\n",
        "    }\n",
        "\n",
        "\n",
        "gradients = [\n",
        "    tf.constant([0.1, 0.2, 0.3]),\n",
        "    tf.constant([0.4, 0.5, 0.6]),\n",
        "    tf.constant([0.7, 0.8, 0.9]),\n",
        "]\n",
        "\n",
        "print(f\"numpy:     {_compute_stats_numpy(gradients)}\")\n",
        "print(f\"brute:     {_compute_stats_brute(gradients)}\")\n",
        "print(f\"efficient: {_compute_stats(gradients)}\")"
      ],
      "metadata": {
        "colab": {
          "base_uri": "https://localhost:8080/"
        },
        "id": "-HD35ToAn6C9",
        "outputId": "4987ad95-c2d5-4fad-c0bd-bd5f80d6ca89"
      },
      "execution_count": 118,
      "outputs": [
        {
          "output_type": "stream",
          "name": "stdout",
          "text": [
            "numpy, mags: (3, 3)\n",
            "numpy:     {'mean': 0.5, 'min': 0.1, 'max': 0.9, 'std': 0.2581989}\n",
            "brute:     {'mean': 0.5, 'min': 0.1, 'max': 0.9, 'std': 0.2581989}\n",
            "efficient: {'mean': 0.5, 'min': 0.1, 'max': 0.9, 'std': 0.2581989}\n"
          ]
        }
      ]
    },
    {
      "cell_type": "code",
      "source": [],
      "metadata": {
        "id": "h9sIpt0-n6bS"
      },
      "execution_count": null,
      "outputs": []
    }
  ]
}