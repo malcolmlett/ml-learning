{
  "nbformat": 4,
  "nbformat_minor": 0,
  "metadata": {
    "colab": {
      "provenance": [],
      "authorship_tag": "ABX9TyMMwUqacfDFPD0kOCIWl8vW",
      "include_colab_link": true
    },
    "kernelspec": {
      "name": "python3",
      "display_name": "Python 3"
    },
    "language_info": {
      "name": "python"
    }
  },
  "cells": [
    {
      "cell_type": "markdown",
      "metadata": {
        "id": "view-in-github",
        "colab_type": "text"
      },
      "source": [
        "<a href=\"https://colab.research.google.com/github/malcolmlett/ml-learning/blob/main/Learning_visualisations_v8.ipynb\" target=\"_parent\"><img src=\"https://colab.research.google.com/assets/colab-badge.svg\" alt=\"Open In Colab\"/></a>"
      ]
    },
    {
      "cell_type": "markdown",
      "source": [
        "# Learning Visualisations v8: Productionising Activity capturing and visualisation\n",
        "This notebook carries on from v5 with work to productionise the capture and display of unit activation information.\n",
        "\n",
        "It uses a simple callback, and starts simple with its data collection."
      ],
      "metadata": {
        "id": "en_JmAWKPDs6"
      }
    },
    {
      "cell_type": "code",
      "source": [
        "import os\n",
        "if os.path.isdir('repo'):\n",
        "  # discard any local changes and update\n",
        "  !cd repo && git reset --hard HEAD\n",
        "  !cd repo && git fetch\n",
        "else:\n",
        "  !git clone https://github.com/malcolmlett/ml-learning.git repo\n",
        "\n",
        "# lock to revision\n",
        "#!cd repo && git checkout c4f0bfe\n",
        "!cd repo && git pull\n",
        "\n",
        "import sys\n",
        "sys.path.append('repo')\n",
        "\n",
        "import toolkit\n",
        "from importlib import reload\n",
        "reload(toolkit)"
      ],
      "metadata": {
        "colab": {
          "base_uri": "https://localhost:8080/"
        },
        "id": "X3dPfi2DQqXm",
        "outputId": "784fa636-a1ce-4c48-909a-36695dc0915f"
      },
      "execution_count": 6,
      "outputs": [
        {
          "output_type": "stream",
          "name": "stdout",
          "text": [
            "HEAD is now at feda9e9 Merge remote-tracking branch 'refs/remotes/origin/main'\n",
            "Already up to date.\n"
          ]
        },
        {
          "output_type": "execute_result",
          "data": {
            "text/plain": [
              "<module 'toolkit' from '/content/repo/toolkit.py'>"
            ]
          },
          "metadata": {},
          "execution_count": 6
        }
      ]
    },
    {
      "cell_type": "code",
      "source": [
        "import tensorflow as tf\n",
        "from tensorflow.keras import layers, models, datasets, optimizers, metrics\n",
        "import numpy as np\n",
        "import matplotlib.pyplot as plt\n",
        "import math\n",
        "import sklearn\n",
        "import sklearn.datasets\n",
        "import time\n",
        "import timeit"
      ],
      "metadata": {
        "id": "GrBpNSakaeai"
      },
      "execution_count": 7,
      "outputs": []
    },
    {
      "cell_type": "markdown",
      "source": [
        "## Basic setup"
      ],
      "metadata": {
        "id": "yBMWgZy2ajg-"
      }
    },
    {
      "cell_type": "code",
      "source": [
        "def plot_fit(history = None):\n",
        "  pnum = 1\n",
        "\n",
        "  plt.figure(layout='constrained')\n",
        "  if history != None:\n",
        "    plt.subplot(1,pnum,1)\n",
        "    plt.plot(history.history['loss'])\n",
        "    plt.title('Loss')\n",
        "    plt.xlabel('Epoch')\n",
        "    plt.yscale('log')\n",
        "  plt.show()\n",
        "\n",
        "def binary_classification_model(init_scheme):\n",
        "  \"\"\"\n",
        "  init_scheme: one of \"zeros\", \"large_normal\", \"he_normal\"\n",
        "  \"\"\"\n",
        "  if init_scheme == \"zeros\":\n",
        "    kernel_initializer='zeros'\n",
        "  elif init_scheme == \"large_normal\":\n",
        "    kernel_initializer=tf.keras.initializers.RandomNormal(stddev=10.)\n",
        "  elif init_scheme == \"he_normal\":\n",
        "    kernel_initializer='he_normal'\n",
        "  else:\n",
        "    raise ValueError(\"Unknown init_scheme\")\n",
        "\n",
        "  model = tf.keras.Sequential([\n",
        "    tf.keras.layers.Input(shape=(2,)),\n",
        "    tf.keras.layers.Dense(100, activation='relu', kernel_initializer=kernel_initializer),\n",
        "    tf.keras.layers.Dense(100, activation='relu', kernel_initializer=kernel_initializer),\n",
        "    tf.keras.layers.Dense(100, activation='relu', kernel_initializer=kernel_initializer),\n",
        "    tf.keras.layers.Dense(100, activation='relu', kernel_initializer=kernel_initializer),\n",
        "    tf.keras.layers.Dense(100, activation='relu', kernel_initializer=kernel_initializer),\n",
        "    tf.keras.layers.Dense(5, activation='relu', kernel_initializer=kernel_initializer),\n",
        "    tf.keras.layers.Dense(1, activation='sigmoid', kernel_initializer=kernel_initializer)\n",
        "  ])\n",
        "\n",
        "  return model\n",
        "\n",
        "def binary_classification_dataset():\n",
        "  np.random.seed(1)\n",
        "  train_X, train_Y = sklearn.datasets.make_circles(n_samples=300, noise=.05)\n",
        "  np.random.seed(2)\n",
        "  test_X, test_Y = sklearn.datasets.make_circles(n_samples=100, noise=.05)\n",
        "  train_X = train_X\n",
        "  train_Y = train_Y.reshape((-1, 1))\n",
        "  test_X = test_X\n",
        "  test_Y = test_Y.reshape((-1, 1))\n",
        "  return train_X, train_Y, test_X, test_Y\n",
        "\n",
        "train_X, train_Y, test_X, test_Y = binary_classification_dataset()\n",
        "print(f\"train_X: {train_X.shape}, train_Y: {train_Y.shape}, test_X: {test_X.shape}, test_Y: {test_Y.shape}\")\n",
        "\n",
        "plt.scatter(train_X[:, 0], train_X[:, 1], c=train_Y, s=40, cmap=plt.cm.Spectral);\n",
        "plt.show()"
      ],
      "metadata": {
        "colab": {
          "base_uri": "https://localhost:8080/",
          "height": 447
        },
        "id": "X9FvqSdtae9i",
        "outputId": "f046e179-a0cf-46db-9f7e-c4d71ec87d18"
      },
      "execution_count": 9,
      "outputs": [
        {
          "output_type": "stream",
          "name": "stdout",
          "text": [
            "train_X: (300, 2), train_Y: (300, 1), test_X: (100, 2), test_Y: (100, 1)\n"
          ]
        },
        {
          "output_type": "display_data",
          "data": {
            "text/plain": [
              "<Figure size 640x480 with 1 Axes>"
            ],
            "image/png": "[encoded data removed]"
          },
          "metadata": {}
        }
      ]
    },
    {
      "cell_type": "markdown",
      "source": [
        "## Unit Activation Rates\n",
        "Firstly, we're interested not in the floating point range of unit outputs, but rather whether the units are \"active\" or not. Determined simply by whether the ReLU unit passes the value through, or drops the output and returns `0.0`. For other other activation functions a unit is always considered \"active\", and that's fine.\n",
        "\n",
        "In this first cut there's two measures of unit activity that we'll use:\n",
        "* fraction of \"dead units\"\n",
        "  * The percentage of units that are never active - always produce `0.0` as output.\n",
        "  * This is across all items in the entire training dataset (eg: across all batches).\n",
        "  * This is also across all spatial coordinates of any CNNs.\n",
        "* mean rate of activation\n",
        "  * The mean percentage of units that are active at any given moment in time - having a non-zero output.\n",
        "  * This will be aggregated down to the channels dimension, and then averaged again (see below).\n",
        "\n",
        "In both cases, we are primarily interested in the effect on gradient propagation. This means that we treat the tensor axis with a particular interpretation:\n",
        "* `(B, ..spatial dims.., C)` - batch, spatial, channels\n",
        "* eg: Simple dense network: `(B, C)`\n",
        "* eg: 2D CNN: `(B, H, W, C)`\n",
        "* eg: 3D CNN: `(B, H, W, D, C)` - batch, height, width, depth, channels\n",
        "* eg: Dense against CNN input - `(B, ..spatial.., C)`\n",
        "* Aggregated across batch and spatial dims\n",
        "* Each channel treated separately\n",
        "\n",
        "Notice that there's precedent for this way of handling the axis in how TF Dense layers handle multi-dimensional input -- they act as a CNN with a 1x1 filter, operating as a dense network across the last axis only, and otherwise sharing weights and repeating against all other axis. In the Dense docs, it refers to treating all those earlier axis as the \"batch dimensions\".\n",
        "\n",
        "In practice, as we'll be interested initially only in getting stats across the entire model and for individual layers, processing will thus go as follows:\n",
        "1. Aggregate \"dead units\" and \"mean activation\" across batch and spatial dims, producing a single vector across the channels dimension only.\n",
        "2. Aggregate across all batches in dataset, still producing a single vector across the channels dimension only.\n",
        "3. Finally, turn into a scalar as the rates/means across the channels."
      ],
      "metadata": {
        "id": "MdRZEWUta46V"
      }
    },
    {
      "cell_type": "code",
      "source": [
        "# Attempting via a callback\n",
        "class ActivityRateCallback(tf.keras.callbacks.Callback):\n",
        "  def __init__(self, dataset, interval=1, **kwargs):\n",
        "    \"\"\"\n",
        "    Args:\n",
        "      dataset - dataset to use to measure activity rates at end of each epoch\n",
        "      interval - sample every N epochs, default: every epoch.\n",
        "    \"\"\"\n",
        "    super(ActivityRateCallback, self).__init__(**kwargs)\n",
        "    self.dataset = dataset\n",
        "    self.interval = interval\n",
        "\n",
        "    # collected stats\n",
        "    self.epochs = []\n",
        "    self.model_stats = None\n",
        "    self.layer_stats = None\n",
        "\n",
        "  @staticmethod\n",
        "  def _stat_keys():\n",
        "    \"\"\"\n",
        "    Gets the list of stats that will be computed.\n",
        "    Currently static but may be computed based on configuration in the future.\n",
        "    \"\"\"\n",
        "    return ['death_rates', 'fractions_active']\n",
        "\n",
        "  def on_train_begin(self, logs=None):\n",
        "    \"\"\"\n",
        "    Initialises tracking, now that we know the model and number of epochs\n",
        "    \"\"\"\n",
        "    # infer some parameters\n",
        "    if not hasattr(self.dataset, \"_batch_size\")\n",
        "      steps_per_epoch = self.params['steps']\n",
        "      batch_size = math.ceil(self.dataset.cardinality().numpy() / steps_per_epoch)\n",
        "      print(f\"Dataset not already batched, forcing to batch_size {batch_size}\")\n",
        "      self.dataset = self.dataset.batch(batch_size)\n",
        "\n",
        "    # init stats\n",
        "    self.model_stats = {key: [] for key in self._stat_keys()}\n",
        "    self.layer_stats = []\n",
        "    for layer in self.model.layers:\n",
        "        self.layer_stats.append({key: [] for key in self._stat_keys()})\n",
        "\n",
        "  def on_train_end(self, logs=None):\n",
        "    \"\"\"\n",
        "    Cleans up tracking, and converts everything to numpy arrays for easier consumption.\n",
        "    \"\"\"\n",
        "    self.epochs = np.array(self.epochs)\n",
        "    for key in self.model_stats.keys():\n",
        "      lst = [v.numpy() for v in self.model_stats[key]]\n",
        "      self.model_stats[key] = np.array(lst)\n",
        "    for l in range(len(self.layer_stats)):\n",
        "      for key in self.layer_stats[l].keys():\n",
        "        lst = [v.numpy() for v in self.layer_stats[l][key]]\n",
        "        self.layer_stats[l][key] = np.array(lst)\n",
        "\n",
        "  def on_epoch_end(self, epoch, logs=None):\n",
        "    if epoch % self.interval == 0:\n",
        "      self._collect_stats(epoch)\n",
        "\n",
        "  def _collect_stats(self, epoch):\n",
        "    self.epochs.append(epoch)\n",
        "\n",
        "    layer_stats = measure_activity_per_layer(self.model, self.dataset)\n",
        "\n",
        "    # accumulate aggregated stats across entire model\n",
        "    # TODO, want:\n",
        "    #  mean_dead_rate: mean of dead_rate across layers\n",
        "    #  max_dead_rate:  max of dead_rate across layers\n",
        "    #  mean_activation_rate: mean activation_rate across layers\n",
        "    #  min_activation_rate: min activation_rate across layers\n",
        "    #  max_activation_rate: max activation_rate across layers\n",
        "\n",
        "    # accumulate stats per layer\n",
        "    for l_idx, stats in enumerate(layer_stats)\n",
        "      self._append_dict_list(self.layer_stats[l_idx], stats)\n",
        "\n",
        "  @staticmethod\n",
        "  def _append_dict_list(dic, addendum_dict):\n",
        "      for key in addendum_dict.keys():\n",
        "          dic[key].append(addendum_dict[key])\n",
        "\n",
        "def list_activity(activity_cb: ActivityRateCallback):\n",
        "  print(f\"Activity recorded: \")\n",
        "  print(f\"epochs: {activity_cb.epochs}\")\n",
        "\n",
        "tf.config.run_functions_eagerly(False)\n",
        "start = tf.timestamp()\n",
        "model = binary_classification_model('he_normal')\n",
        "model.compile(optimizer='adam', loss='binary_crossentropy')\n",
        "dataset = tf.data.Dataset.from_tensor_slices((train_X, train_Y))\n",
        "activity = ActivityRateCallback(dataset, interval=1)\n",
        "history = model.fit(dataset.batch(train_X.shape[0]), epochs=100, verbose=0, callbacks=[toolkit.LessVerboseProgressLogger(), activity])\n",
        "duration = tf.timestamp() - start\n",
        "print(f\"Total training time: {duration.numpy():.2f} secs\")\n",
        "#plot_fit(history)\n",
        "\n",
        "list_activity(activity)\n",
        "\n"
      ],
      "metadata": {
        "colab": {
          "base_uri": "https://localhost:8080/",
          "height": 803
        },
        "id": "XATJtdgVekre",
        "outputId": "549839ba-42c2-4f25-9adc-3ab249e908f6"
      },
      "execution_count": 17,
      "outputs": [
        {
          "output_type": "stream",
          "name": "stdout",
          "text": [
            "Epoch    10 - 224.74ms/epoch: loss: 0.6931  \n",
            "Epoch    20 - 10.90ms/epoch: loss: 0.6931  \n",
            "Epoch    30 - 7.70ms/epoch: loss: 0.6931  \n",
            "Epoch    40 - 9.64ms/epoch: loss: 0.6931  \n",
            "Epoch    50 - 8.29ms/epoch: loss: 0.6931  \n",
            "Epoch    60 - 11.04ms/epoch: loss: 0.6931  \n",
            "Epoch    70 - 11.74ms/epoch: loss: 0.6931  \n",
            "Epoch    80 - 13.85ms/epoch: loss: 0.6931  \n",
            "Epoch    90 - 12.71ms/epoch: loss: 0.6931  \n",
            "Epoch   100 - 11.31ms/epoch: loss: 0.6931  \n",
            "Total training time: 3.45 secs\n"
          ]
        },
        {
          "output_type": "display_data",
          "data": {
            "text/plain": [
              "<Figure size 640x480 with 1 Axes>"
            ],
            "image/png": "[encoded data removed]"
          },
          "metadata": {}
        },
        {
          "output_type": "stream",
          "name": "stdout",
          "text": [
            "Activity recorded: \n",
            "epochs: [ 0  1  2  3  4  5  6  7  8  9 10 11 12 13 14 15 16 17 18 19 20 21 22 23\n",
            " 24 25 26 27 28 29 30 31 32 33 34 35 36 37 38 39 40 41 42 43 44 45 46 47\n",
            " 48 49 50 51 52 53 54 55 56 57 58 59 60 61 62 63 64 65 66 67 68 69 70 71\n",
            " 72 73 74 75 76 77 78 79 80 81 82 83 84 85 86 87 88 89 90 91 92 93 94 95\n",
            " 96 97 98 99]\n"
          ]
        }
      ]
    },
    {
      "cell_type": "code",
      "source": [],
      "metadata": {
        "id": "hShbhNJWke0X"
      },
      "execution_count": null,
      "outputs": []
    },
    {
      "cell_type": "markdown",
      "source": [
        "## Appendix: Collecting stats against static model\n",
        "First, let's just make sure we can cope with some variation in how data is provided."
      ],
      "metadata": {
        "id": "sC7ucVykoAt6"
      }
    },
    {
      "cell_type": "code",
      "source": [
        "def do_stuff(model, x, batch_size=None, steps_per_epoch=None):\n",
        "  \"\"\"\n",
        "  Args:\n",
        "    model: The model to evaluate.\n",
        "    x: Input data or dataset\n",
        "    batch_size: Batch size (at least one of this or steps_per_epoch required if x or dataset not already batched).\n",
        "    steps_per_epoch: Steps per epoch, required if dataset is unbatched.\n",
        "  \"\"\"\n",
        "\n",
        "  # handle variations in how data is supplied\n",
        "  if isinstance(x, tf.data.Dataset):\n",
        "    dataset = x\n",
        "    # ensure dataset has been batched\n",
        "    if not hasattr(dataset, \"_batch_size\"):\n",
        "      if batch_size is None and steps_per_epoch is not None:\n",
        "        batch_size = int(math.ceil(dataset.cardinality().numpy() / steps_per_epoch))\n",
        "      if batch_size is not None:\n",
        "        dataset = dataset.batch(batch_size)\n",
        "      else:\n",
        "        raise ValueError(\"dataset not batched and unable to infer batch size.\")\n",
        "  else:\n",
        "    if batch_size is None and steps_per_epoch is not None:\n",
        "      batch_size = int(math.ceil(len(x) / steps_per_epoch))\n",
        "    if batch_size is None:\n",
        "      raise ValueError(\"one of batch_size or steps_per_epoch must be provided when x list/array given.\")\n",
        "    y = tf.zeros((len(x),))  # fake y values\n",
        "    dataset = tf.data.Dataset.from_tensor_slices((x, y)).batch(batch_size)\n",
        "\n",
        "  # extract individual layer activations\n",
        "  monitoring_model = tf.keras.Model(inputs=model.inputs, outputs=[layer.output for layer in model.layers])\n",
        "  inputs, outputs = next(iter(dataset))\n",
        "  print(f\"inputs: {inputs.shape}\")\n",
        "  layer_outputs = monitoring_model(inputs)\n",
        "  print(f\"layer_outputs: {len(layer_outputs)}\")\n",
        "\n",
        "# with raw x\n",
        "do_stuff(model, train_X, batch_size=32)\n",
        "\n",
        "# with un-batched dataset\n",
        "dataset = tf.data.Dataset.from_tensor_slices((train_X, train_Y))\n",
        "do_stuff(model, dataset, batch_size=32)\n",
        "\n",
        "# with batched dataset\n",
        "dataset = tf.data.Dataset.from_tensor_slices((train_X, train_Y)).batch(32)\n",
        "do_stuff(model, dataset)"
      ],
      "metadata": {
        "colab": {
          "base_uri": "https://localhost:8080/"
        },
        "id": "WNIMGIraoEG2",
        "outputId": "aad62466-9712-4160-aa71-108be1cc5eb5"
      },
      "execution_count": 30,
      "outputs": [
        {
          "output_type": "stream",
          "name": "stdout",
          "text": [
            "inputs: (32, 2)\n",
            "layer_outputs: 7\n",
            "inputs: (32, 2)\n",
            "layer_outputs: 7\n",
            "inputs: (32, 2)\n",
            "layer_outputs: 7\n"
          ]
        }
      ]
    },
    {
      "cell_type": "code",
      "source": [],
      "metadata": {
        "id": "ddV8HwZM3qFa"
      },
      "execution_count": null,
      "outputs": []
    },
    {
      "cell_type": "markdown",
      "source": [
        "Now the real work."
      ],
      "metadata": {
        "id": "nmZMiJqkyLhN"
      }
    },
    {
      "cell_type": "code",
      "source": [
        "model.summary()"
      ],
      "metadata": {
        "colab": {
          "base_uri": "https://localhost:8080/",
          "height": 369
        },
        "id": "2DeSHZE-3rlC",
        "outputId": "8b87ac09-8def-4130-8e00-3b969719b007"
      },
      "execution_count": 48,
      "outputs": [
        {
          "output_type": "display_data",
          "data": {
            "text/plain": [
              "\u001b[1mModel: \"sequential_7\"\u001b[0m\n"
            ],
            "text/html": [
              "<pre style=\"white-space:pre;overflow-x:auto;line-height:normal;font-family:Menlo,'DejaVu Sans Mono',consolas,'Courier New',monospace\"><span style=\"font-weight: bold\">Model: \"sequential_7\"</span>\n",
              "</pre>\n"
            ]
          },
          "metadata": {}
        },
        {
          "output_type": "display_data",
          "data": {
            "text/plain": [
              "┏━━━━━━━━━━━━━━━━━━━━━━━━━━━━━━━━━━━━━━┳━━━━━━━━━━━━━━━━━━━━━━━━━━━━━┳━━━━━━━━━━━━━━━━━┓\n",
              "┃\u001b[1m \u001b[0m\u001b[1mLayer (type)                        \u001b[0m\u001b[1m \u001b[0m┃\u001b[1m \u001b[0m\u001b[1mOutput Shape               \u001b[0m\u001b[1m \u001b[0m┃\u001b[1m \u001b[0m\u001b[1m        Param #\u001b[0m\u001b[1m \u001b[0m┃\n",
              "┡━━━━━━━━━━━━━━━━━━━━━━━━━━━━━━━━━━━━━━╇━━━━━━━━━━━━━━━━━━━━━━━━━━━━━╇━━━━━━━━━━━━━━━━━┩\n",
              "│ dense_49 (\u001b[38;5;33mDense\u001b[0m)                     │ (\u001b[38;5;45mNone\u001b[0m, \u001b[38;5;34m100\u001b[0m)                 │             \u001b[38;5;34m300\u001b[0m │\n",
              "├──────────────────────────────────────┼─────────────────────────────┼─────────────────┤\n",
              "│ dense_50 (\u001b[38;5;33mDense\u001b[0m)                     │ (\u001b[38;5;45mNone\u001b[0m, \u001b[38;5;34m100\u001b[0m)                 │          \u001b[38;5;34m10,100\u001b[0m │\n",
              "├──────────────────────────────────────┼─────────────────────────────┼─────────────────┤\n",
              "│ dense_51 (\u001b[38;5;33mDense\u001b[0m)                     │ (\u001b[38;5;45mNone\u001b[0m, \u001b[38;5;34m100\u001b[0m)                 │          \u001b[38;5;34m10,100\u001b[0m │\n",
              "├──────────────────────────────────────┼─────────────────────────────┼─────────────────┤\n",
              "│ dense_52 (\u001b[38;5;33mDense\u001b[0m)                     │ (\u001b[38;5;45mNone\u001b[0m, \u001b[38;5;34m100\u001b[0m)                 │          \u001b[38;5;34m10,100\u001b[0m │\n",
              "├──────────────────────────────────────┼─────────────────────────────┼─────────────────┤\n",
              "│ dense_53 (\u001b[38;5;33mDense\u001b[0m)                     │ (\u001b[38;5;45mNone\u001b[0m, \u001b[38;5;34m100\u001b[0m)                 │          \u001b[38;5;34m10,100\u001b[0m │\n",
              "├──────────────────────────────────────┼─────────────────────────────┼─────────────────┤\n",
              "│ dense_54 (\u001b[38;5;33mDense\u001b[0m)                     │ (\u001b[38;5;45mNone\u001b[0m, \u001b[38;5;34m5\u001b[0m)                   │             \u001b[38;5;34m505\u001b[0m │\n",
              "├──────────────────────────────────────┼─────────────────────────────┼─────────────────┤\n",
              "│ dense_55 (\u001b[38;5;33mDense\u001b[0m)                     │ (\u001b[38;5;45mNone\u001b[0m, \u001b[38;5;34m1\u001b[0m)                   │               \u001b[38;5;34m6\u001b[0m │\n",
              "└──────────────────────────────────────┴─────────────────────────────┴─────────────────┘\n"
            ],
            "text/html": [
              "<pre style=\"white-space:pre;overflow-x:auto;line-height:normal;font-family:Menlo,'DejaVu Sans Mono',consolas,'Courier New',monospace\">┏━━━━━━━━━━━━━━━━━━━━━━━━━━━━━━━━━━━━━━┳━━━━━━━━━━━━━━━━━━━━━━━━━━━━━┳━━━━━━━━━━━━━━━━━┓\n",
              "┃<span style=\"font-weight: bold\"> Layer (type)                         </span>┃<span style=\"font-weight: bold\"> Output Shape                </span>┃<span style=\"font-weight: bold\">         Param # </span>┃\n",
              "┡━━━━━━━━━━━━━━━━━━━━━━━━━━━━━━━━━━━━━━╇━━━━━━━━━━━━━━━━━━━━━━━━━━━━━╇━━━━━━━━━━━━━━━━━┩\n",
              "│ dense_49 (<span style=\"color: #0087ff; text-decoration-color: #0087ff\">Dense</span>)                     │ (<span style=\"color: #00d7ff; text-decoration-color: #00d7ff\">None</span>, <span style=\"color: #00af00; text-decoration-color: #00af00\">100</span>)                 │             <span style=\"color: #00af00; text-decoration-color: #00af00\">300</span> │\n",
              "├──────────────────────────────────────┼─────────────────────────────┼─────────────────┤\n",
              "│ dense_50 (<span style=\"color: #0087ff; text-decoration-color: #0087ff\">Dense</span>)                     │ (<span style=\"color: #00d7ff; text-decoration-color: #00d7ff\">None</span>, <span style=\"color: #00af00; text-decoration-color: #00af00\">100</span>)                 │          <span style=\"color: #00af00; text-decoration-color: #00af00\">10,100</span> │\n",
              "├──────────────────────────────────────┼─────────────────────────────┼─────────────────┤\n",
              "│ dense_51 (<span style=\"color: #0087ff; text-decoration-color: #0087ff\">Dense</span>)                     │ (<span style=\"color: #00d7ff; text-decoration-color: #00d7ff\">None</span>, <span style=\"color: #00af00; text-decoration-color: #00af00\">100</span>)                 │          <span style=\"color: #00af00; text-decoration-color: #00af00\">10,100</span> │\n",
              "├──────────────────────────────────────┼─────────────────────────────┼─────────────────┤\n",
              "│ dense_52 (<span style=\"color: #0087ff; text-decoration-color: #0087ff\">Dense</span>)                     │ (<span style=\"color: #00d7ff; text-decoration-color: #00d7ff\">None</span>, <span style=\"color: #00af00; text-decoration-color: #00af00\">100</span>)                 │          <span style=\"color: #00af00; text-decoration-color: #00af00\">10,100</span> │\n",
              "├──────────────────────────────────────┼─────────────────────────────┼─────────────────┤\n",
              "│ dense_53 (<span style=\"color: #0087ff; text-decoration-color: #0087ff\">Dense</span>)                     │ (<span style=\"color: #00d7ff; text-decoration-color: #00d7ff\">None</span>, <span style=\"color: #00af00; text-decoration-color: #00af00\">100</span>)                 │          <span style=\"color: #00af00; text-decoration-color: #00af00\">10,100</span> │\n",
              "├──────────────────────────────────────┼─────────────────────────────┼─────────────────┤\n",
              "│ dense_54 (<span style=\"color: #0087ff; text-decoration-color: #0087ff\">Dense</span>)                     │ (<span style=\"color: #00d7ff; text-decoration-color: #00d7ff\">None</span>, <span style=\"color: #00af00; text-decoration-color: #00af00\">5</span>)                   │             <span style=\"color: #00af00; text-decoration-color: #00af00\">505</span> │\n",
              "├──────────────────────────────────────┼─────────────────────────────┼─────────────────┤\n",
              "│ dense_55 (<span style=\"color: #0087ff; text-decoration-color: #0087ff\">Dense</span>)                     │ (<span style=\"color: #00d7ff; text-decoration-color: #00d7ff\">None</span>, <span style=\"color: #00af00; text-decoration-color: #00af00\">1</span>)                   │               <span style=\"color: #00af00; text-decoration-color: #00af00\">6</span> │\n",
              "└──────────────────────────────────────┴─────────────────────────────┴─────────────────┘\n",
              "</pre>\n"
            ]
          },
          "metadata": {}
        },
        {
          "output_type": "display_data",
          "data": {
            "text/plain": [
              "\u001b[1m Total params: \u001b[0m\u001b[38;5;34m123,635\u001b[0m (482.95 KB)\n"
            ],
            "text/html": [
              "<pre style=\"white-space:pre;overflow-x:auto;line-height:normal;font-family:Menlo,'DejaVu Sans Mono',consolas,'Courier New',monospace\"><span style=\"font-weight: bold\"> Total params: </span><span style=\"color: #00af00; text-decoration-color: #00af00\">123,635</span> (482.95 KB)\n",
              "</pre>\n"
            ]
          },
          "metadata": {}
        },
        {
          "output_type": "display_data",
          "data": {
            "text/plain": [
              "\u001b[1m Trainable params: \u001b[0m\u001b[38;5;34m41,211\u001b[0m (160.98 KB)\n"
            ],
            "text/html": [
              "<pre style=\"white-space:pre;overflow-x:auto;line-height:normal;font-family:Menlo,'DejaVu Sans Mono',consolas,'Courier New',monospace\"><span style=\"font-weight: bold\"> Trainable params: </span><span style=\"color: #00af00; text-decoration-color: #00af00\">41,211</span> (160.98 KB)\n",
              "</pre>\n"
            ]
          },
          "metadata": {}
        },
        {
          "output_type": "display_data",
          "data": {
            "text/plain": [
              "\u001b[1m Non-trainable params: \u001b[0m\u001b[38;5;34m0\u001b[0m (0.00 B)\n"
            ],
            "text/html": [
              "<pre style=\"white-space:pre;overflow-x:auto;line-height:normal;font-family:Menlo,'DejaVu Sans Mono',consolas,'Courier New',monospace\"><span style=\"font-weight: bold\"> Non-trainable params: </span><span style=\"color: #00af00; text-decoration-color: #00af00\">0</span> (0.00 B)\n",
              "</pre>\n"
            ]
          },
          "metadata": {}
        },
        {
          "output_type": "display_data",
          "data": {
            "text/plain": [
              "\u001b[1m Optimizer params: \u001b[0m\u001b[38;5;34m82,424\u001b[0m (321.97 KB)\n"
            ],
            "text/html": [
              "<pre style=\"white-space:pre;overflow-x:auto;line-height:normal;font-family:Menlo,'DejaVu Sans Mono',consolas,'Courier New',monospace\"><span style=\"font-weight: bold\"> Optimizer params: </span><span style=\"color: #00af00; text-decoration-color: #00af00\">82,424</span> (321.97 KB)\n",
              "</pre>\n"
            ]
          },
          "metadata": {}
        }
      ]
    },
    {
      "cell_type": "code",
      "source": [
        "def measure_layer_activations(model, x, batch_size=None, steps_per_epoch=None):\n",
        "  \"\"\"\n",
        "  Args:\n",
        "    model: The model to evaluate.\n",
        "    x: Input data or dataset\n",
        "    batch_size: Batch size (at least one of this or steps_per_epoch required if x or dataset not already batched).\n",
        "    steps_per_epoch: Steps per epoch, required if dataset is unbatched.\n",
        "\n",
        "  Returns:\n",
        "    list of dict - dict of stats for each layer, containing:\n",
        "      dead_rate: fraction of units that are never active\n",
        "      activation_rate: mean fraction of units that are active at any given moment in time - having a non-zero output\n",
        "  \"\"\"\n",
        "\n",
        "  # handle variations in how data is supplied\n",
        "  if isinstance(x, tf.data.Dataset):\n",
        "    dataset = x\n",
        "    # ensure dataset has been batched\n",
        "    if not hasattr(dataset, \"_batch_size\"):\n",
        "      if batch_size is None and steps_per_epoch is not None:\n",
        "        batch_size = int(math.ceil(dataset.cardinality().numpy() / steps_per_epoch))\n",
        "      if batch_size is not None:\n",
        "        dataset = dataset.batch(batch_size)\n",
        "      else:\n",
        "        raise ValueError(\"dataset not batched and unable to infer batch size.\")\n",
        "  else:\n",
        "    if batch_size is None and steps_per_epoch is not None:\n",
        "      batch_size = int(math.ceil(len(x) / steps_per_epoch))\n",
        "    if batch_size is None:\n",
        "      raise ValueError(\"one of batch_size or steps_per_epoch must be provided when x list/array given.\")\n",
        "    y = tf.zeros((len(x),))  # fake y values\n",
        "    dataset = tf.data.Dataset.from_tensor_slices((x, y)).batch(batch_size)\n",
        "\n",
        "  # extract individual layer activations\n",
        "  monitoring_model = tf.keras.Model(inputs=model.inputs, outputs=[layer.output for layer in model.layers])\n",
        "  inputs, outputs = next(iter(dataset))\n",
        "  print(f\"inputs: {inputs.shape}\")\n",
        "  layer_outputs = monitoring_model(inputs)\n",
        "  print(f\"layer_outputs: {len(layer_outputs)} - {[l.shape for l in layer_outputs]}\")\n",
        "\n",
        "  def _compute_layer_stats(layer_output):\n",
        "    layer_shape = tf.shape(layer_output)\n",
        "    batch_and_spatial_count = tf.reduce_prod(layer_shape[:-1])\n",
        "    channel_count = layer_shape[-1]\n",
        "    active_outputs = tf.cast(tf.not_equal(layer_output, 0.0), tf.int32)\n",
        "    active_counts_by_channel = tf.reduce_sum(active_outputs, axis=tf.range(tf.rank(a)-1))\n",
        "    active_rates = active_counts_by_channel / batch_and_spatial_count\n",
        "    dead_channels = tf.reduce_sum(tf.cast(tf.equal(active_counts_by_channel, 0), tf.int32)) / channel_count\n",
        "    #print(f\"dead: {dead_channels}, active rates: {active_rates}\")\n",
        "    return {\n",
        "        'dead_rate': dead_channels.numpy(),\n",
        "        'activation_rate': tf.reduce_mean(active_rates).numpy()\n",
        "    }\n",
        "\n",
        "  def _compute_model_stats(layer_stats):\n",
        "    res = {}\n",
        "    for key in ['dead_rate', 'activation_rate']:\n",
        "      res[f\"min_{key}\"] = min([stats[key] for stats in layer_stats])\n",
        "      res[f\"max_{key}\"] = max([stats[key] for stats in layer_stats])\n",
        "      res[f\"mean_{key}\"] = np.mean([stats[key] for stats in layer_stats])\n",
        "    return res\n",
        "\n",
        "  layer_stats = [_compute_layer_stats(layer_output) for layer_output in layer_outputs]\n",
        "  model_stats = _compute_model_stats(layer_stats)\n",
        "  return model_stats, layer_stats\n",
        "\n",
        "\n",
        "dataset = tf.data.Dataset.from_tensor_slices((train_X, train_Y)).batch(32)\n",
        "measure_layer_activations(model, dataset)"
      ],
      "metadata": {
        "colab": {
          "base_uri": "https://localhost:8080/"
        },
        "id": "jK05Xa9ZobZW",
        "outputId": "3478a1c1-2926-4ff5-bea4-54ae6567b26f"
      },
      "execution_count": 58,
      "outputs": [
        {
          "output_type": "stream",
          "name": "stdout",
          "text": [
            "inputs: (32, 2)\n",
            "layer_outputs: 7 - [TensorShape([32, 100]), TensorShape([32, 100]), TensorShape([32, 100]), TensorShape([32, 100]), TensorShape([32, 100]), TensorShape([32, 5]), TensorShape([32, 1])]\n"
          ]
        },
        {
          "output_type": "execute_result",
          "data": {
            "text/plain": [
              "({'min_dead_rate': 0.0,\n",
              "  'max_dead_rate': 1.0,\n",
              "  'mean_dead_rate': 0.2642857142857143,\n",
              "  'min_activation_rate': 0.0,\n",
              "  'max_activation_rate': 1.0,\n",
              "  'mean_activation_rate': 0.4869196428571429},\n",
              " [{'dead_rate': 0.0, 'activation_rate': 0.4996875},\n",
              "  {'dead_rate': 0.13, 'activation_rate': 0.5159375},\n",
              "  {'dead_rate': 0.17, 'activation_rate': 0.50125},\n",
              "  {'dead_rate': 0.27, 'activation_rate': 0.4234375},\n",
              "  {'dead_rate': 0.28, 'activation_rate': 0.468125},\n",
              "  {'dead_rate': 1.0, 'activation_rate': 0.0},\n",
              "  {'dead_rate': 0.0, 'activation_rate': 1.0}])"
            ]
          },
          "metadata": {},
          "execution_count": 58
        }
      ]
    },
    {
      "cell_type": "code",
      "source": [
        "def compute_model_stats_step(layer_stats):\n",
        "  res = {}\n",
        "  for key in ['dead_rate', 'activation_rate']:\n",
        "    res[f\"min_{key}\"] = min([stats[key] for stats in layer_stats])\n",
        "    res[f\"max_{key}\"] = max([stats[key] for stats in layer_stats])\n",
        "    res[f\"mean_{key}\"] = np.mean([stats[key] for stats in layer_stats])\n",
        "  return res\n",
        "\n",
        "\n",
        "layer_stats = [\n",
        "    {\n",
        "        'dead_rate': 0.1,\n",
        "        'activation_rate': 0.9\n",
        "    },\n",
        "    {\n",
        "        'dead_rate': 0.3,\n",
        "        'activation_rate': 0.7\n",
        "    }\n",
        "]\n",
        "compute_model_stats_step(layer_stats)"
      ],
      "metadata": {
        "colab": {
          "base_uri": "https://localhost:8080/"
        },
        "id": "GCwB4Vpb-tPT",
        "outputId": "2f1d77e0-da7f-4e0a-c0e1-dc8e3e7fa8c5"
      },
      "execution_count": 56,
      "outputs": [
        {
          "output_type": "execute_result",
          "data": {
            "text/plain": [
              "{'min_dead_rate': 0.1,\n",
              " 'max_dead_rate': 0.3,\n",
              " 'mean_dead_rate': 0.2,\n",
              " 'min_activation_rate': 0.7,\n",
              " 'max_activation_rate': 0.9,\n",
              " 'mean_activation_rate': 0.8}"
            ]
          },
          "metadata": {},
          "execution_count": 56
        }
      ]
    },
    {
      "cell_type": "code",
      "source": [
        "def compute_model_stats(all_layer_stats):\n",
        "  pass\n",
        "\n",
        "\n",
        "layer_stats = [\n",
        "    {\n",
        "        'dead_rate': [0.0, 0.0, 0.1, 0.2, 0.3],\n",
        "        'activation_rate': [0.9, 0.8, 0.7, 0.6, 0.5]\n",
        "    },\n",
        "    {\n",
        "        'dead_rate': [0.0, 0.0, 0.0, 0.0, 0.1],\n",
        "        'activation_rate': [0.7, 0.6, 0.5, 0.4, 0.3]\n",
        "    }\n",
        "]\n",
        "compute_model_stats(layer_stats)\n"
      ],
      "metadata": {
        "id": "7vxv2cRz9nsX"
      },
      "execution_count": 52,
      "outputs": []
    },
    {
      "cell_type": "code",
      "source": [
        "a = tf.constant([[0.5, 0.0, 0.6], [-0.2, 0.9, 0.7]])\n",
        "tf.equal(a, 0.0)\n",
        "tf.reduce_sum(tf.cast(tf.equal(a, 0.0), tf.int32), axis=tf.range(tf.rank(a)-1))\n"
      ],
      "metadata": {
        "colab": {
          "base_uri": "https://localhost:8080/"
        },
        "id": "kmigdbvJ0GSA",
        "outputId": "c56e71e8-c695-4749-8056-4846f60158c3"
      },
      "execution_count": 41,
      "outputs": [
        {
          "output_type": "execute_result",
          "data": {
            "text/plain": [
              "<tf.Tensor: shape=(3,), dtype=int32, numpy=array([0, 1, 0], dtype=int32)>"
            ]
          },
          "metadata": {},
          "execution_count": 41
        }
      ]
    },
    {
      "cell_type": "code",
      "source": [
        "a = tf.constant([[0.5, 0.0, 0.6], [-0.2, 0.9, 0.7]])\n",
        "tf.size(a)"
      ],
      "metadata": {
        "colab": {
          "base_uri": "https://localhost:8080/"
        },
        "id": "vVIDQXzxydH1",
        "outputId": "c662793e-9340-4ece-a233-c971e6f278a9"
      },
      "execution_count": 43,
      "outputs": [
        {
          "output_type": "execute_result",
          "data": {
            "text/plain": [
              "<tf.Tensor: shape=(), dtype=int32, numpy=6>"
            ]
          },
          "metadata": {},
          "execution_count": 43
        }
      ]
    },
    {
      "cell_type": "code",
      "source": [],
      "metadata": {
        "id": "Kh--0EF-1vaL"
      },
      "execution_count": null,
      "outputs": []
    }
  ]
}